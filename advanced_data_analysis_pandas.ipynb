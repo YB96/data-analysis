{
  "cells": [
    {
      "cell_type": "markdown",
      "metadata": {
        "id": "view-in-github",
        "colab_type": "text"
      },
      "source": [
        "<a href=\"https://colab.research.google.com/github/YB96/data-analysis/blob/main/advanced_data_analysis_pandas.ipynb\" target=\"_parent\"><img src=\"https://colab.research.google.com/assets/colab-badge.svg\" alt=\"Open In Colab\"/></a>"
      ]
    },
    {
      "cell_type": "code",
      "execution_count": 2,
      "id": "2c359b48",
      "metadata": {
        "id": "2c359b48"
      },
      "outputs": [],
      "source": [
        "# Jovian Commit Essentials\n",
        "# Please retain and execute this cell without modifying the contents for `jovian.commit` to work\n",
        "!pip install jovian --upgrade -q\n",
        "import jovian\n",
        "jovian.set_project('advanced-data-analysis-pandas-3bddf')\n",
        "jovian.set_colab_id('1Jnt1bQkpfBg3cV_D-w0fgTXec9MyUZK7')"
      ]
    },
    {
      "cell_type": "markdown",
      "id": "11937366",
      "metadata": {
        "id": "11937366"
      },
      "source": [
        "# Advanced Data Analysis Techniques with Python & Pandas\n",
        "\n",
        "This tutorial is a part of the [Zero to Data Science Bootcamp by Jovian](https://zerotodatascience.com).\n",
        "\n",
        "![](https://i.imgur.com/jspPDKJ.png)\n",
        "\n",
        "Pandas is a popular Python library used for working in tabular data (similar to the data stored in a spreadsheet). Pandas offers several easy-to-use and efficient utilities for loading, processing, cleaning and analyzing large tabular datasets. Datasets containing millions of records can be processed using Pandas in a matter of minutes."
      ]
    },
    {
      "cell_type": "markdown",
      "id": "70698c54",
      "metadata": {
        "id": "70698c54"
      },
      "source": [
        "This tutorial covers the following topics:\n",
        "\n",
        "- Downloading datasets from online sources\n",
        "- Processing massive datasets using Pandas\n",
        "- Working with categorical data\n",
        "- Handling missing and duplicate data\n",
        "- Transforming data with type-specific functions\n",
        "- Data frame concatenation and merging"
      ]
    },
    {
      "cell_type": "markdown",
      "id": "9865a6c9",
      "metadata": {
        "id": "9865a6c9"
      },
      "source": [
        "### How to run the code\n",
        "\n",
        "This tutorial is an executable [Jupyter notebook](https://jupyter.org) hosted on [Jovian](https://www.jovian.ai). You can _run_ this tutorial and experiment with the code examples in a couple of ways: *using free online resources* (recommended) or *on your computer*.\n",
        "\n",
        "#### Option 1: Running using free online resources (1-click, recommended)\n",
        "\n",
        "The easiest way to start executing the code is to click the **Run** button at the top of this page and select **Run on Colab**. [Follow these instructions](https://jovian.ai/docs/user-guide/run.html#run-on-colab) to connect your Google Drive with Jovian.\n",
        "\n",
        "\n",
        "#### Option 2: Running on your computer locally\n",
        "\n",
        "To run the code on your computer locally, you'll need to set up [Python](https://www.python.org), download the notebook and install the required libraries. We recommend using the [Conda](https://docs.conda.io/projects/conda/en/latest/user-guide/install/) distribution of Python. Click the **Run** button at the top of this page, select the **Run Locally** option, and follow the instructions.\n",
        "\n",
        ">  **Jupyter Notebooks**: This tutorial is a [Jupyter notebook](https://jupyter.org) - a document made of _cells_. Each cell can contain code written in Python or explanations in plain English. You can execute code cells and view the results, e.g., numbers, messages, graphs, tables, files, etc., instantly within the notebook. Jupyter is a powerful platform for experimentation and analysis. Don't be afraid to mess around with the code & break things - you'll learn a lot by encountering and fixing errors. You can use the \"Kernel > Restart & Clear Output\" menu option to clear all outputs and start again from the top."
      ]
    },
    {
      "cell_type": "markdown",
      "id": "a2a65548",
      "metadata": {
        "id": "a2a65548"
      },
      "source": [
        "Let's install and import the required libraries."
      ]
    },
    {
      "cell_type": "code",
      "execution_count": 4,
      "id": "331cc355",
      "metadata": {
        "id": "331cc355"
      },
      "outputs": [],
      "source": [
        "#restart kernel after installation\n",
        "!pip install numpy pandas-profiling jovian --upgrade --quiet"
      ]
    },
    {
      "cell_type": "code",
      "execution_count": 5,
      "id": "5e4382b6",
      "metadata": {
        "id": "5e4382b6"
      },
      "outputs": [],
      "source": [
        "import pandas as pd\n",
        "import numpy as np\n",
        "import jovian"
      ]
    },
    {
      "cell_type": "markdown",
      "id": "ef3924bc",
      "metadata": {
        "id": "ef3924bc"
      },
      "source": [
        "## Finding and downloading datasets from online sources\n",
        "\n",
        "There are many great sources for finding datasets online:\n",
        "\n",
        "- [Kaggle datasets](http://kaggle.com/datasets)\n",
        "- [World Bank Open Data](https://data.worldbank.org)\n",
        "- [Yahoo Finance](https://finance.yahoo.com)\n",
        "- [Google Dataset Search](https://datasetsearch.research.google.com)\n",
        "- [UCI Machine Learning Repository](https://archive.ics.uci.edu/ml/datasets.php)\n",
        "- [FastAI datasets](https://course.fast.ai/datasets)\n",
        "- and many more..\n",
        "\n",
        "While some of these provide public URLs to an easily downloadable dataset archive, others require login to limit abuse. As an example, let's look at Kaggle, which contains over 60,000+ community curated datasets. We'll download the [US Accidents dataset](https://www.kaggle.com/sobhanmoosavi/us-accidents), which contains nearly 3 million records.\n",
        "\n",
        "\n",
        "We can't use `requests` directly to download a dataset from Kaggle, because it doesn't provide a raw URL for the dataset. We'll use the `opendatasets` library, which can download a Kaggle dataset using an API token."
      ]
    },
    {
      "cell_type": "code",
      "execution_count": 6,
      "id": "be8631c5",
      "metadata": {
        "id": "be8631c5"
      },
      "outputs": [],
      "source": [
        "!pip install opendatasets --upgrade --quiet"
      ]
    },
    {
      "cell_type": "code",
      "execution_count": 7,
      "id": "40e169dc",
      "metadata": {
        "id": "40e169dc"
      },
      "outputs": [],
      "source": [
        "import opendatasets as od"
      ]
    },
    {
      "cell_type": "markdown",
      "id": "6a28d846",
      "metadata": {
        "id": "6a28d846"
      },
      "source": [
        "We'll use the `od.download` function to download the dataset."
      ]
    },
    {
      "cell_type": "code",
      "execution_count": 8,
      "id": "98ba57b3",
      "metadata": {
        "colab": {
          "base_uri": "https://localhost:8080/"
        },
        "id": "98ba57b3",
        "outputId": "4e4be789-5ee4-47d1-b7ef-43f29424ba79"
      },
      "outputs": [
        {
          "output_type": "stream",
          "name": "stdout",
          "text": [
            "Help on function download in module opendatasets:\n",
            "\n",
            "download(dataset_id_or_url, data_dir='.', force=False, dry_run=False, **kwargs)\n",
            "\n"
          ]
        }
      ],
      "source": [
        "help(od.download)"
      ]
    },
    {
      "cell_type": "code",
      "execution_count": 9,
      "id": "4effd290",
      "metadata": {
        "id": "4effd290"
      },
      "outputs": [],
      "source": [
        "us_accidents_url = 'https://www.kaggle.com/sobhanmoosavi/us-accidents'"
      ]
    },
    {
      "cell_type": "code",
      "execution_count": 10,
      "id": "55b6f0d9",
      "metadata": {
        "colab": {
          "base_uri": "https://localhost:8080/"
        },
        "id": "55b6f0d9",
        "outputId": "d60c48e1-2b98-4d0a-c21b-ccdd68eb24e5"
      },
      "outputs": [
        {
          "output_type": "stream",
          "name": "stdout",
          "text": [
            "Please provide your Kaggle credentials to download this dataset. Learn more: http://bit.ly/kaggle-creds\n",
            "Your Kaggle username: yashbhairao\n",
            "Your Kaggle Key: ··········\n",
            "Downloading us-accidents.zip to ./us-accidents\n"
          ]
        },
        {
          "output_type": "stream",
          "name": "stderr",
          "text": [
            "100%|██████████| 117M/117M [00:03<00:00, 40.6MB/s]"
          ]
        },
        {
          "output_type": "stream",
          "name": "stdout",
          "text": [
            "\n"
          ]
        },
        {
          "output_type": "stream",
          "name": "stderr",
          "text": [
            "\n"
          ]
        }
      ],
      "source": [
        "od.download(us_accidents_url)"
      ]
    },
    {
      "cell_type": "markdown",
      "id": "2be117ea",
      "metadata": {
        "id": "2be117ea"
      },
      "source": [
        "To download the dataset, you'll need to supply your Kaggle credentials, as explained here: https://github.com/jovianml/opendatasets#kaggle-credentials\n",
        "\n",
        "The data has been downloaded and unzipped to the folder `./us-accidents`"
      ]
    },
    {
      "cell_type": "code",
      "execution_count": 11,
      "id": "1d972033",
      "metadata": {
        "colab": {
          "base_uri": "https://localhost:8080/"
        },
        "id": "1d972033",
        "outputId": "050d29f1-db75-45c1-e2dc-d91055f7e2df"
      },
      "outputs": [
        {
          "output_type": "stream",
          "name": "stdout",
          "text": [
            "total 543M\n",
            "-rw-r--r-- 1 root root 543M Dec  9 06:38 US_Accidents_Dec20_updated.csv\n"
          ]
        }
      ],
      "source": [
        "!ls -lh us-accidents"
      ]
    },
    {
      "cell_type": "markdown",
      "id": "88a6249d",
      "metadata": {
        "id": "88a6249d"
      },
      "source": [
        "It consists of just one file, `US_Accidents_Dec20_Updated.csv`, which is over 1 GB in size. We can also check the length of the file using the `wc` terminal command (only works on Linux and Mac)."
      ]
    },
    {
      "cell_type": "code",
      "execution_count": 13,
      "id": "c7390a72",
      "metadata": {
        "colab": {
          "base_uri": "https://localhost:8080/"
        },
        "id": "c7390a72",
        "outputId": "d3d2d838-c0cc-413b-bf20-5bfa465988ee"
      },
      "outputs": [
        {
          "output_type": "stream",
          "name": "stdout",
          "text": [
            "1516065 us-accidents/US_Accidents_Dec20_updated.csv\n"
          ]
        }
      ],
      "source": [
        "!wc -l us-accidents/US_Accidents_Dec20_updated.csv"
      ]
    },
    {
      "cell_type": "markdown",
      "id": "c451dcc8",
      "metadata": {
        "id": "c451dcc8"
      },
      "source": [
        "The file consists of over 2.9 million records! You can learn more about the dataset by reading the dataset description on Kaggle: https://www.kaggle.com/sobhanmoosavi/us-accidents .\n",
        "\n",
        "\n",
        "Try a downloading a few other datasets from the sources listed above."
      ]
    },
    {
      "cell_type": "markdown",
      "id": "5f38a622",
      "metadata": {
        "id": "5f38a622"
      },
      "source": [
        "> **EXERCISE**: Find and a download a dataset providing country-wise population for the last 50 years. Use it to identify the countries with the highest percentage growth in population. What other insights can you gather from this data? Experiment with it in a new notebook.\n",
        ">\n",
        "> *Hint*: Visit https://data.worldbank.org .\n",
        "\n"
      ]
    },
    {
      "cell_type": "code",
      "execution_count": null,
      "id": "4cb66dc1",
      "metadata": {
        "id": "4cb66dc1"
      },
      "outputs": [],
      "source": [
        ""
      ]
    },
    {
      "cell_type": "code",
      "execution_count": null,
      "id": "82864a31",
      "metadata": {
        "id": "82864a31"
      },
      "outputs": [],
      "source": [
        ""
      ]
    },
    {
      "cell_type": "code",
      "execution_count": null,
      "id": "2ba67108",
      "metadata": {
        "id": "2ba67108"
      },
      "outputs": [],
      "source": [
        ""
      ]
    },
    {
      "cell_type": "markdown",
      "id": "b0003b5c",
      "metadata": {
        "id": "b0003b5c"
      },
      "source": [
        "> **EXERCISE**: Download the historical monthly stock price data for Apple Inc. (AAPL) since 1988. If you had bought Apple shares worth $100 Jan 1, 1991, what would they be worth on Jan 1, 2021? What other insights can you gather from this data? Experiment with it in a new notebook.\n",
        ">\n",
        "> *Hint*: Visit https://finance.yahoo.com ."
      ]
    },
    {
      "cell_type": "code",
      "execution_count": null,
      "id": "2d5c1e37",
      "metadata": {
        "id": "2d5c1e37"
      },
      "outputs": [],
      "source": [
        ""
      ]
    },
    {
      "cell_type": "code",
      "execution_count": null,
      "id": "75225210",
      "metadata": {
        "id": "75225210"
      },
      "outputs": [],
      "source": [
        ""
      ]
    },
    {
      "cell_type": "code",
      "execution_count": null,
      "id": "cc515551",
      "metadata": {
        "id": "cc515551"
      },
      "outputs": [],
      "source": [
        ""
      ]
    },
    {
      "cell_type": "markdown",
      "id": "2fe8bb91",
      "metadata": {
        "id": "2fe8bb91"
      },
      "source": [
        "> **EXERCISE**: Learn about and download data set from https://archive.ics.uci.edu/ml/datasets/Air+quality . Show the trend of CO concentration using a line chart. What other insights can you gather from this data? Experiment with it in a new notebook."
      ]
    },
    {
      "cell_type": "code",
      "execution_count": null,
      "id": "ea6bb776",
      "metadata": {
        "id": "ea6bb776"
      },
      "outputs": [],
      "source": [
        ""
      ]
    },
    {
      "cell_type": "code",
      "execution_count": null,
      "id": "a4e65f53",
      "metadata": {
        "id": "a4e65f53"
      },
      "outputs": [],
      "source": [
        ""
      ]
    },
    {
      "cell_type": "code",
      "execution_count": null,
      "id": "63c94975",
      "metadata": {
        "id": "63c94975"
      },
      "outputs": [],
      "source": [
        ""
      ]
    },
    {
      "cell_type": "code",
      "execution_count": 14,
      "id": "2f0f348c",
      "metadata": {
        "colab": {
          "base_uri": "https://localhost:8080/",
          "height": 122
        },
        "id": "2f0f348c",
        "outputId": "825725cc-dcf8-4218-c750-8b7430f5690b"
      },
      "outputs": [
        {
          "output_type": "stream",
          "name": "stdout",
          "text": [
            "[jovian] Detected Colab notebook...\u001b[0m\n",
            "[jovian] Please enter your API key ( from https://jovian.ai/ ):\u001b[0m\n",
            "API KEY: ··········\n",
            "[jovian] Uploading colab notebook to Jovian...\u001b[0m\n",
            "Committed successfully! https://jovian.ai/yashchamp96/advanced-data-analysis-pandas-3bddf\n"
          ]
        },
        {
          "output_type": "execute_result",
          "data": {
            "application/vnd.google.colaboratory.intrinsic+json": {
              "type": "string"
            },
            "text/plain": [
              "'https://jovian.ai/yashchamp96/advanced-data-analysis-pandas-3bddf'"
            ]
          },
          "metadata": {},
          "execution_count": 14
        }
      ],
      "source": [
        "jovian.commit()"
      ]
    },
    {
      "cell_type": "markdown",
      "id": "92d20e1d",
      "metadata": {
        "id": "92d20e1d"
      },
      "source": [
        "## Processing massive datasets using Pandas\n",
        "\n",
        "Let's load the US accidents data into a Pandas dataframe, and track the amount of time it takes using the `%%time` Jupyter magic command."
      ]
    },
    {
      "cell_type": "code",
      "execution_count": 17,
      "id": "fb3c6a06",
      "metadata": {
        "id": "fb3c6a06"
      },
      "outputs": [],
      "source": [
        "us_accidents_csv = 'us-accidents/US_Accidents_Dec20_updated.csv'"
      ]
    },
    {
      "cell_type": "code",
      "execution_count": 18,
      "id": "cfc261f7",
      "metadata": {
        "colab": {
          "base_uri": "https://localhost:8080/"
        },
        "id": "cfc261f7",
        "outputId": "d6ed0f81-faf5-4717-8663-767d349c8ba3"
      },
      "outputs": [
        {
          "output_type": "stream",
          "name": "stdout",
          "text": [
            "CPU times: user 12.2 s, sys: 1.11 s, total: 13.3 s\n",
            "Wall time: 13.3 s\n"
          ]
        }
      ],
      "source": [
        "%%time\n",
        "accidents_df = pd.read_csv(us_accidents_csv)"
      ]
    },
    {
      "cell_type": "markdown",
      "id": "f5535504",
      "metadata": {
        "id": "f5535504"
      },
      "source": [
        "While the exact time for this operation depends on the hardware configuration of your computer, you will likely find that it takes less than a minute for Pandas for process a 1.1 GB containing over 2.9 million records. Isn't that impressive?\n",
        "\n",
        "\n",
        "Let's take a look at the first few rows, and gather some information about the dataset.\n",
        "\n"
      ]
    },
    {
      "cell_type": "code",
      "execution_count": 19,
      "id": "98663dce",
      "metadata": {
        "colab": {
          "base_uri": "https://localhost:8080/",
          "height": 434
        },
        "id": "98663dce",
        "outputId": "cb91036c-bf67-4088-c748-10456173929c"
      },
      "outputs": [
        {
          "output_type": "execute_result",
          "data": {
            "text/html": [
              "<div>\n",
              "<style scoped>\n",
              "    .dataframe tbody tr th:only-of-type {\n",
              "        vertical-align: middle;\n",
              "    }\n",
              "\n",
              "    .dataframe tbody tr th {\n",
              "        vertical-align: top;\n",
              "    }\n",
              "\n",
              "    .dataframe thead th {\n",
              "        text-align: right;\n",
              "    }\n",
              "</style>\n",
              "<table border=\"1\" class=\"dataframe\">\n",
              "  <thead>\n",
              "    <tr style=\"text-align: right;\">\n",
              "      <th></th>\n",
              "      <th>ID</th>\n",
              "      <th>Severity</th>\n",
              "      <th>Start_Time</th>\n",
              "      <th>End_Time</th>\n",
              "      <th>Start_Lat</th>\n",
              "      <th>Start_Lng</th>\n",
              "      <th>End_Lat</th>\n",
              "      <th>End_Lng</th>\n",
              "      <th>Distance(mi)</th>\n",
              "      <th>Description</th>\n",
              "      <th>Number</th>\n",
              "      <th>Street</th>\n",
              "      <th>Side</th>\n",
              "      <th>City</th>\n",
              "      <th>County</th>\n",
              "      <th>State</th>\n",
              "      <th>Zipcode</th>\n",
              "      <th>Country</th>\n",
              "      <th>Timezone</th>\n",
              "      <th>Airport_Code</th>\n",
              "      <th>Weather_Timestamp</th>\n",
              "      <th>Temperature(F)</th>\n",
              "      <th>Wind_Chill(F)</th>\n",
              "      <th>Humidity(%)</th>\n",
              "      <th>Pressure(in)</th>\n",
              "      <th>Visibility(mi)</th>\n",
              "      <th>Wind_Direction</th>\n",
              "      <th>Wind_Speed(mph)</th>\n",
              "      <th>Precipitation(in)</th>\n",
              "      <th>Weather_Condition</th>\n",
              "      <th>Amenity</th>\n",
              "      <th>Bump</th>\n",
              "      <th>Crossing</th>\n",
              "      <th>Give_Way</th>\n",
              "      <th>Junction</th>\n",
              "      <th>No_Exit</th>\n",
              "      <th>Railway</th>\n",
              "      <th>Roundabout</th>\n",
              "      <th>Station</th>\n",
              "      <th>Stop</th>\n",
              "      <th>Traffic_Calming</th>\n",
              "      <th>Traffic_Signal</th>\n",
              "      <th>Turning_Loop</th>\n",
              "      <th>Sunrise_Sunset</th>\n",
              "      <th>Civil_Twilight</th>\n",
              "      <th>Nautical_Twilight</th>\n",
              "      <th>Astronomical_Twilight</th>\n",
              "    </tr>\n",
              "  </thead>\n",
              "  <tbody>\n",
              "    <tr>\n",
              "      <th>0</th>\n",
              "      <td>A-2716600</td>\n",
              "      <td>3</td>\n",
              "      <td>2016-02-08 00:37:08</td>\n",
              "      <td>2016-02-08 06:37:08</td>\n",
              "      <td>40.10891</td>\n",
              "      <td>-83.09286</td>\n",
              "      <td>40.11206</td>\n",
              "      <td>-83.03187</td>\n",
              "      <td>3.230</td>\n",
              "      <td>Between Sawmill Rd/Exit 20 and OH-315/Olentang...</td>\n",
              "      <td>NaN</td>\n",
              "      <td>Outerbelt E</td>\n",
              "      <td>R</td>\n",
              "      <td>Dublin</td>\n",
              "      <td>Franklin</td>\n",
              "      <td>OH</td>\n",
              "      <td>43017</td>\n",
              "      <td>US</td>\n",
              "      <td>US/Eastern</td>\n",
              "      <td>KOSU</td>\n",
              "      <td>2016-02-08 00:53:00</td>\n",
              "      <td>42.1</td>\n",
              "      <td>36.1</td>\n",
              "      <td>58.0</td>\n",
              "      <td>29.76</td>\n",
              "      <td>10.0</td>\n",
              "      <td>SW</td>\n",
              "      <td>10.4</td>\n",
              "      <td>0.00</td>\n",
              "      <td>Light Rain</td>\n",
              "      <td>False</td>\n",
              "      <td>False</td>\n",
              "      <td>False</td>\n",
              "      <td>False</td>\n",
              "      <td>False</td>\n",
              "      <td>False</td>\n",
              "      <td>False</td>\n",
              "      <td>False</td>\n",
              "      <td>False</td>\n",
              "      <td>False</td>\n",
              "      <td>False</td>\n",
              "      <td>False</td>\n",
              "      <td>False</td>\n",
              "      <td>Night</td>\n",
              "      <td>Night</td>\n",
              "      <td>Night</td>\n",
              "      <td>Night</td>\n",
              "    </tr>\n",
              "    <tr>\n",
              "      <th>1</th>\n",
              "      <td>A-2716601</td>\n",
              "      <td>2</td>\n",
              "      <td>2016-02-08 05:56:20</td>\n",
              "      <td>2016-02-08 11:56:20</td>\n",
              "      <td>39.86542</td>\n",
              "      <td>-84.06280</td>\n",
              "      <td>39.86501</td>\n",
              "      <td>-84.04873</td>\n",
              "      <td>0.747</td>\n",
              "      <td>At OH-4/OH-235/Exit 41 - Accident.</td>\n",
              "      <td>NaN</td>\n",
              "      <td>I-70 E</td>\n",
              "      <td>R</td>\n",
              "      <td>Dayton</td>\n",
              "      <td>Montgomery</td>\n",
              "      <td>OH</td>\n",
              "      <td>45424</td>\n",
              "      <td>US</td>\n",
              "      <td>US/Eastern</td>\n",
              "      <td>KFFO</td>\n",
              "      <td>2016-02-08 05:58:00</td>\n",
              "      <td>36.9</td>\n",
              "      <td>NaN</td>\n",
              "      <td>91.0</td>\n",
              "      <td>29.68</td>\n",
              "      <td>10.0</td>\n",
              "      <td>Calm</td>\n",
              "      <td>NaN</td>\n",
              "      <td>0.02</td>\n",
              "      <td>Light Rain</td>\n",
              "      <td>False</td>\n",
              "      <td>False</td>\n",
              "      <td>False</td>\n",
              "      <td>False</td>\n",
              "      <td>False</td>\n",
              "      <td>False</td>\n",
              "      <td>False</td>\n",
              "      <td>False</td>\n",
              "      <td>False</td>\n",
              "      <td>False</td>\n",
              "      <td>False</td>\n",
              "      <td>False</td>\n",
              "      <td>False</td>\n",
              "      <td>Night</td>\n",
              "      <td>Night</td>\n",
              "      <td>Night</td>\n",
              "      <td>Night</td>\n",
              "    </tr>\n",
              "    <tr>\n",
              "      <th>2</th>\n",
              "      <td>A-2716602</td>\n",
              "      <td>2</td>\n",
              "      <td>2016-02-08 06:15:39</td>\n",
              "      <td>2016-02-08 12:15:39</td>\n",
              "      <td>39.10266</td>\n",
              "      <td>-84.52468</td>\n",
              "      <td>39.10209</td>\n",
              "      <td>-84.52396</td>\n",
              "      <td>0.055</td>\n",
              "      <td>At I-71/US-50/Exit 1 - Accident.</td>\n",
              "      <td>NaN</td>\n",
              "      <td>I-75 S</td>\n",
              "      <td>R</td>\n",
              "      <td>Cincinnati</td>\n",
              "      <td>Hamilton</td>\n",
              "      <td>OH</td>\n",
              "      <td>45203</td>\n",
              "      <td>US</td>\n",
              "      <td>US/Eastern</td>\n",
              "      <td>KLUK</td>\n",
              "      <td>2016-02-08 05:53:00</td>\n",
              "      <td>36.0</td>\n",
              "      <td>NaN</td>\n",
              "      <td>97.0</td>\n",
              "      <td>29.70</td>\n",
              "      <td>10.0</td>\n",
              "      <td>Calm</td>\n",
              "      <td>NaN</td>\n",
              "      <td>0.02</td>\n",
              "      <td>Overcast</td>\n",
              "      <td>False</td>\n",
              "      <td>False</td>\n",
              "      <td>False</td>\n",
              "      <td>False</td>\n",
              "      <td>True</td>\n",
              "      <td>False</td>\n",
              "      <td>False</td>\n",
              "      <td>False</td>\n",
              "      <td>False</td>\n",
              "      <td>False</td>\n",
              "      <td>False</td>\n",
              "      <td>False</td>\n",
              "      <td>False</td>\n",
              "      <td>Night</td>\n",
              "      <td>Night</td>\n",
              "      <td>Night</td>\n",
              "      <td>Day</td>\n",
              "    </tr>\n",
              "    <tr>\n",
              "      <th>3</th>\n",
              "      <td>A-2716603</td>\n",
              "      <td>2</td>\n",
              "      <td>2016-02-08 06:15:39</td>\n",
              "      <td>2016-02-08 12:15:39</td>\n",
              "      <td>39.10148</td>\n",
              "      <td>-84.52341</td>\n",
              "      <td>39.09841</td>\n",
              "      <td>-84.52241</td>\n",
              "      <td>0.219</td>\n",
              "      <td>At I-71/US-50/Exit 1 - Accident.</td>\n",
              "      <td>NaN</td>\n",
              "      <td>US-50 E</td>\n",
              "      <td>R</td>\n",
              "      <td>Cincinnati</td>\n",
              "      <td>Hamilton</td>\n",
              "      <td>OH</td>\n",
              "      <td>45202</td>\n",
              "      <td>US</td>\n",
              "      <td>US/Eastern</td>\n",
              "      <td>KLUK</td>\n",
              "      <td>2016-02-08 05:53:00</td>\n",
              "      <td>36.0</td>\n",
              "      <td>NaN</td>\n",
              "      <td>97.0</td>\n",
              "      <td>29.70</td>\n",
              "      <td>10.0</td>\n",
              "      <td>Calm</td>\n",
              "      <td>NaN</td>\n",
              "      <td>0.02</td>\n",
              "      <td>Overcast</td>\n",
              "      <td>False</td>\n",
              "      <td>False</td>\n",
              "      <td>False</td>\n",
              "      <td>False</td>\n",
              "      <td>True</td>\n",
              "      <td>False</td>\n",
              "      <td>False</td>\n",
              "      <td>False</td>\n",
              "      <td>False</td>\n",
              "      <td>False</td>\n",
              "      <td>False</td>\n",
              "      <td>False</td>\n",
              "      <td>False</td>\n",
              "      <td>Night</td>\n",
              "      <td>Night</td>\n",
              "      <td>Night</td>\n",
              "      <td>Day</td>\n",
              "    </tr>\n",
              "    <tr>\n",
              "      <th>4</th>\n",
              "      <td>A-2716604</td>\n",
              "      <td>2</td>\n",
              "      <td>2016-02-08 06:51:45</td>\n",
              "      <td>2016-02-08 12:51:45</td>\n",
              "      <td>41.06213</td>\n",
              "      <td>-81.53784</td>\n",
              "      <td>41.06217</td>\n",
              "      <td>-81.53547</td>\n",
              "      <td>0.123</td>\n",
              "      <td>At Dart Ave/Exit 21 - Accident.</td>\n",
              "      <td>NaN</td>\n",
              "      <td>I-77 N</td>\n",
              "      <td>R</td>\n",
              "      <td>Akron</td>\n",
              "      <td>Summit</td>\n",
              "      <td>OH</td>\n",
              "      <td>44311</td>\n",
              "      <td>US</td>\n",
              "      <td>US/Eastern</td>\n",
              "      <td>KAKR</td>\n",
              "      <td>2016-02-08 06:54:00</td>\n",
              "      <td>39.0</td>\n",
              "      <td>NaN</td>\n",
              "      <td>55.0</td>\n",
              "      <td>29.65</td>\n",
              "      <td>10.0</td>\n",
              "      <td>Calm</td>\n",
              "      <td>NaN</td>\n",
              "      <td>NaN</td>\n",
              "      <td>Overcast</td>\n",
              "      <td>False</td>\n",
              "      <td>False</td>\n",
              "      <td>False</td>\n",
              "      <td>False</td>\n",
              "      <td>False</td>\n",
              "      <td>False</td>\n",
              "      <td>False</td>\n",
              "      <td>False</td>\n",
              "      <td>False</td>\n",
              "      <td>False</td>\n",
              "      <td>False</td>\n",
              "      <td>False</td>\n",
              "      <td>False</td>\n",
              "      <td>Night</td>\n",
              "      <td>Night</td>\n",
              "      <td>Day</td>\n",
              "      <td>Day</td>\n",
              "    </tr>\n",
              "  </tbody>\n",
              "</table>\n",
              "</div>"
            ],
            "text/plain": [
              "          ID  Severity  ... Nautical_Twilight Astronomical_Twilight\n",
              "0  A-2716600         3  ...             Night                 Night\n",
              "1  A-2716601         2  ...             Night                 Night\n",
              "2  A-2716602         2  ...             Night                   Day\n",
              "3  A-2716603         2  ...             Night                   Day\n",
              "4  A-2716604         2  ...               Day                   Day\n",
              "\n",
              "[5 rows x 47 columns]"
            ]
          },
          "metadata": {},
          "execution_count": 19
        }
      ],
      "source": [
        "accidents_df.head()"
      ]
    },
    {
      "cell_type": "code",
      "execution_count": 20,
      "id": "7708a9e1",
      "metadata": {
        "scrolled": false,
        "colab": {
          "base_uri": "https://localhost:8080/"
        },
        "id": "7708a9e1",
        "outputId": "8cbc6bb2-1c44-4d86-bec7-53fc59f45fa3"
      },
      "outputs": [
        {
          "output_type": "stream",
          "name": "stdout",
          "text": [
            "<class 'pandas.core.frame.DataFrame'>\n",
            "RangeIndex: 1516064 entries, 0 to 1516063\n",
            "Data columns (total 47 columns):\n",
            " #   Column                 Non-Null Count    Dtype  \n",
            "---  ------                 --------------    -----  \n",
            " 0   ID                     1516064 non-null  object \n",
            " 1   Severity               1516064 non-null  int64  \n",
            " 2   Start_Time             1516064 non-null  object \n",
            " 3   End_Time               1516064 non-null  object \n",
            " 4   Start_Lat              1516064 non-null  float64\n",
            " 5   Start_Lng              1516064 non-null  float64\n",
            " 6   End_Lat                1516064 non-null  float64\n",
            " 7   End_Lng                1516064 non-null  float64\n",
            " 8   Distance(mi)           1516064 non-null  float64\n",
            " 9   Description            1516064 non-null  object \n",
            " 10  Number                 469969 non-null   float64\n",
            " 11  Street                 1516064 non-null  object \n",
            " 12  Side                   1516064 non-null  object \n",
            " 13  City                   1515981 non-null  object \n",
            " 14  County                 1516064 non-null  object \n",
            " 15  State                  1516064 non-null  object \n",
            " 16  Zipcode                1515129 non-null  object \n",
            " 17  Country                1516064 non-null  object \n",
            " 18  Timezone               1513762 non-null  object \n",
            " 19  Airport_Code           1511816 non-null  object \n",
            " 20  Weather_Timestamp      1485800 non-null  object \n",
            " 21  Temperature(F)         1473031 non-null  float64\n",
            " 22  Wind_Chill(F)          1066748 non-null  float64\n",
            " 23  Humidity(%)            1470555 non-null  float64\n",
            " 24  Pressure(in)           1479790 non-null  float64\n",
            " 25  Visibility(mi)         1471853 non-null  float64\n",
            " 26  Wind_Direction         1474206 non-null  object \n",
            " 27  Wind_Speed(mph)        1387202 non-null  float64\n",
            " 28  Precipitation(in)      1005515 non-null  float64\n",
            " 29  Weather_Condition      1472057 non-null  object \n",
            " 30  Amenity                1516064 non-null  bool   \n",
            " 31  Bump                   1516064 non-null  bool   \n",
            " 32  Crossing               1516064 non-null  bool   \n",
            " 33  Give_Way               1516064 non-null  bool   \n",
            " 34  Junction               1516064 non-null  bool   \n",
            " 35  No_Exit                1516064 non-null  bool   \n",
            " 36  Railway                1516064 non-null  bool   \n",
            " 37  Roundabout             1516064 non-null  bool   \n",
            " 38  Station                1516064 non-null  bool   \n",
            " 39  Stop                   1516064 non-null  bool   \n",
            " 40  Traffic_Calming        1516064 non-null  bool   \n",
            " 41  Traffic_Signal         1516064 non-null  bool   \n",
            " 42  Turning_Loop           1516064 non-null  bool   \n",
            " 43  Sunrise_Sunset         1515981 non-null  object \n",
            " 44  Civil_Twilight         1515981 non-null  object \n",
            " 45  Nautical_Twilight      1515981 non-null  object \n",
            " 46  Astronomical_Twilight  1515981 non-null  object \n",
            "dtypes: bool(13), float64(13), int64(1), object(20)\n",
            "memory usage: 412.1+ MB\n"
          ]
        }
      ],
      "source": [
        "accidents_df.info()"
      ]
    },
    {
      "cell_type": "markdown",
      "id": "741774d7",
      "metadata": {
        "id": "741774d7"
      },
      "source": [
        "The dataset contains 2.9 million rows, 46 columns and occupies 790 MB of memory (RAM). Let's look at some strategies to load the data faster and use less memory."
      ]
    },
    {
      "cell_type": "markdown",
      "id": "3efffd91",
      "metadata": {
        "id": "3efffd91"
      },
      "source": [
        "### Load only the required columns\n",
        "\n",
        "You can provide the `usecols` argument to `read_csv` create a dataframe with just the given columns. This reduces the loading time, and uses lesser memory."
      ]
    },
    {
      "cell_type": "code",
      "execution_count": 21,
      "id": "00a126d3",
      "metadata": {
        "id": "00a126d3"
      },
      "outputs": [],
      "source": [
        "selected_cols = ['Severity', 'Start_Time', 'End_Time', 'Start_Lat', 'Start_Lng',\n",
        "                 'End_Lat', 'End_Lng', 'Distance(mi)', 'Description', 'City', 'State', \n",
        "                 'Timezone', 'Weather_Condition']"
      ]
    },
    {
      "cell_type": "code",
      "execution_count": 22,
      "id": "9daade11",
      "metadata": {
        "colab": {
          "base_uri": "https://localhost:8080/"
        },
        "id": "9daade11",
        "outputId": "94fa556c-9199-4ebf-98c0-e155a05d12cc"
      },
      "outputs": [
        {
          "output_type": "stream",
          "name": "stdout",
          "text": [
            "CPU times: user 8.01 s, sys: 388 ms, total: 8.39 s\n",
            "Wall time: 8.41 s\n"
          ]
        }
      ],
      "source": [
        "%%time\n",
        "accidents_df2 = pd.read_csv(us_accidents_csv, usecols=selected_cols)"
      ]
    },
    {
      "cell_type": "code",
      "execution_count": 23,
      "id": "8ad61788",
      "metadata": {
        "scrolled": false,
        "colab": {
          "base_uri": "https://localhost:8080/"
        },
        "id": "8ad61788",
        "outputId": "dfedaa06-66a9-433d-c7dd-80be602285f0"
      },
      "outputs": [
        {
          "output_type": "stream",
          "name": "stdout",
          "text": [
            "<class 'pandas.core.frame.DataFrame'>\n",
            "RangeIndex: 1516064 entries, 0 to 1516063\n",
            "Data columns (total 13 columns):\n",
            " #   Column             Non-Null Count    Dtype  \n",
            "---  ------             --------------    -----  \n",
            " 0   Severity           1516064 non-null  int64  \n",
            " 1   Start_Time         1516064 non-null  object \n",
            " 2   End_Time           1516064 non-null  object \n",
            " 3   Start_Lat          1516064 non-null  float64\n",
            " 4   Start_Lng          1516064 non-null  float64\n",
            " 5   End_Lat            1516064 non-null  float64\n",
            " 6   End_Lng            1516064 non-null  float64\n",
            " 7   Distance(mi)       1516064 non-null  float64\n",
            " 8   Description        1516064 non-null  object \n",
            " 9   City               1515981 non-null  object \n",
            " 10  State              1516064 non-null  object \n",
            " 11  Timezone           1513762 non-null  object \n",
            " 12  Weather_Condition  1472057 non-null  object \n",
            "dtypes: float64(5), int64(1), object(7)\n",
            "memory usage: 150.4+ MB\n"
          ]
        }
      ],
      "source": [
        "accidents_df2.info()"
      ]
    },
    {
      "cell_type": "markdown",
      "id": "76b49dea",
      "metadata": {
        "id": "76b49dea"
      },
      "source": [
        "We've reduced the load time by over 40% and the memory usage by over 60%. "
      ]
    },
    {
      "cell_type": "code",
      "execution_count": 24,
      "id": "1c3d2854",
      "metadata": {
        "colab": {
          "base_uri": "https://localhost:8080/",
          "height": 434
        },
        "id": "1c3d2854",
        "outputId": "cd2420c5-d750-4c01-f283-0f06d79ffe0d"
      },
      "outputs": [
        {
          "output_type": "execute_result",
          "data": {
            "text/html": [
              "<div>\n",
              "<style scoped>\n",
              "    .dataframe tbody tr th:only-of-type {\n",
              "        vertical-align: middle;\n",
              "    }\n",
              "\n",
              "    .dataframe tbody tr th {\n",
              "        vertical-align: top;\n",
              "    }\n",
              "\n",
              "    .dataframe thead th {\n",
              "        text-align: right;\n",
              "    }\n",
              "</style>\n",
              "<table border=\"1\" class=\"dataframe\">\n",
              "  <thead>\n",
              "    <tr style=\"text-align: right;\">\n",
              "      <th></th>\n",
              "      <th>Severity</th>\n",
              "      <th>Start_Time</th>\n",
              "      <th>End_Time</th>\n",
              "      <th>Start_Lat</th>\n",
              "      <th>Start_Lng</th>\n",
              "      <th>End_Lat</th>\n",
              "      <th>End_Lng</th>\n",
              "      <th>Distance(mi)</th>\n",
              "      <th>Description</th>\n",
              "      <th>City</th>\n",
              "      <th>State</th>\n",
              "      <th>Timezone</th>\n",
              "      <th>Weather_Condition</th>\n",
              "    </tr>\n",
              "  </thead>\n",
              "  <tbody>\n",
              "    <tr>\n",
              "      <th>0</th>\n",
              "      <td>3</td>\n",
              "      <td>2016-02-08 00:37:08</td>\n",
              "      <td>2016-02-08 06:37:08</td>\n",
              "      <td>40.10891</td>\n",
              "      <td>-83.09286</td>\n",
              "      <td>40.11206</td>\n",
              "      <td>-83.03187</td>\n",
              "      <td>3.230</td>\n",
              "      <td>Between Sawmill Rd/Exit 20 and OH-315/Olentang...</td>\n",
              "      <td>Dublin</td>\n",
              "      <td>OH</td>\n",
              "      <td>US/Eastern</td>\n",
              "      <td>Light Rain</td>\n",
              "    </tr>\n",
              "    <tr>\n",
              "      <th>1</th>\n",
              "      <td>2</td>\n",
              "      <td>2016-02-08 05:56:20</td>\n",
              "      <td>2016-02-08 11:56:20</td>\n",
              "      <td>39.86542</td>\n",
              "      <td>-84.06280</td>\n",
              "      <td>39.86501</td>\n",
              "      <td>-84.04873</td>\n",
              "      <td>0.747</td>\n",
              "      <td>At OH-4/OH-235/Exit 41 - Accident.</td>\n",
              "      <td>Dayton</td>\n",
              "      <td>OH</td>\n",
              "      <td>US/Eastern</td>\n",
              "      <td>Light Rain</td>\n",
              "    </tr>\n",
              "    <tr>\n",
              "      <th>2</th>\n",
              "      <td>2</td>\n",
              "      <td>2016-02-08 06:15:39</td>\n",
              "      <td>2016-02-08 12:15:39</td>\n",
              "      <td>39.10266</td>\n",
              "      <td>-84.52468</td>\n",
              "      <td>39.10209</td>\n",
              "      <td>-84.52396</td>\n",
              "      <td>0.055</td>\n",
              "      <td>At I-71/US-50/Exit 1 - Accident.</td>\n",
              "      <td>Cincinnati</td>\n",
              "      <td>OH</td>\n",
              "      <td>US/Eastern</td>\n",
              "      <td>Overcast</td>\n",
              "    </tr>\n",
              "    <tr>\n",
              "      <th>3</th>\n",
              "      <td>2</td>\n",
              "      <td>2016-02-08 06:15:39</td>\n",
              "      <td>2016-02-08 12:15:39</td>\n",
              "      <td>39.10148</td>\n",
              "      <td>-84.52341</td>\n",
              "      <td>39.09841</td>\n",
              "      <td>-84.52241</td>\n",
              "      <td>0.219</td>\n",
              "      <td>At I-71/US-50/Exit 1 - Accident.</td>\n",
              "      <td>Cincinnati</td>\n",
              "      <td>OH</td>\n",
              "      <td>US/Eastern</td>\n",
              "      <td>Overcast</td>\n",
              "    </tr>\n",
              "    <tr>\n",
              "      <th>4</th>\n",
              "      <td>2</td>\n",
              "      <td>2016-02-08 06:51:45</td>\n",
              "      <td>2016-02-08 12:51:45</td>\n",
              "      <td>41.06213</td>\n",
              "      <td>-81.53784</td>\n",
              "      <td>41.06217</td>\n",
              "      <td>-81.53547</td>\n",
              "      <td>0.123</td>\n",
              "      <td>At Dart Ave/Exit 21 - Accident.</td>\n",
              "      <td>Akron</td>\n",
              "      <td>OH</td>\n",
              "      <td>US/Eastern</td>\n",
              "      <td>Overcast</td>\n",
              "    </tr>\n",
              "  </tbody>\n",
              "</table>\n",
              "</div>"
            ],
            "text/plain": [
              "   Severity           Start_Time  ...    Timezone  Weather_Condition\n",
              "0         3  2016-02-08 00:37:08  ...  US/Eastern         Light Rain\n",
              "1         2  2016-02-08 05:56:20  ...  US/Eastern         Light Rain\n",
              "2         2  2016-02-08 06:15:39  ...  US/Eastern           Overcast\n",
              "3         2  2016-02-08 06:15:39  ...  US/Eastern           Overcast\n",
              "4         2  2016-02-08 06:51:45  ...  US/Eastern           Overcast\n",
              "\n",
              "[5 rows x 13 columns]"
            ]
          },
          "metadata": {},
          "execution_count": 24
        }
      ],
      "source": [
        "accidents_df2.head()"
      ]
    },
    {
      "cell_type": "markdown",
      "id": "5aec2e88",
      "metadata": {
        "id": "5aec2e88"
      },
      "source": [
        "### Use smaller data types\n",
        "\n",
        "By default, Pandas uses large datatypes like `int64` and `float64` for numerical data. However, in many cases the data in the CSV file can be represented using a smaller data type such as `int32`, `float32`, `int16` etc. \n",
        "\n",
        "Date columns can be specified using the `parse_dates` argument.\n",
        " "
      ]
    },
    {
      "cell_type": "code",
      "execution_count": 25,
      "id": "361a6aae",
      "metadata": {
        "id": "361a6aae"
      },
      "outputs": [],
      "source": [
        "selected_cols = ['Severity', 'Start_Time', 'End_Time', 'Start_Lat', 'Start_Lng',\n",
        "                 'End_Lat', 'End_Lng', 'Distance(mi)', 'Description', 'City', \n",
        "                 'State', 'Timezone','Weather_Condition']\n",
        "\n",
        "selected_dtypes = {\n",
        "    'Severity': 'int16',\n",
        "    'Start_Lat': 'float32',\n",
        "    'Start_Lng': 'float32',\n",
        "    'End_Lat': 'float32',\n",
        "    'End_Lng': 'float32',\n",
        "    'Distance(mi)': 'float32'   \n",
        "}"
      ]
    },
    {
      "cell_type": "code",
      "execution_count": 26,
      "id": "9ce11b12",
      "metadata": {
        "colab": {
          "base_uri": "https://localhost:8080/"
        },
        "id": "9ce11b12",
        "outputId": "cee9c0b7-d9b1-48c8-9734-798ce09208cc"
      },
      "outputs": [
        {
          "output_type": "stream",
          "name": "stdout",
          "text": [
            "CPU times: user 8.01 s, sys: 354 ms, total: 8.36 s\n",
            "Wall time: 8.36 s\n"
          ]
        }
      ],
      "source": [
        "%%time\n",
        "accidents_df3 = pd.read_csv(us_accidents_csv, \n",
        "                            usecols=selected_cols, \n",
        "                            dtype=selected_dtypes, \n",
        "                            parse_dates=['Start_Time', 'End_Time'])"
      ]
    },
    {
      "cell_type": "code",
      "execution_count": 27,
      "id": "12cb8564",
      "metadata": {
        "colab": {
          "base_uri": "https://localhost:8080/"
        },
        "id": "12cb8564",
        "outputId": "c3278e4a-8a93-433a-d0b5-04419de76a55"
      },
      "outputs": [
        {
          "output_type": "stream",
          "name": "stdout",
          "text": [
            "<class 'pandas.core.frame.DataFrame'>\n",
            "RangeIndex: 1516064 entries, 0 to 1516063\n",
            "Data columns (total 13 columns):\n",
            " #   Column             Non-Null Count    Dtype         \n",
            "---  ------             --------------    -----         \n",
            " 0   Severity           1516064 non-null  int16         \n",
            " 1   Start_Time         1516064 non-null  datetime64[ns]\n",
            " 2   End_Time           1516064 non-null  datetime64[ns]\n",
            " 3   Start_Lat          1516064 non-null  float32       \n",
            " 4   Start_Lng          1516064 non-null  float32       \n",
            " 5   End_Lat            1516064 non-null  float32       \n",
            " 6   End_Lng            1516064 non-null  float32       \n",
            " 7   Distance(mi)       1516064 non-null  float32       \n",
            " 8   Description        1516064 non-null  object        \n",
            " 9   City               1515981 non-null  object        \n",
            " 10  State              1516064 non-null  object        \n",
            " 11  Timezone           1513762 non-null  object        \n",
            " 12  Weather_Condition  1472057 non-null  object        \n",
            "dtypes: datetime64[ns](2), float32(5), int16(1), object(5)\n",
            "memory usage: 112.8+ MB\n"
          ]
        }
      ],
      "source": [
        "accidents_df3.info()"
      ]
    },
    {
      "cell_type": "markdown",
      "id": "296396b0",
      "metadata": {
        "id": "296396b0"
      },
      "source": [
        "The load time and memory gains depend on the nature of the dataset. In this case, it leads to a 25% reduction in memory usage, with about the same load time. However, keep in mind that we no longer need to parse dates columns separately, which itself would take a few seconds for this dataset."
      ]
    },
    {
      "cell_type": "markdown",
      "id": "0d8121a2",
      "metadata": {
        "id": "0d8121a2"
      },
      "source": [
        "> **EXERCISE**: Parse the `Start_Time` and `End_Time` columns of `accidents_df2` as dates using `pd.to_datetime`. Measure the time taken for the conversion."
      ]
    },
    {
      "cell_type": "code",
      "execution_count": null,
      "id": "dc36c33a",
      "metadata": {
        "id": "dc36c33a"
      },
      "outputs": [],
      "source": [
        ""
      ]
    },
    {
      "cell_type": "markdown",
      "id": "896e2510",
      "metadata": {
        "id": "896e2510"
      },
      "source": [
        "### Using binary formats for intermediate results\n",
        "\n",
        "Since CSVs are plain text files with no structure, they often take longer to read compared to other binary formats which recognize the tabular structure of the data. Files can be saved and loaded using the `feather` and `parquet` formats for memory efficiency and faster processing.\n",
        "\n",
        "Let's save `accidents_df` to the feather format and load it back. It requires the `pyarrow` library to be installed."
      ]
    },
    {
      "cell_type": "code",
      "execution_count": 28,
      "id": "08ab6370",
      "metadata": {
        "colab": {
          "base_uri": "https://localhost:8080/"
        },
        "id": "08ab6370",
        "outputId": "7b3d936f-ecdc-4446-d10f-edec656c5b5e"
      },
      "outputs": [
        {
          "output_type": "stream",
          "name": "stdout",
          "text": [
            "\u001b[K     |████████████████████████████████| 25.6 MB 1.5 MB/s \n",
            "\u001b[?25h"
          ]
        }
      ],
      "source": [
        "!pip install pyarrow --upgrade --quiet"
      ]
    },
    {
      "cell_type": "code",
      "execution_count": 29,
      "id": "58a97a0f",
      "metadata": {
        "colab": {
          "base_uri": "https://localhost:8080/"
        },
        "id": "58a97a0f",
        "outputId": "141b79ef-91c6-436e-a006-b1ba26911c74"
      },
      "outputs": [
        {
          "output_type": "stream",
          "name": "stdout",
          "text": [
            "CPU times: user 3.19 s, sys: 1.1 s, total: 4.28 s\n",
            "Wall time: 3.43 s\n"
          ]
        }
      ],
      "source": [
        "%%time\n",
        "accidents_df.to_feather('us-accidents.feather')"
      ]
    },
    {
      "cell_type": "code",
      "execution_count": 30,
      "id": "9a6753ad",
      "metadata": {
        "colab": {
          "base_uri": "https://localhost:8080/"
        },
        "id": "9a6753ad",
        "outputId": "026cdd86-8b87-435a-8c56-8ed8ea226cc5"
      },
      "outputs": [
        {
          "output_type": "stream",
          "name": "stdout",
          "text": [
            "-rw-r--r-- 1 root root 289M Dec  9 06:57 us-accidents.feather\n"
          ]
        }
      ],
      "source": [
        "!ls -lh us-accidents.feather"
      ]
    },
    {
      "cell_type": "markdown",
      "id": "727a0808",
      "metadata": {
        "id": "727a0808"
      },
      "source": [
        "The feather file is over 40% smaller than the CSV file."
      ]
    },
    {
      "cell_type": "code",
      "execution_count": 31,
      "id": "1a8e33d8",
      "metadata": {
        "colab": {
          "base_uri": "https://localhost:8080/"
        },
        "id": "1a8e33d8",
        "outputId": "803a2d28-c55e-4e30-f439-07e1b7fe353e"
      },
      "outputs": [
        {
          "output_type": "stream",
          "name": "stdout",
          "text": [
            "CPU times: user 2.82 s, sys: 1.97 s, total: 4.79 s\n",
            "Wall time: 4.08 s\n"
          ]
        }
      ],
      "source": [
        "%%time\n",
        "accidents_df4 = pd.read_feather('us-accidents.feather')"
      ]
    },
    {
      "cell_type": "markdown",
      "id": "d8271457",
      "metadata": {
        "id": "d8271457"
      },
      "source": [
        "Notice that reading a feather file is 60% faster compared to reading a CSV file.  It's a good idea to save the intermediate results of your analysis in the feather format, so that you can load the file faster and avoid recomputing results when you resume your work.\n",
        "\n",
        "Check out a comparison of the feather and parquet formats here: https://ursalabs.org/blog/2020-feather-v2/"
      ]
    },
    {
      "cell_type": "markdown",
      "id": "967ec33f",
      "metadata": {
        "id": "967ec33f"
      },
      "source": [
        "### Working with a sample\n",
        "\n",
        "When working with a large dataset, sometimes it's better to work with a sample to set up your notebook, and then repeat your analysis with the entire dataset, to save time. You can use the `nrows` argument to supply the number of rows to be read."
      ]
    },
    {
      "cell_type": "code",
      "execution_count": 32,
      "id": "841edf10",
      "metadata": {
        "colab": {
          "base_uri": "https://localhost:8080/"
        },
        "id": "841edf10",
        "outputId": "e4e113c1-970c-4e16-f3c1-17c68d90fa52"
      },
      "outputs": [
        {
          "output_type": "stream",
          "name": "stdout",
          "text": [
            "CPU times: user 10.6 ms, sys: 6.04 ms, total: 16.6 ms\n",
            "Wall time: 17.8 ms\n"
          ]
        }
      ],
      "source": [
        "%%time\n",
        "accidents_sample_df = pd.read_csv(us_accidents_csv, \n",
        "                                  usecols=selected_cols, \n",
        "                                  dtype=selected_dtypes, \n",
        "                                  nrows=1000,\n",
        "                                  parse_dates=['Start_Time', 'End_Time'])"
      ]
    },
    {
      "cell_type": "markdown",
      "id": "f5cff471",
      "metadata": {
        "id": "f5cff471"
      },
      "source": [
        "Reading the first 1000 rows takes just a few milliseconds. "
      ]
    },
    {
      "cell_type": "markdown",
      "id": "380f90b5",
      "metadata": {
        "id": "380f90b5"
      },
      "source": [
        "### Using dask for parallelism and memory efficiency\n",
        "\n",
        "Dask uses parallel processing to speed up data loading."
      ]
    },
    {
      "cell_type": "code",
      "execution_count": 34,
      "id": "8008c660",
      "metadata": {
        "id": "8008c660"
      },
      "outputs": [],
      "source": [
        "!pip install \"dask[dataframe]\" --quiet --upgrade"
      ]
    },
    {
      "cell_type": "code",
      "execution_count": 35,
      "id": "e07a3e46",
      "metadata": {
        "id": "e07a3e46"
      },
      "outputs": [],
      "source": [
        "import dask.dataframe as dd"
      ]
    },
    {
      "cell_type": "code",
      "execution_count": 36,
      "id": "a0cebae2",
      "metadata": {
        "colab": {
          "base_uri": "https://localhost:8080/"
        },
        "id": "a0cebae2",
        "outputId": "469c4f1e-5323-4d74-acb5-22f3bc882969"
      },
      "outputs": [
        {
          "output_type": "stream",
          "name": "stdout",
          "text": [
            "CPU times: user 40.2 ms, sys: 2.97 ms, total: 43.2 ms\n",
            "Wall time: 56.8 ms\n"
          ]
        }
      ],
      "source": [
        "%%time\n",
        "accidents_dask_df = dd.read_csv(us_accidents_csv)"
      ]
    },
    {
      "cell_type": "markdown",
      "id": "1b1b318d",
      "metadata": {
        "id": "1b1b318d"
      },
      "source": [
        "Many Pandas operations implemented using more efficient algorithms in dask."
      ]
    },
    {
      "cell_type": "code",
      "execution_count": 37,
      "id": "624f7e7b",
      "metadata": {
        "colab": {
          "base_uri": "https://localhost:8080/"
        },
        "id": "624f7e7b",
        "outputId": "276ca446-7482-4fc1-9670-f24c66855492"
      },
      "outputs": [
        {
          "output_type": "stream",
          "name": "stdout",
          "text": [
            "<class 'dask.dataframe.core.DataFrame'>\n",
            "Columns: 47 entries, ID to Astronomical_Twilight\n",
            "dtypes: object(20), bool(13), float64(13), int64(1)"
          ]
        }
      ],
      "source": [
        "accidents_dask_df.info()"
      ]
    },
    {
      "cell_type": "markdown",
      "id": "5eac0dda",
      "metadata": {
        "id": "5eac0dda"
      },
      "source": [
        "To compute the memory usage, we need to provide `memory_usage=True`. Warning: This may take a while."
      ]
    },
    {
      "cell_type": "code",
      "execution_count": 38,
      "id": "fe838a0f",
      "metadata": {
        "colab": {
          "base_uri": "https://localhost:8080/"
        },
        "id": "fe838a0f",
        "outputId": "6ec47d65-7eb3-49c9-ef2d-5bd6332c6c45"
      },
      "outputs": [
        {
          "output_type": "stream",
          "name": "stdout",
          "text": [
            "<class 'dask.dataframe.core.DataFrame'>\n",
            "Columns: 47 entries, ID to Astronomical_Twilight\n",
            "dtypes: object(20), bool(13), float64(13), int64(1)\n",
            "memory usage: 412.1 MB\n",
            "CPU times: user 20.2 s, sys: 954 ms, total: 21.2 s\n",
            "Wall time: 14.5 s\n"
          ]
        }
      ],
      "source": [
        "%%time\n",
        "accidents_dask_df.info(memory_usage=True)"
      ]
    },
    {
      "cell_type": "markdown",
      "id": "caba090d",
      "metadata": {
        "id": "caba090d"
      },
      "source": [
        "Keep in mind that dask has a slightly different API compared to Pandas, and not all Pandas functions will work the same way. Check out the documentation of Dask to learn more: https://docs.dask.org/en/latest/dataframe.html"
      ]
    },
    {
      "cell_type": "code",
      "execution_count": null,
      "id": "b39146eb",
      "metadata": {
        "id": "b39146eb"
      },
      "outputs": [],
      "source": [
        ""
      ]
    },
    {
      "cell_type": "code",
      "execution_count": null,
      "id": "4d062ca8",
      "metadata": {
        "id": "4d062ca8"
      },
      "outputs": [],
      "source": [
        ""
      ]
    },
    {
      "cell_type": "code",
      "execution_count": null,
      "id": "85f1c8e7",
      "metadata": {
        "id": "85f1c8e7"
      },
      "outputs": [],
      "source": [
        ""
      ]
    },
    {
      "cell_type": "markdown",
      "id": "7dcd9100",
      "metadata": {
        "id": "7dcd9100"
      },
      "source": [
        "> **EXERCISE**: List the various file types supported by Pandas for reading & writing. Demonstrate their usage with some examples. Use the official documentation for reference: https://pandas.pydata.org/pandas-docs/stable/user_guide/io.html"
      ]
    },
    {
      "cell_type": "code",
      "execution_count": null,
      "id": "be41116d",
      "metadata": {
        "id": "be41116d"
      },
      "outputs": [],
      "source": [
        ""
      ]
    },
    {
      "cell_type": "code",
      "execution_count": null,
      "id": "95e8cd1b",
      "metadata": {
        "id": "95e8cd1b"
      },
      "outputs": [],
      "source": [
        ""
      ]
    },
    {
      "cell_type": "code",
      "execution_count": null,
      "id": "f4111798",
      "metadata": {
        "id": "f4111798"
      },
      "outputs": [],
      "source": [
        ""
      ]
    },
    {
      "cell_type": "markdown",
      "id": "427ae2ea",
      "metadata": {
        "id": "427ae2ea"
      },
      "source": [
        "> **EXERCISE**: Save the contents of `accidents_df3` into various file formats like CSV, JSON, HTML, Excel, SQLite, Parquet, Feather etc. and read the files back using Pandas. Compare the writing time, size of created file and reading time for different formats.\n"
      ]
    },
    {
      "cell_type": "code",
      "execution_count": null,
      "id": "95ed7f61",
      "metadata": {
        "id": "95ed7f61"
      },
      "outputs": [],
      "source": [
        ""
      ]
    },
    {
      "cell_type": "code",
      "execution_count": null,
      "id": "42e8ac43",
      "metadata": {
        "id": "42e8ac43"
      },
      "outputs": [],
      "source": [
        ""
      ]
    },
    {
      "cell_type": "code",
      "execution_count": null,
      "id": "6564040c",
      "metadata": {
        "id": "6564040c"
      },
      "outputs": [],
      "source": [
        ""
      ]
    },
    {
      "cell_type": "markdown",
      "id": "f94a7fe4",
      "metadata": {
        "id": "f94a7fe4"
      },
      "source": [
        "> **EXERCISE**: Download the New York Taxi Fare Prediction dataset from https://www.kaggle.com/c/new-york-city-taxi-fare-prediction/data . Pick 10 columns of the dataset and save it to an efficient intermediate format. How much improvement can you achieve in the file size, memory usage and reading time using the techniques listed above? \n",
        "> \n",
        "> *Warning*: This dataset is quite large (> 10 GB after uncompressing). Make sure you have enough disk space while before downloading it, or use an online platform like Google Colab."
      ]
    },
    {
      "cell_type": "code",
      "execution_count": null,
      "id": "216b3e0c",
      "metadata": {
        "id": "216b3e0c"
      },
      "outputs": [],
      "source": [
        ""
      ]
    },
    {
      "cell_type": "code",
      "execution_count": null,
      "id": "30f02576",
      "metadata": {
        "id": "30f02576"
      },
      "outputs": [],
      "source": [
        ""
      ]
    },
    {
      "cell_type": "code",
      "execution_count": null,
      "id": "46a15da1",
      "metadata": {
        "id": "46a15da1"
      },
      "outputs": [],
      "source": [
        ""
      ]
    },
    {
      "cell_type": "code",
      "execution_count": 39,
      "id": "89dcc2c8",
      "metadata": {
        "colab": {
          "base_uri": "https://localhost:8080/",
          "height": 87
        },
        "id": "89dcc2c8",
        "outputId": "80729f7b-5a11-4911-adb1-d4bec3e32feb"
      },
      "outputs": [
        {
          "output_type": "stream",
          "name": "stdout",
          "text": [
            "[jovian] Detected Colab notebook...\u001b[0m\n",
            "[jovian] Uploading colab notebook to Jovian...\u001b[0m\n",
            "Committed successfully! https://jovian.ai/yashchamp96/advanced-data-analysis-pandas-3bddf\n"
          ]
        },
        {
          "output_type": "execute_result",
          "data": {
            "application/vnd.google.colaboratory.intrinsic+json": {
              "type": "string"
            },
            "text/plain": [
              "'https://jovian.ai/yashchamp96/advanced-data-analysis-pandas-3bddf'"
            ]
          },
          "metadata": {},
          "execution_count": 39
        }
      ],
      "source": [
        "jovian.commit()"
      ]
    },
    {
      "cell_type": "markdown",
      "id": "f4d6a6bb",
      "metadata": {
        "id": "f4d6a6bb"
      },
      "source": [
        "## Working with  Categorical Data\n",
        "\n",
        "Consider the `Weather_Condition` column of the `accidents_sample_df`. While the values in the column are strings, there are only a limited number of values or _categories_ that occur in the column. `Weather_Condition` is a _categorical column_."
      ]
    },
    {
      "cell_type": "code",
      "execution_count": 40,
      "id": "dcff2354",
      "metadata": {
        "id": "dcff2354"
      },
      "outputs": [],
      "source": [
        "weather = accidents_sample_df.Weather_Condition"
      ]
    },
    {
      "cell_type": "code",
      "execution_count": 41,
      "id": "0a390f4e",
      "metadata": {
        "colab": {
          "base_uri": "https://localhost:8080/"
        },
        "id": "0a390f4e",
        "outputId": "a9c84166-6880-4df1-bebc-ddd08bd9f340"
      },
      "outputs": [
        {
          "output_type": "execute_result",
          "data": {
            "text/plain": [
              "0         Light Rain\n",
              "1         Light Rain\n",
              "2           Overcast\n",
              "3           Overcast\n",
              "4           Overcast\n",
              "           ...      \n",
              "995    Mostly Cloudy\n",
              "996    Mostly Cloudy\n",
              "997            Clear\n",
              "998            Clear\n",
              "999         Overcast\n",
              "Name: Weather_Condition, Length: 1000, dtype: object"
            ]
          },
          "metadata": {},
          "execution_count": 41
        }
      ],
      "source": [
        "weather"
      ]
    },
    {
      "cell_type": "markdown",
      "id": "0a627f55",
      "metadata": {
        "id": "0a627f55"
      },
      "source": [
        "We can list all the values in the column using the `.unique` method."
      ]
    },
    {
      "cell_type": "code",
      "execution_count": 42,
      "id": "ac103a56",
      "metadata": {
        "colab": {
          "base_uri": "https://localhost:8080/"
        },
        "id": "ac103a56",
        "outputId": "f80841b5-253d-490f-ce93-b4a85ca6f1e8"
      },
      "outputs": [
        {
          "output_type": "execute_result",
          "data": {
            "text/plain": [
              "array(['Light Rain', 'Overcast', 'Mostly Cloudy', 'Snow', 'Light Snow',\n",
              "       'Cloudy', nan, 'Scattered Clouds', 'Clear', 'Partly Cloudy',\n",
              "       'Light Freezing Drizzle', 'Light Drizzle', 'Haze', 'Rain',\n",
              "       'Heavy Rain', 'Fair', 'Drizzle', 'Fog', 'Thunderstorms and Rain'],\n",
              "      dtype=object)"
            ]
          },
          "metadata": {},
          "execution_count": 42
        }
      ],
      "source": [
        "weather.unique()"
      ]
    },
    {
      "cell_type": "markdown",
      "id": "d95d9abf",
      "metadata": {
        "id": "d95d9abf"
      },
      "source": [
        "To check the number of unique values, use `nunique`."
      ]
    },
    {
      "cell_type": "code",
      "execution_count": 43,
      "id": "3cf2baae",
      "metadata": {
        "colab": {
          "base_uri": "https://localhost:8080/"
        },
        "id": "3cf2baae",
        "outputId": "963da9d8-af83-4fab-8c99-783f99105a86"
      },
      "outputs": [
        {
          "output_type": "execute_result",
          "data": {
            "text/plain": [
              "18"
            ]
          },
          "metadata": {},
          "execution_count": 43
        }
      ],
      "source": [
        "weather.nunique()"
      ]
    },
    {
      "cell_type": "markdown",
      "id": "5c9965ed",
      "metadata": {
        "id": "5c9965ed"
      },
      "source": [
        "We can see the no. of occurrences of each value using `.value_counts()`"
      ]
    },
    {
      "cell_type": "code",
      "execution_count": 44,
      "id": "de9de1e4",
      "metadata": {
        "colab": {
          "base_uri": "https://localhost:8080/"
        },
        "id": "de9de1e4",
        "outputId": "0264d7ea-4680-400b-bc26-648d80696bfa"
      },
      "outputs": [
        {
          "output_type": "execute_result",
          "data": {
            "text/plain": [
              "Overcast                  337\n",
              "Clear                     203\n",
              "Light Snow                118\n",
              "Mostly Cloudy             107\n",
              "Light Rain                 57\n",
              "Scattered Clouds           56\n",
              "Partly Cloudy              43\n",
              "Rain                       27\n",
              "Haze                        9\n",
              "Snow                        6\n",
              "Light Drizzle               5\n",
              "Cloudy                      5\n",
              "Light Freezing Drizzle      5\n",
              "Drizzle                     5\n",
              "Heavy Rain                  3\n",
              "Fog                         2\n",
              "Fair                        2\n",
              "Thunderstorms and Rain      1\n",
              "Name: Weather_Condition, dtype: int64"
            ]
          },
          "metadata": {},
          "execution_count": 44
        }
      ],
      "source": [
        "weather.value_counts()"
      ]
    },
    {
      "cell_type": "markdown",
      "id": "88a8bb28",
      "metadata": {
        "id": "88a8bb28"
      },
      "source": [
        "We can convert the string column to a categorical column in Pandas by changing its data type."
      ]
    },
    {
      "cell_type": "code",
      "execution_count": 45,
      "id": "388f3a66",
      "metadata": {
        "id": "388f3a66"
      },
      "outputs": [],
      "source": [
        "accidents_sample_df['Weather_Condition'] = accidents_sample_df['Weather_Condition'].astype('category')"
      ]
    },
    {
      "cell_type": "code",
      "execution_count": 46,
      "id": "69ba61de",
      "metadata": {
        "colab": {
          "base_uri": "https://localhost:8080/"
        },
        "id": "69ba61de",
        "outputId": "01efe036-20d2-4542-c32b-c5d474cb50fe"
      },
      "outputs": [
        {
          "output_type": "execute_result",
          "data": {
            "text/plain": [
              "0         Light Rain\n",
              "1         Light Rain\n",
              "2           Overcast\n",
              "3           Overcast\n",
              "4           Overcast\n",
              "           ...      \n",
              "995    Mostly Cloudy\n",
              "996    Mostly Cloudy\n",
              "997            Clear\n",
              "998            Clear\n",
              "999         Overcast\n",
              "Name: Weather_Condition, Length: 1000, dtype: category\n",
              "Categories (18, object): ['Clear', 'Cloudy', 'Drizzle', 'Fair', ..., 'Rain', 'Scattered Clouds',\n",
              "                          'Snow', 'Thunderstorms and Rain']"
            ]
          },
          "metadata": {},
          "execution_count": 46
        }
      ],
      "source": [
        "accidents_sample_df['Weather_Condition']"
      ]
    },
    {
      "cell_type": "markdown",
      "id": "c2c5e092",
      "metadata": {
        "id": "c2c5e092"
      },
      "source": [
        "While there's no visible change, the conversion allows Pandas to optimize the storage & querying for the column by representing each category internally using a numeric code.\n",
        "\n",
        "We can view the codes for each row as follows:"
      ]
    },
    {
      "cell_type": "code",
      "execution_count": 47,
      "id": "de869649",
      "metadata": {
        "colab": {
          "base_uri": "https://localhost:8080/"
        },
        "id": "de869649",
        "outputId": "9d8e7cb7-dd02-412a-d613-37615d608f0b"
      },
      "outputs": [
        {
          "output_type": "execute_result",
          "data": {
            "text/plain": [
              "0       9\n",
              "1       9\n",
              "2      12\n",
              "3      12\n",
              "4      12\n",
              "       ..\n",
              "995    11\n",
              "996    11\n",
              "997     0\n",
              "998     0\n",
              "999    12\n",
              "Length: 1000, dtype: int8"
            ]
          },
          "metadata": {},
          "execution_count": 47
        }
      ],
      "source": [
        "accidents_sample_df['Weather_Condition'].cat.codes"
      ]
    },
    {
      "cell_type": "markdown",
      "id": "deeac522",
      "metadata": {
        "id": "deeac522"
      },
      "source": [
        "The category code is the index of the category in the following list:"
      ]
    },
    {
      "cell_type": "code",
      "execution_count": 48,
      "id": "d02ef4e1",
      "metadata": {
        "scrolled": true,
        "colab": {
          "base_uri": "https://localhost:8080/"
        },
        "id": "d02ef4e1",
        "outputId": "bd9ed94d-ea0e-426c-8b7e-dea3fa5df900"
      },
      "outputs": [
        {
          "output_type": "execute_result",
          "data": {
            "text/plain": [
              "Index(['Clear', 'Cloudy', 'Drizzle', 'Fair', 'Fog', 'Haze', 'Heavy Rain',\n",
              "       'Light Drizzle', 'Light Freezing Drizzle', 'Light Rain', 'Light Snow',\n",
              "       'Mostly Cloudy', 'Overcast', 'Partly Cloudy', 'Rain',\n",
              "       'Scattered Clouds', 'Snow', 'Thunderstorms and Rain'],\n",
              "      dtype='object')"
            ]
          },
          "metadata": {},
          "execution_count": 48
        }
      ],
      "source": [
        "accidents_sample_df['Weather_Condition'].cat.categories"
      ]
    },
    {
      "cell_type": "markdown",
      "id": "9d075dc4",
      "metadata": {
        "id": "9d075dc4"
      },
      "source": [
        "Categorical columns are often replaced with their numeric codes before passing data into a machine learning algorithm which can only work with numbers. "
      ]
    },
    {
      "cell_type": "markdown",
      "id": "37ed2e96",
      "metadata": {
        "id": "37ed2e96"
      },
      "source": [
        "### Numeric Categorical Columns\n",
        "\n",
        "The column `Severity` consists of categories too, even though its values are numeric."
      ]
    },
    {
      "cell_type": "code",
      "source": [
        "accidents_sample_df.Severity"
      ],
      "metadata": {
        "colab": {
          "base_uri": "https://localhost:8080/"
        },
        "id": "iiDqSkSfEOwi",
        "outputId": "49c26531-a27a-4557-d428-8c43bb6ea768"
      },
      "id": "iiDqSkSfEOwi",
      "execution_count": 61,
      "outputs": [
        {
          "output_type": "execute_result",
          "data": {
            "text/plain": [
              "0      3\n",
              "1      2\n",
              "2      2\n",
              "3      2\n",
              "4      2\n",
              "      ..\n",
              "995    2\n",
              "996    2\n",
              "997    2\n",
              "998    2\n",
              "999    2\n",
              "Name: Severity, Length: 1000, dtype: category\n",
              "Categories (3, int64): [2, 3, 4]"
            ]
          },
          "metadata": {},
          "execution_count": 61
        }
      ]
    },
    {
      "cell_type": "code",
      "execution_count": 49,
      "id": "823198c1",
      "metadata": {
        "colab": {
          "base_uri": "https://localhost:8080/"
        },
        "id": "823198c1",
        "outputId": "f9595694-a28b-49ec-b4ee-bfeb576f3036"
      },
      "outputs": [
        {
          "output_type": "execute_result",
          "data": {
            "text/plain": [
              "2    572\n",
              "4    232\n",
              "3    196\n",
              "Name: Severity, dtype: int64"
            ]
          },
          "metadata": {},
          "execution_count": 49
        }
      ],
      "source": [
        "accidents_sample_df.Severity.value_counts()"
      ]
    },
    {
      "cell_type": "markdown",
      "id": "a5c2b5df",
      "metadata": {
        "id": "a5c2b5df"
      },
      "source": [
        "Let's convert it into a categorical column."
      ]
    },
    {
      "cell_type": "code",
      "execution_count": 56,
      "id": "ac9e7028",
      "metadata": {
        "id": "ac9e7028"
      },
      "outputs": [],
      "source": [
        "accidents_sample_df.Severity = accidents_sample_df.Severity.astype('category')"
      ]
    },
    {
      "cell_type": "code",
      "execution_count": 57,
      "id": "5f3759c4",
      "metadata": {
        "colab": {
          "base_uri": "https://localhost:8080/"
        },
        "id": "5f3759c4",
        "outputId": "6ff08888-10bc-47f0-8de6-3898030528a5"
      },
      "outputs": [
        {
          "output_type": "execute_result",
          "data": {
            "text/plain": [
              "0      3\n",
              "1      2\n",
              "2      2\n",
              "3      2\n",
              "4      2\n",
              "      ..\n",
              "995    2\n",
              "996    2\n",
              "997    2\n",
              "998    2\n",
              "999    2\n",
              "Name: Severity, Length: 1000, dtype: category\n",
              "Categories (3, int64): [2, 3, 4]"
            ]
          },
          "metadata": {},
          "execution_count": 57
        }
      ],
      "source": [
        "accidents_sample_df.Severity"
      ]
    },
    {
      "cell_type": "code",
      "execution_count": 58,
      "id": "8386bac3",
      "metadata": {
        "colab": {
          "base_uri": "https://localhost:8080/"
        },
        "id": "8386bac3",
        "outputId": "79472a2e-51c5-4769-81d2-74c4da1f4a42"
      },
      "outputs": [
        {
          "output_type": "execute_result",
          "data": {
            "text/plain": [
              "Int64Index([2, 3, 4], dtype='int64')"
            ]
          },
          "metadata": {},
          "execution_count": 58
        }
      ],
      "source": [
        "y = accidents_sample_df.Severity.cat.categories\n",
        "y"
      ]
    },
    {
      "cell_type": "markdown",
      "id": "6d2f51d1",
      "metadata": {
        "id": "6d2f51d1"
      },
      "source": [
        "### One Hot Encoding\n",
        "\n",
        "![](https://i.imgur.com/n8GuiOO.png)\n",
        "\n",
        "Sometimes it's useful to create a new column for each category of a categorical column, and set the value in the column to `1` if row belongs to the category and `0` otherwise. This technique is known as one-hot encoding and is commonly applied before passing data into machine learning algorithms.\n",
        "\n",
        "We can use the `pd.get_dummies` function to create a new column for each category of a categorical column."
      ]
    },
    {
      "cell_type": "code",
      "execution_count": 62,
      "id": "47fc7b18",
      "metadata": {
        "colab": {
          "base_uri": "https://localhost:8080/"
        },
        "id": "47fc7b18",
        "outputId": "7656b00c-fc6d-49da-d00c-546d152f1a3d"
      },
      "outputs": [
        {
          "output_type": "execute_result",
          "data": {
            "text/plain": [
              "0      3\n",
              "1      2\n",
              "2      2\n",
              "3      2\n",
              "4      2\n",
              "      ..\n",
              "995    2\n",
              "996    2\n",
              "997    2\n",
              "998    2\n",
              "999    2\n",
              "Name: Severity, Length: 1000, dtype: category\n",
              "Categories (3, int64): [2, 3, 4]"
            ]
          },
          "metadata": {},
          "execution_count": 62
        }
      ],
      "source": [
        "accidents_sample_df.Severity"
      ]
    },
    {
      "cell_type": "code",
      "execution_count": 63,
      "id": "59c164d3",
      "metadata": {
        "colab": {
          "base_uri": "https://localhost:8080/",
          "height": 424
        },
        "id": "59c164d3",
        "outputId": "1a4d439b-e4cb-43f1-80e5-a8027abb54b1"
      },
      "outputs": [
        {
          "output_type": "execute_result",
          "data": {
            "text/html": [
              "<div>\n",
              "<style scoped>\n",
              "    .dataframe tbody tr th:only-of-type {\n",
              "        vertical-align: middle;\n",
              "    }\n",
              "\n",
              "    .dataframe tbody tr th {\n",
              "        vertical-align: top;\n",
              "    }\n",
              "\n",
              "    .dataframe thead th {\n",
              "        text-align: right;\n",
              "    }\n",
              "</style>\n",
              "<table border=\"1\" class=\"dataframe\">\n",
              "  <thead>\n",
              "    <tr style=\"text-align: right;\">\n",
              "      <th></th>\n",
              "      <th>2</th>\n",
              "      <th>3</th>\n",
              "      <th>4</th>\n",
              "    </tr>\n",
              "  </thead>\n",
              "  <tbody>\n",
              "    <tr>\n",
              "      <th>0</th>\n",
              "      <td>0</td>\n",
              "      <td>1</td>\n",
              "      <td>0</td>\n",
              "    </tr>\n",
              "    <tr>\n",
              "      <th>1</th>\n",
              "      <td>1</td>\n",
              "      <td>0</td>\n",
              "      <td>0</td>\n",
              "    </tr>\n",
              "    <tr>\n",
              "      <th>2</th>\n",
              "      <td>1</td>\n",
              "      <td>0</td>\n",
              "      <td>0</td>\n",
              "    </tr>\n",
              "    <tr>\n",
              "      <th>3</th>\n",
              "      <td>1</td>\n",
              "      <td>0</td>\n",
              "      <td>0</td>\n",
              "    </tr>\n",
              "    <tr>\n",
              "      <th>4</th>\n",
              "      <td>1</td>\n",
              "      <td>0</td>\n",
              "      <td>0</td>\n",
              "    </tr>\n",
              "    <tr>\n",
              "      <th>...</th>\n",
              "      <td>...</td>\n",
              "      <td>...</td>\n",
              "      <td>...</td>\n",
              "    </tr>\n",
              "    <tr>\n",
              "      <th>995</th>\n",
              "      <td>1</td>\n",
              "      <td>0</td>\n",
              "      <td>0</td>\n",
              "    </tr>\n",
              "    <tr>\n",
              "      <th>996</th>\n",
              "      <td>1</td>\n",
              "      <td>0</td>\n",
              "      <td>0</td>\n",
              "    </tr>\n",
              "    <tr>\n",
              "      <th>997</th>\n",
              "      <td>1</td>\n",
              "      <td>0</td>\n",
              "      <td>0</td>\n",
              "    </tr>\n",
              "    <tr>\n",
              "      <th>998</th>\n",
              "      <td>1</td>\n",
              "      <td>0</td>\n",
              "      <td>0</td>\n",
              "    </tr>\n",
              "    <tr>\n",
              "      <th>999</th>\n",
              "      <td>1</td>\n",
              "      <td>0</td>\n",
              "      <td>0</td>\n",
              "    </tr>\n",
              "  </tbody>\n",
              "</table>\n",
              "<p>1000 rows × 3 columns</p>\n",
              "</div>"
            ],
            "text/plain": [
              "     2  3  4\n",
              "0    0  1  0\n",
              "1    1  0  0\n",
              "2    1  0  0\n",
              "3    1  0  0\n",
              "4    1  0  0\n",
              "..  .. .. ..\n",
              "995  1  0  0\n",
              "996  1  0  0\n",
              "997  1  0  0\n",
              "998  1  0  0\n",
              "999  1  0  0\n",
              "\n",
              "[1000 rows x 3 columns]"
            ]
          },
          "metadata": {},
          "execution_count": 63
        }
      ],
      "source": [
        "severity_onehot_df = pd.get_dummies(accidents_sample_df.Severity)\n",
        "severity_onehot_df"
      ]
    },
    {
      "cell_type": "markdown",
      "id": "761d2472",
      "metadata": {
        "id": "761d2472"
      },
      "source": [
        "The new columns can be added to the original data frame using the `pd.concat` method (we'll learn more about it later)."
      ]
    },
    {
      "cell_type": "code",
      "execution_count": 64,
      "id": "a861615f",
      "metadata": {
        "colab": {
          "base_uri": "https://localhost:8080/",
          "height": 539
        },
        "id": "a861615f",
        "outputId": "11f656ec-4ed3-48e3-9e6f-eb6ca5c23858"
      },
      "outputs": [
        {
          "output_type": "execute_result",
          "data": {
            "text/html": [
              "<div>\n",
              "<style scoped>\n",
              "    .dataframe tbody tr th:only-of-type {\n",
              "        vertical-align: middle;\n",
              "    }\n",
              "\n",
              "    .dataframe tbody tr th {\n",
              "        vertical-align: top;\n",
              "    }\n",
              "\n",
              "    .dataframe thead th {\n",
              "        text-align: right;\n",
              "    }\n",
              "</style>\n",
              "<table border=\"1\" class=\"dataframe\">\n",
              "  <thead>\n",
              "    <tr style=\"text-align: right;\">\n",
              "      <th></th>\n",
              "      <th>Severity</th>\n",
              "      <th>Start_Time</th>\n",
              "      <th>End_Time</th>\n",
              "      <th>Start_Lat</th>\n",
              "      <th>Start_Lng</th>\n",
              "      <th>End_Lat</th>\n",
              "      <th>End_Lng</th>\n",
              "      <th>Distance(mi)</th>\n",
              "      <th>Description</th>\n",
              "      <th>City</th>\n",
              "      <th>State</th>\n",
              "      <th>Timezone</th>\n",
              "      <th>Weather_Condition</th>\n",
              "      <th>2</th>\n",
              "      <th>3</th>\n",
              "      <th>4</th>\n",
              "    </tr>\n",
              "  </thead>\n",
              "  <tbody>\n",
              "    <tr>\n",
              "      <th>772</th>\n",
              "      <td>2</td>\n",
              "      <td>2016-03-09 11:55:51</td>\n",
              "      <td>2016-03-09 17:55:51</td>\n",
              "      <td>39.056541</td>\n",
              "      <td>-84.542831</td>\n",
              "      <td>39.060349</td>\n",
              "      <td>-84.533173</td>\n",
              "      <td>0.581</td>\n",
              "      <td>At KY-1072/Kyles Ln/Exit 189 - Accident.</td>\n",
              "      <td>Covington</td>\n",
              "      <td>KY</td>\n",
              "      <td>US/Eastern</td>\n",
              "      <td>Clear</td>\n",
              "      <td>1</td>\n",
              "      <td>0</td>\n",
              "      <td>0</td>\n",
              "    </tr>\n",
              "    <tr>\n",
              "      <th>761</th>\n",
              "      <td>2</td>\n",
              "      <td>2016-03-09 07:24:16</td>\n",
              "      <td>2016-03-09 13:24:16</td>\n",
              "      <td>40.026642</td>\n",
              "      <td>-82.994400</td>\n",
              "      <td>40.012280</td>\n",
              "      <td>-82.992180</td>\n",
              "      <td>0.999</td>\n",
              "      <td>Between Weber Rd/Exit 113 and Hudson St/Exit 1...</td>\n",
              "      <td>Columbus</td>\n",
              "      <td>OH</td>\n",
              "      <td>US/Eastern</td>\n",
              "      <td>Mostly Cloudy</td>\n",
              "      <td>1</td>\n",
              "      <td>0</td>\n",
              "      <td>0</td>\n",
              "    </tr>\n",
              "    <tr>\n",
              "      <th>163</th>\n",
              "      <td>4</td>\n",
              "      <td>2016-02-14 18:02:32</td>\n",
              "      <td>2016-02-15 00:02:32</td>\n",
              "      <td>39.855690</td>\n",
              "      <td>-84.290794</td>\n",
              "      <td>39.864780</td>\n",
              "      <td>-84.202362</td>\n",
              "      <td>4.732</td>\n",
              "      <td>Closed between Hoke Rd/Exit 26 and I-75/Exit 3...</td>\n",
              "      <td>Englewood</td>\n",
              "      <td>OH</td>\n",
              "      <td>US/Eastern</td>\n",
              "      <td>Light Snow</td>\n",
              "      <td>0</td>\n",
              "      <td>0</td>\n",
              "      <td>1</td>\n",
              "    </tr>\n",
              "    <tr>\n",
              "      <th>759</th>\n",
              "      <td>4</td>\n",
              "      <td>2016-03-09 05:52:54</td>\n",
              "      <td>2016-03-09 11:52:54</td>\n",
              "      <td>39.961933</td>\n",
              "      <td>-81.175438</td>\n",
              "      <td>39.977322</td>\n",
              "      <td>-81.183327</td>\n",
              "      <td>1.142</td>\n",
              "      <td>Closed at Gobblers Knob Rd - Road closed due t...</td>\n",
              "      <td>Barnesville</td>\n",
              "      <td>OH</td>\n",
              "      <td>US/Eastern</td>\n",
              "      <td>Clear</td>\n",
              "      <td>0</td>\n",
              "      <td>0</td>\n",
              "      <td>1</td>\n",
              "    </tr>\n",
              "    <tr>\n",
              "      <th>70</th>\n",
              "      <td>3</td>\n",
              "      <td>2016-02-10 13:34:10</td>\n",
              "      <td>2016-02-10 19:34:10</td>\n",
              "      <td>41.501270</td>\n",
              "      <td>-81.480400</td>\n",
              "      <td>41.503109</td>\n",
              "      <td>-81.477448</td>\n",
              "      <td>0.199</td>\n",
              "      <td>At Brainard Rd/Cedar Rd/Exit 32 - Accident.</td>\n",
              "      <td>Cleveland</td>\n",
              "      <td>OH</td>\n",
              "      <td>US/Eastern</td>\n",
              "      <td>Light Snow</td>\n",
              "      <td>0</td>\n",
              "      <td>1</td>\n",
              "      <td>0</td>\n",
              "    </tr>\n",
              "  </tbody>\n",
              "</table>\n",
              "</div>"
            ],
            "text/plain": [
              "    Severity          Start_Time            End_Time  ...  2  3  4\n",
              "772        2 2016-03-09 11:55:51 2016-03-09 17:55:51  ...  1  0  0\n",
              "761        2 2016-03-09 07:24:16 2016-03-09 13:24:16  ...  1  0  0\n",
              "163        4 2016-02-14 18:02:32 2016-02-15 00:02:32  ...  0  0  1\n",
              "759        4 2016-03-09 05:52:54 2016-03-09 11:52:54  ...  0  0  1\n",
              "70         3 2016-02-10 13:34:10 2016-02-10 19:34:10  ...  0  1  0\n",
              "\n",
              "[5 rows x 16 columns]"
            ]
          },
          "metadata": {},
          "execution_count": 64
        }
      ],
      "source": [
        "combined_df = pd.concat((accidents_sample_df, severity_onehot_df), axis=1)\n",
        "combined_df.sample(5)"
      ]
    },
    {
      "cell_type": "markdown",
      "id": "4269e911",
      "metadata": {
        "id": "4269e911"
      },
      "source": [
        "> **EXERICSE**: Repeat the aboves steps with `accidents_df` and `accidents_dask_df`. Track and compare the times taken for each operation."
      ]
    },
    {
      "cell_type": "code",
      "execution_count": null,
      "id": "ab2a0af5",
      "metadata": {
        "id": "ab2a0af5"
      },
      "outputs": [],
      "source": [
        ""
      ]
    },
    {
      "cell_type": "code",
      "execution_count": null,
      "id": "17329d11",
      "metadata": {
        "id": "17329d11"
      },
      "outputs": [],
      "source": [
        ""
      ]
    },
    {
      "cell_type": "code",
      "execution_count": null,
      "id": "f247183d",
      "metadata": {
        "id": "f247183d"
      },
      "outputs": [],
      "source": [
        ""
      ]
    },
    {
      "cell_type": "markdown",
      "id": "ecd43773",
      "metadata": {
        "id": "ecd43773"
      },
      "source": [
        "> **EXERCISE**: Perform one-hot encoding for the `Weather_Condition` column of the dataframe `accidents_sample_df`."
      ]
    },
    {
      "cell_type": "code",
      "execution_count": null,
      "id": "1b4a03a7",
      "metadata": {
        "id": "1b4a03a7"
      },
      "outputs": [],
      "source": [
        ""
      ]
    },
    {
      "cell_type": "code",
      "execution_count": null,
      "id": "addad7f7",
      "metadata": {
        "id": "addad7f7"
      },
      "outputs": [],
      "source": [
        ""
      ]
    },
    {
      "cell_type": "code",
      "execution_count": null,
      "id": "0c43b6f1",
      "metadata": {
        "id": "0c43b6f1"
      },
      "outputs": [],
      "source": [
        ""
      ]
    },
    {
      "cell_type": "markdown",
      "id": "8cd63128",
      "metadata": {
        "id": "8cd63128"
      },
      "source": [
        "Learn more about working with categorical data in Pandas here: https://pandas.pydata.org/pandas-docs/stable/user_guide/categorical.html"
      ]
    },
    {
      "cell_type": "code",
      "execution_count": 65,
      "id": "fe453ce5",
      "metadata": {
        "colab": {
          "base_uri": "https://localhost:8080/",
          "height": 87
        },
        "id": "fe453ce5",
        "outputId": "3b40b4b4-7ed6-4559-a87a-f9ac62cce842"
      },
      "outputs": [
        {
          "output_type": "stream",
          "name": "stdout",
          "text": [
            "[jovian] Detected Colab notebook...\u001b[0m\n",
            "[jovian] Uploading colab notebook to Jovian...\u001b[0m\n",
            "Committed successfully! https://jovian.ai/yashchamp96/advanced-data-analysis-pandas-3bddf\n"
          ]
        },
        {
          "output_type": "execute_result",
          "data": {
            "application/vnd.google.colaboratory.intrinsic+json": {
              "type": "string"
            },
            "text/plain": [
              "'https://jovian.ai/yashchamp96/advanced-data-analysis-pandas-3bddf'"
            ]
          },
          "metadata": {},
          "execution_count": 65
        }
      ],
      "source": [
        "jovian.commit()"
      ]
    },
    {
      "cell_type": "markdown",
      "id": "e2c0544e",
      "metadata": {
        "id": "e2c0544e"
      },
      "source": [
        "## Handling missing & duplicate data\n",
        "\n",
        "Missing data in Pandas is indicate using `np.nan`. We can find the number of missing values in each column of a dataframe using the following expression: "
      ]
    },
    {
      "cell_type": "code",
      "execution_count": 66,
      "id": "188e2340",
      "metadata": {
        "colab": {
          "base_uri": "https://localhost:8080/"
        },
        "id": "188e2340",
        "outputId": "b200b810-4468-49d1-ea7a-a308c24a1c5b"
      },
      "outputs": [
        {
          "output_type": "execute_result",
          "data": {
            "text/plain": [
              "Severity             0\n",
              "Start_Time           0\n",
              "End_Time             0\n",
              "Start_Lat            0\n",
              "Start_Lng            0\n",
              "End_Lat              0\n",
              "End_Lng              0\n",
              "Distance(mi)         0\n",
              "Description          0\n",
              "City                 0\n",
              "State                0\n",
              "Timezone             0\n",
              "Weather_Condition    9\n",
              "dtype: int64"
            ]
          },
          "metadata": {},
          "execution_count": 66
        }
      ],
      "source": [
        "accidents_sample_df.isna().sum()"
      ]
    },
    {
      "cell_type": "markdown",
      "id": "99032b99",
      "metadata": {
        "id": "99032b99"
      },
      "source": [
        "The `End_Lat` and `End_Lng` columns have 96 missing values, and the `Weather_Condition` column as 21 missing values."
      ]
    },
    {
      "cell_type": "markdown",
      "id": "acb662af",
      "metadata": {
        "id": "acb662af"
      },
      "source": [
        "> **EXERCISE**: What is the output of the `isna` method of a Pandas data frame or series. Demonstrate with examples. "
      ]
    },
    {
      "cell_type": "code",
      "execution_count": null,
      "id": "135532fd",
      "metadata": {
        "id": "135532fd"
      },
      "outputs": [],
      "source": [
        ""
      ]
    },
    {
      "cell_type": "markdown",
      "id": "83c261f8",
      "metadata": {
        "id": "83c261f8"
      },
      "source": [
        "We have the following options for dealing with missing values in numerical columns:\n",
        "\n",
        "1. Leave them as is, if they won't affect your analysis\n",
        "2. Replace them with an average \n",
        "3. Replace them with some other fixed value\n",
        "4. Remove the rows containing missing values\n",
        "5. Use the values from other rows & columns to estimate the missing value (imputation)\n",
        "\n",
        "Here's how approach 4 can be applied:"
      ]
    },
    {
      "cell_type": "markdown",
      "id": "ed28915b",
      "metadata": {
        "id": "ed28915b"
      },
      "source": [
        "> **EXERCISE**: Replace the missing values in the columns `End_Lng` and `End_Lat` using the average value in each column. Hint: Use the function `.fillna`."
      ]
    },
    {
      "cell_type": "code",
      "execution_count": 78,
      "id": "f2b68d61",
      "metadata": {
        "id": "f2b68d61"
      },
      "outputs": [],
      "source": [
        "stopped = '01:20'"
      ]
    },
    {
      "cell_type": "code",
      "execution_count": null,
      "id": "fd9cbcb1",
      "metadata": {
        "id": "fd9cbcb1"
      },
      "outputs": [],
      "source": [
        ""
      ]
    },
    {
      "cell_type": "markdown",
      "id": "678f50f8",
      "metadata": {
        "id": "678f50f8"
      },
      "source": [
        "For categorical columns, we have the following options for dealing with missing values:\n",
        "\n",
        "1. Leave them as is, if they won't affect your analysis\n",
        "2. Create a new category for missing values\n",
        "3. Replace them with the most frequent category (or by some other fixed value)\n",
        "4. Replace them & add a new binary column indicating whether the value was missing\n",
        "5. Replace the columns with one-hot encoded columns"
      ]
    },
    {
      "cell_type": "code",
      "execution_count": null,
      "id": "f4995b5d",
      "metadata": {
        "id": "f4995b5d"
      },
      "outputs": [],
      "source": [
        "weather = accidents_sample_df.Weather_Condition"
      ]
    },
    {
      "cell_type": "code",
      "execution_count": null,
      "id": "549890c3",
      "metadata": {
        "id": "549890c3",
        "outputId": "a829383f-3ab0-48bb-a401-893fe0d1ae4f"
      },
      "outputs": [
        {
          "data": {
            "text/plain": [
              "21"
            ]
          },
          "execution_count": 57,
          "metadata": {},
          "output_type": "execute_result"
        }
      ],
      "source": [
        "weather.isna().sum()"
      ]
    },
    {
      "cell_type": "markdown",
      "id": "b022785c",
      "metadata": {
        "id": "b022785c"
      },
      "source": [
        "Let's apply technique 4 i.e. replace the null values with the most common value (the mode)"
      ]
    },
    {
      "cell_type": "code",
      "execution_count": 75,
      "id": "3a3d0b51",
      "metadata": {
        "id": "3a3d0b51"
      },
      "outputs": [],
      "source": [
        "# Create a copy of the original data frame\n",
        "temp_df = accidents_sample_df.copy()"
      ]
    },
    {
      "cell_type": "code",
      "execution_count": 76,
      "id": "55f91278",
      "metadata": {
        "id": "55f91278"
      },
      "outputs": [],
      "source": [
        "# Create a column to track missing values\n",
        "temp_df['Weather_Missing'] = temp_df.Weather_Condition.isna()"
      ]
    },
    {
      "cell_type": "code",
      "execution_count": 77,
      "id": "0906df03",
      "metadata": {
        "colab": {
          "base_uri": "https://localhost:8080/"
        },
        "id": "0906df03",
        "outputId": "f35c04ca-7892-4d84-9c93-f20b75f98f4e"
      },
      "outputs": [
        {
          "output_type": "execute_result",
          "data": {
            "text/plain": [
              "Overcast         337\n",
              "Clear            203\n",
              "Light Snow       118\n",
              "Mostly Cloudy    107\n",
              "Light Rain        57\n",
              "Name: Weather_Condition, dtype: int64"
            ]
          },
          "metadata": {},
          "execution_count": 77
        }
      ],
      "source": [
        "# Check the most frequently occuring values\n",
        "temp_df.Weather_Condition.value_counts().head(5)"
      ]
    },
    {
      "cell_type": "code",
      "execution_count": null,
      "id": "47c85e26",
      "metadata": {
        "id": "47c85e26",
        "outputId": "6c76a891-3085-483c-d717-1ff76794c464"
      },
      "outputs": [
        {
          "data": {
            "text/plain": [
              "'Fair'"
            ]
          },
          "execution_count": 65,
          "metadata": {},
          "output_type": "execute_result"
        }
      ],
      "source": [
        "## Get the single most frequently occurring value\n",
        "most_common_weather = temp_df.Weather_Condition.mode()[0]\n",
        "most_common_weather"
      ]
    },
    {
      "cell_type": "code",
      "execution_count": null,
      "id": "2b9d7a6a",
      "metadata": {
        "id": "2b9d7a6a"
      },
      "outputs": [],
      "source": [
        "# Replace missing values with the most frequent value\n",
        "temp_df.Weather_Condition.fillna(most_common_weather, inplace=True)"
      ]
    },
    {
      "cell_type": "code",
      "execution_count": null,
      "id": "e2e79716",
      "metadata": {
        "id": "e2e79716",
        "outputId": "750a7de8-7fde-49ac-8808-9d87ab6db1f7"
      },
      "outputs": [
        {
          "data": {
            "text/html": [
              "<div>\n",
              "<style scoped>\n",
              "    .dataframe tbody tr th:only-of-type {\n",
              "        vertical-align: middle;\n",
              "    }\n",
              "\n",
              "    .dataframe tbody tr th {\n",
              "        vertical-align: top;\n",
              "    }\n",
              "\n",
              "    .dataframe thead th {\n",
              "        text-align: right;\n",
              "    }\n",
              "</style>\n",
              "<table border=\"1\" class=\"dataframe\">\n",
              "  <thead>\n",
              "    <tr style=\"text-align: right;\">\n",
              "      <th></th>\n",
              "      <th>Severity</th>\n",
              "      <th>Start_Time</th>\n",
              "      <th>End_Time</th>\n",
              "      <th>Start_Lat</th>\n",
              "      <th>Start_Lng</th>\n",
              "      <th>End_Lat</th>\n",
              "      <th>End_Lng</th>\n",
              "      <th>Distance(mi)</th>\n",
              "      <th>Description</th>\n",
              "      <th>City</th>\n",
              "      <th>State</th>\n",
              "      <th>Timezone</th>\n",
              "      <th>Weather_Condition</th>\n",
              "      <th>Weather_Missing</th>\n",
              "    </tr>\n",
              "  </thead>\n",
              "  <tbody>\n",
              "    <tr>\n",
              "      <th>446</th>\n",
              "      <td>3</td>\n",
              "      <td>2018-09-25 21:02:21</td>\n",
              "      <td>2018-09-25 21:32:10</td>\n",
              "      <td>33.551689</td>\n",
              "      <td>-117.672981</td>\n",
              "      <td>33.551689</td>\n",
              "      <td>-117.672981</td>\n",
              "      <td>0.000</td>\n",
              "      <td>Lane blocked due to accident on I-5 Southbound...</td>\n",
              "      <td>Mission Viejo</td>\n",
              "      <td>CA</td>\n",
              "      <td>US/Pacific</td>\n",
              "      <td>Partly Cloudy</td>\n",
              "      <td>False</td>\n",
              "    </tr>\n",
              "    <tr>\n",
              "      <th>387</th>\n",
              "      <td>2</td>\n",
              "      <td>2018-10-28 10:39:11</td>\n",
              "      <td>2018-10-28 11:23:49</td>\n",
              "      <td>37.282066</td>\n",
              "      <td>-121.808708</td>\n",
              "      <td>37.282066</td>\n",
              "      <td>-121.808708</td>\n",
              "      <td>0.000</td>\n",
              "      <td>#2 lane blocked and right hand shoulder blocke...</td>\n",
              "      <td>San Jose</td>\n",
              "      <td>CA</td>\n",
              "      <td>US/Pacific</td>\n",
              "      <td>Scattered Clouds</td>\n",
              "      <td>False</td>\n",
              "    </tr>\n",
              "    <tr>\n",
              "      <th>5</th>\n",
              "      <td>3</td>\n",
              "      <td>2018-10-17 16:40:36</td>\n",
              "      <td>2018-10-17 17:10:18</td>\n",
              "      <td>35.348240</td>\n",
              "      <td>-80.847221</td>\n",
              "      <td>35.348240</td>\n",
              "      <td>-80.847221</td>\n",
              "      <td>0.000</td>\n",
              "      <td>Three lanes blocked due to accident on I-77 No...</td>\n",
              "      <td>Charlotte</td>\n",
              "      <td>NC</td>\n",
              "      <td>US/Eastern</td>\n",
              "      <td>Clear</td>\n",
              "      <td>False</td>\n",
              "    </tr>\n",
              "    <tr>\n",
              "      <th>320</th>\n",
              "      <td>2</td>\n",
              "      <td>2018-07-05 17:36:56</td>\n",
              "      <td>2018-07-05 23:36:56</td>\n",
              "      <td>33.996330</td>\n",
              "      <td>-117.927223</td>\n",
              "      <td>33.994061</td>\n",
              "      <td>-117.900612</td>\n",
              "      <td>1.532</td>\n",
              "      <td>Between Azusa Ave and Fullerton Rd - Accident.</td>\n",
              "      <td>Rowland Heights</td>\n",
              "      <td>CA</td>\n",
              "      <td>US/Pacific</td>\n",
              "      <td>Clear</td>\n",
              "      <td>False</td>\n",
              "    </tr>\n",
              "    <tr>\n",
              "      <th>152</th>\n",
              "      <td>3</td>\n",
              "      <td>2017-03-14 22:51:49</td>\n",
              "      <td>2017-03-14 23:21:30</td>\n",
              "      <td>30.424627</td>\n",
              "      <td>-97.671585</td>\n",
              "      <td>NaN</td>\n",
              "      <td>NaN</td>\n",
              "      <td>0.010</td>\n",
              "      <td>Accident on I-35 Service Rd Northbound at Exit...</td>\n",
              "      <td>Pflugerville</td>\n",
              "      <td>TX</td>\n",
              "      <td>US/Central</td>\n",
              "      <td>Clear</td>\n",
              "      <td>False</td>\n",
              "    </tr>\n",
              "  </tbody>\n",
              "</table>\n",
              "</div>"
            ],
            "text/plain": [
              "    Severity          Start_Time            End_Time  Start_Lat   Start_Lng  \\\n",
              "446        3 2018-09-25 21:02:21 2018-09-25 21:32:10  33.551689 -117.672981   \n",
              "387        2 2018-10-28 10:39:11 2018-10-28 11:23:49  37.282066 -121.808708   \n",
              "5          3 2018-10-17 16:40:36 2018-10-17 17:10:18  35.348240  -80.847221   \n",
              "320        2 2018-07-05 17:36:56 2018-07-05 23:36:56  33.996330 -117.927223   \n",
              "152        3 2017-03-14 22:51:49 2017-03-14 23:21:30  30.424627  -97.671585   \n",
              "\n",
              "       End_Lat     End_Lng  Distance(mi)  \\\n",
              "446  33.551689 -117.672981         0.000   \n",
              "387  37.282066 -121.808708         0.000   \n",
              "5    35.348240  -80.847221         0.000   \n",
              "320  33.994061 -117.900612         1.532   \n",
              "152        NaN         NaN         0.010   \n",
              "\n",
              "                                           Description             City State  \\\n",
              "446  Lane blocked due to accident on I-5 Southbound...    Mission Viejo    CA   \n",
              "387  #2 lane blocked and right hand shoulder blocke...         San Jose    CA   \n",
              "5    Three lanes blocked due to accident on I-77 No...        Charlotte    NC   \n",
              "320     Between Azusa Ave and Fullerton Rd - Accident.  Rowland Heights    CA   \n",
              "152  Accident on I-35 Service Rd Northbound at Exit...     Pflugerville    TX   \n",
              "\n",
              "       Timezone Weather_Condition  Weather_Missing  \n",
              "446  US/Pacific     Partly Cloudy            False  \n",
              "387  US/Pacific  Scattered Clouds            False  \n",
              "5    US/Eastern             Clear            False  \n",
              "320  US/Pacific             Clear            False  \n",
              "152  US/Central             Clear            False  "
            ]
          },
          "execution_count": 82,
          "metadata": {},
          "output_type": "execute_result"
        }
      ],
      "source": [
        "temp_df.sample(5)"
      ]
    },
    {
      "cell_type": "code",
      "execution_count": null,
      "id": "57c62e7c",
      "metadata": {
        "id": "57c62e7c",
        "outputId": "73ef3db9-a181-4170-d25e-5f4f0f60b00a"
      },
      "outputs": [
        {
          "data": {
            "text/plain": [
              "0"
            ]
          },
          "execution_count": 75,
          "metadata": {},
          "output_type": "execute_result"
        }
      ],
      "source": [
        "# Check for missing values again\n",
        "temp_df.Weather_Condition.isna().sum()"
      ]
    },
    {
      "cell_type": "code",
      "execution_count": null,
      "id": "29b975b6",
      "metadata": {
        "id": "29b975b6",
        "outputId": "de1ca701-c1e4-4cd0-bf54-d7108823d77a"
      },
      "outputs": [
        {
          "data": {
            "text/plain": [
              "Fair             273\n",
              "Clear            159\n",
              "Mostly Cloudy    134\n",
              "Partly Cloudy     95\n",
              "Cloudy            84\n",
              "Name: Weather_Condition, dtype: int64"
            ]
          },
          "execution_count": 76,
          "metadata": {},
          "output_type": "execute_result"
        }
      ],
      "source": [
        "# Check value counts\n",
        "temp_df.Weather_Condition.value_counts().head(5)"
      ]
    },
    {
      "cell_type": "markdown",
      "id": "36172ae8",
      "metadata": {
        "id": "36172ae8"
      },
      "source": [
        "> **EXERCISE**: Apply the other techniques listed above to handle missing values in the dataframe `accidents_sample_df`."
      ]
    },
    {
      "cell_type": "code",
      "execution_count": null,
      "id": "2ba8459f",
      "metadata": {
        "id": "2ba8459f"
      },
      "outputs": [],
      "source": [
        ""
      ]
    },
    {
      "cell_type": "code",
      "execution_count": null,
      "id": "15405d86",
      "metadata": {
        "id": "15405d86"
      },
      "outputs": [],
      "source": [
        ""
      ]
    },
    {
      "cell_type": "code",
      "execution_count": null,
      "id": "5e3e864b",
      "metadata": {
        "id": "5e3e864b"
      },
      "outputs": [],
      "source": [
        ""
      ]
    },
    {
      "cell_type": "markdown",
      "id": "88cc70e1",
      "metadata": {
        "id": "88cc70e1"
      },
      "source": [
        "> **EXERCISE**: Repeat the operations performed in the above section with `accidents_df` and `accidents_dask_df`. Measure and compare the time taken for each operation."
      ]
    },
    {
      "cell_type": "code",
      "execution_count": null,
      "id": "525af575",
      "metadata": {
        "id": "525af575"
      },
      "outputs": [],
      "source": [
        ""
      ]
    },
    {
      "cell_type": "code",
      "execution_count": null,
      "id": "1262fc82",
      "metadata": {
        "id": "1262fc82"
      },
      "outputs": [],
      "source": [
        ""
      ]
    },
    {
      "cell_type": "code",
      "execution_count": null,
      "id": "6b281359",
      "metadata": {
        "id": "6b281359"
      },
      "outputs": [],
      "source": [
        ""
      ]
    },
    {
      "cell_type": "code",
      "execution_count": null,
      "id": "7e705d60",
      "metadata": {
        "id": "7e705d60"
      },
      "outputs": [],
      "source": [
        "jovian.commit()"
      ]
    },
    {
      "cell_type": "markdown",
      "id": "a74c1459",
      "metadata": {
        "id": "a74c1459"
      },
      "source": [
        "### Duplicate Data"
      ]
    },
    {
      "cell_type": "code",
      "execution_count": null,
      "id": "78f84517",
      "metadata": {
        "id": "78f84517",
        "outputId": "edb32866-dbdf-4ebe-bac9-6a565863f87a"
      },
      "outputs": [
        {
          "data": {
            "text/plain": [
              "0"
            ]
          },
          "execution_count": 85,
          "metadata": {},
          "output_type": "execute_result"
        }
      ],
      "source": [
        "accidents_sample_df.duplicated().sum()"
      ]
    },
    {
      "cell_type": "code",
      "execution_count": null,
      "id": "0852b07f",
      "metadata": {
        "id": "0852b07f"
      },
      "outputs": [],
      "source": [
        "candies_df = pd.DataFrame({\n",
        "    'brand': ['Yum Yum', 'Yum Yum', 'Indomie', 'Indomie', 'Indomie'],\n",
        "    'style': ['cup', 'cup', 'cup', 'pack', 'pack'],\n",
        "    'rating': [4, 4, 3.5, 15, 5]\n",
        "})"
      ]
    },
    {
      "cell_type": "code",
      "execution_count": null,
      "id": "9c7fcdb0",
      "metadata": {
        "id": "9c7fcdb0",
        "outputId": "7a17be76-3a4d-4f5c-eb1f-8f0baa1ab318"
      },
      "outputs": [
        {
          "data": {
            "text/html": [
              "<div>\n",
              "<style scoped>\n",
              "    .dataframe tbody tr th:only-of-type {\n",
              "        vertical-align: middle;\n",
              "    }\n",
              "\n",
              "    .dataframe tbody tr th {\n",
              "        vertical-align: top;\n",
              "    }\n",
              "\n",
              "    .dataframe thead th {\n",
              "        text-align: right;\n",
              "    }\n",
              "</style>\n",
              "<table border=\"1\" class=\"dataframe\">\n",
              "  <thead>\n",
              "    <tr style=\"text-align: right;\">\n",
              "      <th></th>\n",
              "      <th>brand</th>\n",
              "      <th>style</th>\n",
              "      <th>rating</th>\n",
              "    </tr>\n",
              "  </thead>\n",
              "  <tbody>\n",
              "    <tr>\n",
              "      <th>0</th>\n",
              "      <td>Yum Yum</td>\n",
              "      <td>cup</td>\n",
              "      <td>4.0</td>\n",
              "    </tr>\n",
              "    <tr>\n",
              "      <th>1</th>\n",
              "      <td>Yum Yum</td>\n",
              "      <td>cup</td>\n",
              "      <td>4.0</td>\n",
              "    </tr>\n",
              "    <tr>\n",
              "      <th>2</th>\n",
              "      <td>Indomie</td>\n",
              "      <td>cup</td>\n",
              "      <td>3.5</td>\n",
              "    </tr>\n",
              "    <tr>\n",
              "      <th>3</th>\n",
              "      <td>Indomie</td>\n",
              "      <td>pack</td>\n",
              "      <td>15.0</td>\n",
              "    </tr>\n",
              "    <tr>\n",
              "      <th>4</th>\n",
              "      <td>Indomie</td>\n",
              "      <td>pack</td>\n",
              "      <td>5.0</td>\n",
              "    </tr>\n",
              "  </tbody>\n",
              "</table>\n",
              "</div>"
            ],
            "text/plain": [
              "     brand style  rating\n",
              "0  Yum Yum   cup     4.0\n",
              "1  Yum Yum   cup     4.0\n",
              "2  Indomie   cup     3.5\n",
              "3  Indomie  pack    15.0\n",
              "4  Indomie  pack     5.0"
            ]
          },
          "execution_count": 88,
          "metadata": {},
          "output_type": "execute_result"
        }
      ],
      "source": [
        "candies_df"
      ]
    },
    {
      "cell_type": "code",
      "execution_count": null,
      "id": "23d47401",
      "metadata": {
        "id": "23d47401",
        "outputId": "291a25ff-7fcd-4e5e-d4bd-ce3be0e1f29c"
      },
      "outputs": [
        {
          "data": {
            "text/plain": [
              "0    False\n",
              "1     True\n",
              "2    False\n",
              "3    False\n",
              "4    False\n",
              "dtype: bool"
            ]
          },
          "execution_count": 87,
          "metadata": {},
          "output_type": "execute_result"
        }
      ],
      "source": [
        "candies_df.duplicated()"
      ]
    },
    {
      "cell_type": "markdown",
      "id": "cc91d36c",
      "metadata": {
        "id": "cc91d36c"
      },
      "source": [
        "If required, duplicate rows can be removed using the `.drop_duplicates` method."
      ]
    },
    {
      "cell_type": "code",
      "execution_count": null,
      "id": "57961102",
      "metadata": {
        "id": "57961102",
        "outputId": "90006843-876d-4c41-9b16-b6735835c163"
      },
      "outputs": [
        {
          "data": {
            "text/html": [
              "<div>\n",
              "<style scoped>\n",
              "    .dataframe tbody tr th:only-of-type {\n",
              "        vertical-align: middle;\n",
              "    }\n",
              "\n",
              "    .dataframe tbody tr th {\n",
              "        vertical-align: top;\n",
              "    }\n",
              "\n",
              "    .dataframe thead th {\n",
              "        text-align: right;\n",
              "    }\n",
              "</style>\n",
              "<table border=\"1\" class=\"dataframe\">\n",
              "  <thead>\n",
              "    <tr style=\"text-align: right;\">\n",
              "      <th></th>\n",
              "      <th>brand</th>\n",
              "      <th>style</th>\n",
              "      <th>rating</th>\n",
              "    </tr>\n",
              "  </thead>\n",
              "  <tbody>\n",
              "    <tr>\n",
              "      <th>0</th>\n",
              "      <td>Yum Yum</td>\n",
              "      <td>cup</td>\n",
              "      <td>4.0</td>\n",
              "    </tr>\n",
              "    <tr>\n",
              "      <th>2</th>\n",
              "      <td>Indomie</td>\n",
              "      <td>cup</td>\n",
              "      <td>3.5</td>\n",
              "    </tr>\n",
              "    <tr>\n",
              "      <th>3</th>\n",
              "      <td>Indomie</td>\n",
              "      <td>pack</td>\n",
              "      <td>15.0</td>\n",
              "    </tr>\n",
              "    <tr>\n",
              "      <th>4</th>\n",
              "      <td>Indomie</td>\n",
              "      <td>pack</td>\n",
              "      <td>5.0</td>\n",
              "    </tr>\n",
              "  </tbody>\n",
              "</table>\n",
              "</div>"
            ],
            "text/plain": [
              "     brand style  rating\n",
              "0  Yum Yum   cup     4.0\n",
              "2  Indomie   cup     3.5\n",
              "3  Indomie  pack    15.0\n",
              "4  Indomie  pack     5.0"
            ]
          },
          "execution_count": 89,
          "metadata": {},
          "output_type": "execute_result"
        }
      ],
      "source": [
        "candies_df.drop_duplicates()"
      ]
    },
    {
      "cell_type": "markdown",
      "id": "ed738f57",
      "metadata": {
        "id": "ed738f57"
      },
      "source": [
        "Think carefully about how the data was collected before removing duplicates. Removing duplicates may not always be the right approach."
      ]
    },
    {
      "cell_type": "markdown",
      "id": "ebbfe45e",
      "metadata": {
        "id": "ebbfe45e"
      },
      "source": [
        "> **EXERCISE**: Check for duplicates in `accidents_df` and remove them if required."
      ]
    },
    {
      "cell_type": "code",
      "execution_count": null,
      "id": "55a0324a",
      "metadata": {
        "id": "55a0324a"
      },
      "outputs": [],
      "source": [
        ""
      ]
    },
    {
      "cell_type": "code",
      "execution_count": null,
      "id": "d5064d55",
      "metadata": {
        "id": "d5064d55"
      },
      "outputs": [],
      "source": [
        ""
      ]
    },
    {
      "cell_type": "code",
      "execution_count": null,
      "id": "83b9bf87",
      "metadata": {
        "id": "83b9bf87"
      },
      "outputs": [],
      "source": [
        ""
      ]
    },
    {
      "cell_type": "markdown",
      "id": "02706bcc",
      "metadata": {
        "id": "02706bcc"
      },
      "source": [
        "> **EXERCISE**: Repeat the exercises in this section with `accidents_df` and `accidents_dask_df` and track the time taken by each operation."
      ]
    },
    {
      "cell_type": "code",
      "execution_count": null,
      "id": "5d6cd545",
      "metadata": {
        "id": "5d6cd545"
      },
      "outputs": [],
      "source": [
        ""
      ]
    },
    {
      "cell_type": "code",
      "execution_count": null,
      "id": "9a201a37",
      "metadata": {
        "id": "9a201a37"
      },
      "outputs": [],
      "source": [
        ""
      ]
    },
    {
      "cell_type": "code",
      "execution_count": null,
      "id": "edc438ff",
      "metadata": {
        "id": "edc438ff"
      },
      "outputs": [],
      "source": [
        ""
      ]
    },
    {
      "cell_type": "code",
      "execution_count": null,
      "id": "b74b9cae",
      "metadata": {
        "id": "b74b9cae",
        "outputId": "e1d73e71-2196-44fb-a3b3-47005e80ee0e"
      },
      "outputs": [
        {
          "data": {
            "application/javascript": [
              "window.require && require([\"base/js/namespace\"],function(Jupyter){Jupyter.notebook.save_checkpoint()})"
            ],
            "text/plain": [
              "<IPython.core.display.Javascript object>"
            ]
          },
          "metadata": {},
          "output_type": "display_data"
        },
        {
          "name": "stdout",
          "output_type": "stream",
          "text": [
            "[jovian] Attempting to save notebook..\u001b[0m\n",
            "[jovian] Updating notebook \"aakashns/advanced-data-analysis-pandas\" on https://jovian.ai/\u001b[0m\n",
            "[jovian] Uploading notebook..\u001b[0m\n",
            "[jovian] Capturing environment..\u001b[0m\n",
            "[jovian] Committed successfully! https://jovian.ai/aakashns/advanced-data-analysis-pandas\u001b[0m\n"
          ]
        },
        {
          "data": {
            "text/plain": [
              "'https://jovian.ai/aakashns/advanced-data-analysis-pandas'"
            ]
          },
          "execution_count": 90,
          "metadata": {},
          "output_type": "execute_result"
        }
      ],
      "source": [
        "jovian.commit()"
      ]
    },
    {
      "cell_type": "markdown",
      "id": "0cd470f3",
      "metadata": {
        "id": "0cd470f3"
      },
      "source": [
        "## Transforming and aggregating data with type-specific functions\n",
        "\n",
        "Pandas offers several methods for working with specific types of data. Additionally, we can also use Numpy functions to perform operations on Pandas series. Let's look at some utility methods by three types of data: numbers, strings and dates."
      ]
    },
    {
      "cell_type": "markdown",
      "id": "efd8edc7",
      "metadata": {
        "id": "efd8edc7"
      },
      "source": [
        "### Numbers\n",
        "\n",
        "Here are some functions useful for transforming and aggregating numeric data."
      ]
    },
    {
      "cell_type": "code",
      "execution_count": null,
      "id": "59277000",
      "metadata": {
        "id": "59277000",
        "outputId": "5828c2f1-eea6-45ba-f74d-5f63475f3b95"
      },
      "outputs": [
        {
          "data": {
            "text/html": [
              "<div>\n",
              "<style scoped>\n",
              "    .dataframe tbody tr th:only-of-type {\n",
              "        vertical-align: middle;\n",
              "    }\n",
              "\n",
              "    .dataframe tbody tr th {\n",
              "        vertical-align: top;\n",
              "    }\n",
              "\n",
              "    .dataframe thead th {\n",
              "        text-align: right;\n",
              "    }\n",
              "</style>\n",
              "<table border=\"1\" class=\"dataframe\">\n",
              "  <thead>\n",
              "    <tr style=\"text-align: right;\">\n",
              "      <th></th>\n",
              "      <th>Severity</th>\n",
              "      <th>Start_Time</th>\n",
              "      <th>End_Time</th>\n",
              "      <th>Start_Lat</th>\n",
              "      <th>Start_Lng</th>\n",
              "      <th>End_Lat</th>\n",
              "      <th>End_Lng</th>\n",
              "      <th>Distance(mi)</th>\n",
              "      <th>Description</th>\n",
              "      <th>City</th>\n",
              "      <th>State</th>\n",
              "      <th>Timezone</th>\n",
              "      <th>Weather_Condition</th>\n",
              "    </tr>\n",
              "  </thead>\n",
              "  <tbody>\n",
              "    <tr>\n",
              "      <th>0</th>\n",
              "      <td>2</td>\n",
              "      <td>2019-05-21 08:29:55</td>\n",
              "      <td>2019-05-21 09:29:40</td>\n",
              "      <td>34.808868</td>\n",
              "      <td>-82.269157</td>\n",
              "      <td>34.808868</td>\n",
              "      <td>-82.269157</td>\n",
              "      <td>0.0</td>\n",
              "      <td>Accident on Tanner Rd at Pennbrooke Ln.</td>\n",
              "      <td>Greenville</td>\n",
              "      <td>SC</td>\n",
              "      <td>US/Eastern</td>\n",
              "      <td>Fair</td>\n",
              "    </tr>\n",
              "    <tr>\n",
              "      <th>1</th>\n",
              "      <td>2</td>\n",
              "      <td>2019-10-07 17:43:09</td>\n",
              "      <td>2019-10-07 19:42:50</td>\n",
              "      <td>35.090080</td>\n",
              "      <td>-80.745560</td>\n",
              "      <td>35.090080</td>\n",
              "      <td>-80.745560</td>\n",
              "      <td>0.0</td>\n",
              "      <td>Accident on Houston Branch Rd at Providence Br...</td>\n",
              "      <td>Charlotte</td>\n",
              "      <td>NC</td>\n",
              "      <td>US/Eastern</td>\n",
              "      <td>Cloudy</td>\n",
              "    </tr>\n",
              "    <tr>\n",
              "      <th>2</th>\n",
              "      <td>2</td>\n",
              "      <td>2020-12-13 21:53:00</td>\n",
              "      <td>2020-12-13 22:44:00</td>\n",
              "      <td>37.145729</td>\n",
              "      <td>-121.985054</td>\n",
              "      <td>37.165852</td>\n",
              "      <td>-121.988060</td>\n",
              "      <td>1.4</td>\n",
              "      <td>Stationary traffic on CA-17 from Summit Rd (CA...</td>\n",
              "      <td>Los Gatos</td>\n",
              "      <td>CA</td>\n",
              "      <td>US/Pacific</td>\n",
              "      <td>Fair</td>\n",
              "    </tr>\n",
              "    <tr>\n",
              "      <th>3</th>\n",
              "      <td>2</td>\n",
              "      <td>2018-04-17 16:51:23</td>\n",
              "      <td>2018-04-17 17:50:46</td>\n",
              "      <td>39.110390</td>\n",
              "      <td>-119.773781</td>\n",
              "      <td>39.110390</td>\n",
              "      <td>-119.773781</td>\n",
              "      <td>0.0</td>\n",
              "      <td>Accident on US-395 Southbound at Topsy Ln.</td>\n",
              "      <td>Carson City</td>\n",
              "      <td>NV</td>\n",
              "      <td>US/Pacific</td>\n",
              "      <td>Clear</td>\n",
              "    </tr>\n",
              "    <tr>\n",
              "      <th>4</th>\n",
              "      <td>3</td>\n",
              "      <td>2016-08-31 17:40:49</td>\n",
              "      <td>2016-08-31 18:10:49</td>\n",
              "      <td>26.102942</td>\n",
              "      <td>-80.265091</td>\n",
              "      <td>26.102942</td>\n",
              "      <td>-80.265091</td>\n",
              "      <td>0.0</td>\n",
              "      <td>Accident on I-595 Westbound at Exit 4 / Pine I...</td>\n",
              "      <td>Fort Lauderdale</td>\n",
              "      <td>FL</td>\n",
              "      <td>US/Eastern</td>\n",
              "      <td>Overcast</td>\n",
              "    </tr>\n",
              "  </tbody>\n",
              "</table>\n",
              "</div>"
            ],
            "text/plain": [
              "  Severity          Start_Time            End_Time  Start_Lat   Start_Lng  \\\n",
              "0        2 2019-05-21 08:29:55 2019-05-21 09:29:40  34.808868  -82.269157   \n",
              "1        2 2019-10-07 17:43:09 2019-10-07 19:42:50  35.090080  -80.745560   \n",
              "2        2 2020-12-13 21:53:00 2020-12-13 22:44:00  37.145729 -121.985054   \n",
              "3        2 2018-04-17 16:51:23 2018-04-17 17:50:46  39.110390 -119.773781   \n",
              "4        3 2016-08-31 17:40:49 2016-08-31 18:10:49  26.102942  -80.265091   \n",
              "\n",
              "     End_Lat     End_Lng  Distance(mi)  \\\n",
              "0  34.808868  -82.269157           0.0   \n",
              "1  35.090080  -80.745560           0.0   \n",
              "2  37.165852 -121.988060           1.4   \n",
              "3  39.110390 -119.773781           0.0   \n",
              "4  26.102942  -80.265091           0.0   \n",
              "\n",
              "                                         Description             City State  \\\n",
              "0            Accident on Tanner Rd at Pennbrooke Ln.       Greenville    SC   \n",
              "1  Accident on Houston Branch Rd at Providence Br...        Charlotte    NC   \n",
              "2  Stationary traffic on CA-17 from Summit Rd (CA...        Los Gatos    CA   \n",
              "3         Accident on US-395 Southbound at Topsy Ln.      Carson City    NV   \n",
              "4  Accident on I-595 Westbound at Exit 4 / Pine I...  Fort Lauderdale    FL   \n",
              "\n",
              "     Timezone Weather_Condition  \n",
              "0  US/Eastern              Fair  \n",
              "1  US/Eastern            Cloudy  \n",
              "2  US/Pacific              Fair  \n",
              "3  US/Pacific             Clear  \n",
              "4  US/Eastern          Overcast  "
            ]
          },
          "execution_count": 91,
          "metadata": {},
          "output_type": "execute_result"
        }
      ],
      "source": [
        "accidents_sample_df.head(5)"
      ]
    },
    {
      "cell_type": "code",
      "execution_count": null,
      "id": "96d27429",
      "metadata": {
        "id": "96d27429"
      },
      "outputs": [],
      "source": [
        "distance = accidents_sample_df['Distance(mi)']"
      ]
    },
    {
      "cell_type": "code",
      "execution_count": null,
      "id": "492bccad",
      "metadata": {
        "id": "492bccad",
        "outputId": "6d758e1d-1f0f-47d5-daf4-d4181f01d954"
      },
      "outputs": [
        {
          "data": {
            "text/plain": [
              "422.59003"
            ]
          },
          "execution_count": 105,
          "metadata": {},
          "output_type": "execute_result"
        }
      ],
      "source": [
        "# Sum\n",
        "distance.sum()"
      ]
    },
    {
      "cell_type": "code",
      "execution_count": null,
      "id": "71817b58",
      "metadata": {
        "id": "71817b58",
        "outputId": "aec7638f-09c4-4d7d-d0f9-dff329b85899"
      },
      "outputs": [
        {
          "data": {
            "text/plain": [
              "0.42259002"
            ]
          },
          "execution_count": 94,
          "metadata": {},
          "output_type": "execute_result"
        }
      ],
      "source": [
        "# Average\n",
        "distance.mean()"
      ]
    },
    {
      "cell_type": "code",
      "execution_count": null,
      "id": "37daa79a",
      "metadata": {
        "id": "37daa79a",
        "outputId": "59971252-dd00-4aef-c488-2efc349678c7"
      },
      "outputs": [
        {
          "data": {
            "text/plain": [
              "1.3762158"
            ]
          },
          "execution_count": 95,
          "metadata": {},
          "output_type": "execute_result"
        }
      ],
      "source": [
        "# Standard deviation\n",
        "distance.std()"
      ]
    },
    {
      "cell_type": "code",
      "execution_count": null,
      "id": "3aa4a26d",
      "metadata": {
        "id": "3aa4a26d",
        "outputId": "a573cf08-e0ce-4d88-8bed-9802c56259d8"
      },
      "outputs": [
        {
          "data": {
            "text/plain": [
              "0.0"
            ]
          },
          "execution_count": 96,
          "metadata": {},
          "output_type": "execute_result"
        }
      ],
      "source": [
        "# Median\n",
        "distance.median()"
      ]
    },
    {
      "cell_type": "markdown",
      "id": "bd0e3bc1",
      "metadata": {
        "id": "bd0e3bc1"
      },
      "source": [
        "We can also apply numpy functions to Pandas series"
      ]
    },
    {
      "cell_type": "code",
      "execution_count": null,
      "id": "8ee58c50",
      "metadata": {
        "id": "8ee58c50",
        "outputId": "ea84a006-999f-49d7-ab37-55d36e6ae0ad"
      },
      "outputs": [
        {
          "data": {
            "text/plain": [
              "0      0.000000\n",
              "1      0.000000\n",
              "2      1.183216\n",
              "3      0.000000\n",
              "4      0.000000\n",
              "         ...   \n",
              "995    0.000000\n",
              "996    0.000000\n",
              "997    0.100000\n",
              "998    0.277489\n",
              "999    0.568331\n",
              "Name: Distance(mi), Length: 1000, dtype: float32"
            ]
          },
          "execution_count": 101,
          "metadata": {},
          "output_type": "execute_result"
        }
      ],
      "source": [
        "# Square root\n",
        "np.sqrt(distance)"
      ]
    },
    {
      "cell_type": "code",
      "execution_count": null,
      "id": "64e6858f",
      "metadata": {
        "id": "64e6858f",
        "outputId": "4b2dedea-964f-483f-b9a0-b2f9f1346b96"
      },
      "outputs": [
        {
          "data": {
            "text/plain": [
              "0      0.000000\n",
              "1      0.000000\n",
              "2      1.960000\n",
              "3      0.000000\n",
              "4      0.000000\n",
              "         ...   \n",
              "995    0.000000\n",
              "996    0.000000\n",
              "997    0.000100\n",
              "998    0.005929\n",
              "999    0.104329\n",
              "Name: Distance(mi), Length: 1000, dtype: float32"
            ]
          },
          "execution_count": 106,
          "metadata": {},
          "output_type": "execute_result"
        }
      ],
      "source": [
        "# Power\n",
        "np.power(distance, 2)"
      ]
    },
    {
      "cell_type": "code",
      "execution_count": null,
      "id": "9eb709e5",
      "metadata": {
        "id": "9eb709e5",
        "outputId": "7fe9ae93-d9fb-4665-c1aa-2150ffd94269"
      },
      "outputs": [
        {
          "data": {
            "text/plain": [
              "1.892076"
            ]
          },
          "execution_count": 107,
          "metadata": {},
          "output_type": "execute_result"
        }
      ],
      "source": [
        "# Variance\n",
        "np.var(distance)"
      ]
    },
    {
      "cell_type": "markdown",
      "id": "2d59e750",
      "metadata": {
        "id": "2d59e750"
      },
      "source": [
        "Pandas series also support arithmetic operators."
      ]
    },
    {
      "cell_type": "code",
      "execution_count": null,
      "id": "7b7fbd34",
      "metadata": {
        "id": "7b7fbd34",
        "outputId": "ce4d7062-ac73-4c9b-96ef-897252613e41"
      },
      "outputs": [
        {
          "data": {
            "text/plain": [
              "0      2.000\n",
              "1      2.000\n",
              "2      3.400\n",
              "3      2.000\n",
              "4      2.000\n",
              "       ...  \n",
              "995    2.000\n",
              "996    2.000\n",
              "997    2.010\n",
              "998    2.077\n",
              "999    2.323\n",
              "Name: Distance(mi), Length: 1000, dtype: float32"
            ]
          },
          "execution_count": 102,
          "metadata": {},
          "output_type": "execute_result"
        }
      ],
      "source": [
        "# Addition\n",
        "distance + 2"
      ]
    },
    {
      "cell_type": "code",
      "execution_count": null,
      "id": "696595b5",
      "metadata": {
        "id": "696595b5"
      },
      "outputs": [],
      "source": [
        "# Multiplication\n",
        "distance_km = distance * 1.6"
      ]
    },
    {
      "cell_type": "code",
      "execution_count": null,
      "id": "8d9043cd",
      "metadata": {
        "id": "8d9043cd",
        "outputId": "fb666a07-9f47-4f10-da40-e8c279cbf3e7"
      },
      "outputs": [
        {
          "data": {
            "text/plain": [
              "0      0.0000\n",
              "1      0.0000\n",
              "2      2.2400\n",
              "3      0.0000\n",
              "4      0.0000\n",
              "        ...  \n",
              "995    0.0000\n",
              "996    0.0000\n",
              "997    0.0160\n",
              "998    0.1232\n",
              "999    0.5168\n",
              "Name: Distance(mi), Length: 1000, dtype: float32"
            ]
          },
          "execution_count": 104,
          "metadata": {},
          "output_type": "execute_result"
        }
      ],
      "source": [
        "distance_km"
      ]
    },
    {
      "cell_type": "markdown",
      "id": "26e141c3",
      "metadata": {
        "id": "26e141c3"
      },
      "source": [
        "> **EXERCISE**: Try out some more arithmetic operations with other numeric columns of `accidents_df` and `accidents_dask_df`. Measure and compare the time taken for each operation."
      ]
    },
    {
      "cell_type": "code",
      "execution_count": null,
      "id": "18120509",
      "metadata": {
        "id": "18120509"
      },
      "outputs": [],
      "source": [
        ""
      ]
    },
    {
      "cell_type": "code",
      "execution_count": null,
      "id": "ebf58f3f",
      "metadata": {
        "id": "ebf58f3f"
      },
      "outputs": [],
      "source": [
        ""
      ]
    },
    {
      "cell_type": "code",
      "execution_count": null,
      "id": "6c5f4828",
      "metadata": {
        "id": "6c5f4828"
      },
      "outputs": [],
      "source": [
        ""
      ]
    },
    {
      "cell_type": "markdown",
      "id": "7440ea4e",
      "metadata": {
        "id": "7440ea4e"
      },
      "source": [
        "### Strings\n",
        "\n",
        "The `.str` property of a Pandas series provides several utility functions for manipulating string data."
      ]
    },
    {
      "cell_type": "code",
      "execution_count": null,
      "id": "ffb93a92",
      "metadata": {
        "id": "ffb93a92",
        "outputId": "3c696d52-cc2e-4e12-9a93-a8fec66ee212"
      },
      "outputs": [
        {
          "data": {
            "text/html": [
              "<div>\n",
              "<style scoped>\n",
              "    .dataframe tbody tr th:only-of-type {\n",
              "        vertical-align: middle;\n",
              "    }\n",
              "\n",
              "    .dataframe tbody tr th {\n",
              "        vertical-align: top;\n",
              "    }\n",
              "\n",
              "    .dataframe thead th {\n",
              "        text-align: right;\n",
              "    }\n",
              "</style>\n",
              "<table border=\"1\" class=\"dataframe\">\n",
              "  <thead>\n",
              "    <tr style=\"text-align: right;\">\n",
              "      <th></th>\n",
              "      <th>Severity</th>\n",
              "      <th>Start_Time</th>\n",
              "      <th>End_Time</th>\n",
              "      <th>Start_Lat</th>\n",
              "      <th>Start_Lng</th>\n",
              "      <th>End_Lat</th>\n",
              "      <th>End_Lng</th>\n",
              "      <th>Distance(mi)</th>\n",
              "      <th>Description</th>\n",
              "      <th>City</th>\n",
              "      <th>State</th>\n",
              "      <th>Timezone</th>\n",
              "      <th>Weather_Condition</th>\n",
              "    </tr>\n",
              "  </thead>\n",
              "  <tbody>\n",
              "    <tr>\n",
              "      <th>0</th>\n",
              "      <td>2</td>\n",
              "      <td>2019-05-21 08:29:55</td>\n",
              "      <td>2019-05-21 09:29:40</td>\n",
              "      <td>34.808868</td>\n",
              "      <td>-82.269157</td>\n",
              "      <td>34.808868</td>\n",
              "      <td>-82.269157</td>\n",
              "      <td>0.0</td>\n",
              "      <td>Accident on Tanner Rd at Pennbrooke Ln.</td>\n",
              "      <td>Greenville</td>\n",
              "      <td>SC</td>\n",
              "      <td>US/Eastern</td>\n",
              "      <td>Fair</td>\n",
              "    </tr>\n",
              "    <tr>\n",
              "      <th>1</th>\n",
              "      <td>2</td>\n",
              "      <td>2019-10-07 17:43:09</td>\n",
              "      <td>2019-10-07 19:42:50</td>\n",
              "      <td>35.090080</td>\n",
              "      <td>-80.745560</td>\n",
              "      <td>35.090080</td>\n",
              "      <td>-80.745560</td>\n",
              "      <td>0.0</td>\n",
              "      <td>Accident on Houston Branch Rd at Providence Br...</td>\n",
              "      <td>Charlotte</td>\n",
              "      <td>NC</td>\n",
              "      <td>US/Eastern</td>\n",
              "      <td>Cloudy</td>\n",
              "    </tr>\n",
              "    <tr>\n",
              "      <th>2</th>\n",
              "      <td>2</td>\n",
              "      <td>2020-12-13 21:53:00</td>\n",
              "      <td>2020-12-13 22:44:00</td>\n",
              "      <td>37.145729</td>\n",
              "      <td>-121.985054</td>\n",
              "      <td>37.165852</td>\n",
              "      <td>-121.988060</td>\n",
              "      <td>1.4</td>\n",
              "      <td>Stationary traffic on CA-17 from Summit Rd (CA...</td>\n",
              "      <td>Los Gatos</td>\n",
              "      <td>CA</td>\n",
              "      <td>US/Pacific</td>\n",
              "      <td>Fair</td>\n",
              "    </tr>\n",
              "    <tr>\n",
              "      <th>3</th>\n",
              "      <td>2</td>\n",
              "      <td>2018-04-17 16:51:23</td>\n",
              "      <td>2018-04-17 17:50:46</td>\n",
              "      <td>39.110390</td>\n",
              "      <td>-119.773781</td>\n",
              "      <td>39.110390</td>\n",
              "      <td>-119.773781</td>\n",
              "      <td>0.0</td>\n",
              "      <td>Accident on US-395 Southbound at Topsy Ln.</td>\n",
              "      <td>Carson City</td>\n",
              "      <td>NV</td>\n",
              "      <td>US/Pacific</td>\n",
              "      <td>Clear</td>\n",
              "    </tr>\n",
              "    <tr>\n",
              "      <th>4</th>\n",
              "      <td>3</td>\n",
              "      <td>2016-08-31 17:40:49</td>\n",
              "      <td>2016-08-31 18:10:49</td>\n",
              "      <td>26.102942</td>\n",
              "      <td>-80.265091</td>\n",
              "      <td>26.102942</td>\n",
              "      <td>-80.265091</td>\n",
              "      <td>0.0</td>\n",
              "      <td>Accident on I-595 Westbound at Exit 4 / Pine I...</td>\n",
              "      <td>Fort Lauderdale</td>\n",
              "      <td>FL</td>\n",
              "      <td>US/Eastern</td>\n",
              "      <td>Overcast</td>\n",
              "    </tr>\n",
              "  </tbody>\n",
              "</table>\n",
              "</div>"
            ],
            "text/plain": [
              "  Severity          Start_Time            End_Time  Start_Lat   Start_Lng  \\\n",
              "0        2 2019-05-21 08:29:55 2019-05-21 09:29:40  34.808868  -82.269157   \n",
              "1        2 2019-10-07 17:43:09 2019-10-07 19:42:50  35.090080  -80.745560   \n",
              "2        2 2020-12-13 21:53:00 2020-12-13 22:44:00  37.145729 -121.985054   \n",
              "3        2 2018-04-17 16:51:23 2018-04-17 17:50:46  39.110390 -119.773781   \n",
              "4        3 2016-08-31 17:40:49 2016-08-31 18:10:49  26.102942  -80.265091   \n",
              "\n",
              "     End_Lat     End_Lng  Distance(mi)  \\\n",
              "0  34.808868  -82.269157           0.0   \n",
              "1  35.090080  -80.745560           0.0   \n",
              "2  37.165852 -121.988060           1.4   \n",
              "3  39.110390 -119.773781           0.0   \n",
              "4  26.102942  -80.265091           0.0   \n",
              "\n",
              "                                         Description             City State  \\\n",
              "0            Accident on Tanner Rd at Pennbrooke Ln.       Greenville    SC   \n",
              "1  Accident on Houston Branch Rd at Providence Br...        Charlotte    NC   \n",
              "2  Stationary traffic on CA-17 from Summit Rd (CA...        Los Gatos    CA   \n",
              "3         Accident on US-395 Southbound at Topsy Ln.      Carson City    NV   \n",
              "4  Accident on I-595 Westbound at Exit 4 / Pine I...  Fort Lauderdale    FL   \n",
              "\n",
              "     Timezone Weather_Condition  \n",
              "0  US/Eastern              Fair  \n",
              "1  US/Eastern            Cloudy  \n",
              "2  US/Pacific              Fair  \n",
              "3  US/Pacific             Clear  \n",
              "4  US/Eastern          Overcast  "
            ]
          },
          "execution_count": 109,
          "metadata": {},
          "output_type": "execute_result"
        }
      ],
      "source": [
        "accidents_sample_df.head(5)"
      ]
    },
    {
      "cell_type": "code",
      "execution_count": null,
      "id": "78806902",
      "metadata": {
        "id": "78806902",
        "outputId": "eaa9d847-a3de-4004-b564-7d042a420314"
      },
      "outputs": [
        {
          "data": {
            "text/plain": [
              "0                accident on tanner rd at pennbrooke ln.\n",
              "1      accident on houston branch rd at providence br...\n",
              "2      stationary traffic on ca-17 from summit rd (ca...\n",
              "3             accident on us-395 southbound at topsy ln.\n",
              "4      accident on i-595 westbound at exit 4 / pine i...\n",
              "                             ...                        \n",
              "995    two lanes blocked due to accident on i-90 west...\n",
              "996    accident on i-694 eastbound at exits 35a 35b 3...\n",
              "997    lane blocked and very slow traffic due to acci...\n",
              "998    stationary traffic on m-11 from chamberlain av...\n",
              "999    a disabled vehicle has the left lane closed sb...\n",
              "Name: Description, Length: 1000, dtype: object"
            ]
          },
          "execution_count": 110,
          "metadata": {},
          "output_type": "execute_result"
        }
      ],
      "source": [
        "# Change to lowercase\n",
        "accidents_sample_df.Description.str.lower()"
      ]
    },
    {
      "cell_type": "code",
      "execution_count": null,
      "id": "a5020ce5",
      "metadata": {
        "id": "a5020ce5",
        "outputId": "6ffb273e-dfde-49e9-b5dd-8ea2d959009c"
      },
      "outputs": [
        {
          "data": {
            "text/plain": [
              "0        [Accident, on, Tanner, Rd, at, Pennbrooke, Ln.]\n",
              "1      [Accident, on, Houston, Branch, Rd, at, Provid...\n",
              "2      [Stationary, traffic, on, CA-17, from, Summit,...\n",
              "3      [Accident, on, US-395, Southbound, at, Topsy, ...\n",
              "4      [Accident, on, I-595, Westbound, at, Exit, 4, ...\n",
              "                             ...                        \n",
              "995    [Two, lanes, blocked, due, to, accident, on, I...\n",
              "996    [Accident, on, I-694, Eastbound, at, Exits, 35...\n",
              "997    [Lane, blocked, and, very, slow, traffic, due,...\n",
              "998    [Stationary, traffic, on, M-11, from, Chamberl...\n",
              "999    [A, disabled, vehicle, has, the, left, lane, c...\n",
              "Name: Description, Length: 1000, dtype: object"
            ]
          },
          "execution_count": 111,
          "metadata": {},
          "output_type": "execute_result"
        }
      ],
      "source": [
        "# Convert a string into a list of words\n",
        "words = accidents_sample_df.Description.str.split(' ')\n",
        "words"
      ]
    },
    {
      "cell_type": "code",
      "execution_count": null,
      "id": "9aacd798",
      "metadata": {
        "id": "9aacd798",
        "outputId": "7886124e-4166-4aa4-c5a6-4a9b817df17f"
      },
      "outputs": [
        {
          "data": {
            "text/plain": [
              "['Accident', 'on', 'Tanner', 'Rd', 'at', 'Pennbrooke', 'Ln.']"
            ]
          },
          "execution_count": 112,
          "metadata": {},
          "output_type": "execute_result"
        }
      ],
      "source": [
        "words[0]"
      ]
    },
    {
      "cell_type": "code",
      "execution_count": null,
      "id": "26c8346e",
      "metadata": {
        "id": "26c8346e",
        "outputId": "3c72216f-8143-4063-e7d0-4474320f470e"
      },
      "outputs": [
        {
          "data": {
            "text/plain": [
              "0                ACCIDENT on Tanner Rd at Pennbrooke Ln.\n",
              "1      ACCIDENT on Houston Branch Rd at Providence Br...\n",
              "2      Stationary traffic on CA-17 from Summit Rd (CA...\n",
              "3             ACCIDENT on US-395 Southbound at Topsy Ln.\n",
              "4      ACCIDENT on I-595 Westbound at Exit 4 / Pine I...\n",
              "                             ...                        \n",
              "995    Two lanes blocked due to accident on I-90 West...\n",
              "996    ACCIDENT on I-694 Eastbound at Exits 35A 35B 3...\n",
              "997    Lane blocked and very slow traffic due to acci...\n",
              "998    Stationary traffic on M-11 from Chamberlain Av...\n",
              "999    A disabled vehicle has the left lane closed SB...\n",
              "Name: Description, Length: 1000, dtype: object"
            ]
          },
          "execution_count": 113,
          "metadata": {},
          "output_type": "execute_result"
        }
      ],
      "source": [
        "# Replacing a substring\n",
        "accidents_sample_df.Description.str.replace('Accident', 'ACCIDENT')"
      ]
    },
    {
      "cell_type": "code",
      "execution_count": null,
      "id": "61804013",
      "metadata": {
        "id": "61804013",
        "outputId": "1480c227-9a5a-4e06-ecda-0bd442a22dad"
      },
      "outputs": [
        {
          "data": {
            "text/plain": [
              "Index(['jack', 'jill', 'jesse', 'frank    montana'], dtype='object')"
            ]
          },
          "execution_count": 114,
          "metadata": {},
          "output_type": "execute_result"
        }
      ],
      "source": [
        "# Remove whitespace\n",
        "idx = pd.Index([\"    jack\", \"jill     \", \" jesse   \", \"    frank    montana   \"])\n",
        "idx.str.strip()"
      ]
    },
    {
      "cell_type": "code",
      "execution_count": null,
      "id": "89931c39",
      "metadata": {
        "id": "89931c39",
        "outputId": "a6a708a9-b645-4e00-d8de-c0b2437d8145"
      },
      "outputs": [
        {
          "data": {
            "text/plain": [
              "0       True\n",
              "1       True\n",
              "2      False\n",
              "3       True\n",
              "4       True\n",
              "       ...  \n",
              "995    False\n",
              "996     True\n",
              "997    False\n",
              "998    False\n",
              "999    False\n",
              "Name: Description, Length: 1000, dtype: bool"
            ]
          },
          "execution_count": 115,
          "metadata": {},
          "output_type": "execute_result"
        }
      ],
      "source": [
        "# Checking the presence of a substring\n",
        "accidents_sample_df.Description.str.contains(\"Accident\")"
      ]
    },
    {
      "cell_type": "markdown",
      "id": "c36ed4bb",
      "metadata": {
        "id": "c36ed4bb"
      },
      "source": [
        "> **EXERCISE**: Explore other string methods supported by Pandas data frames and series: https://pandas.pydata.org/docs/user_guide/text.html#string-methods . Demonstrate their usage with examples."
      ]
    },
    {
      "cell_type": "code",
      "execution_count": null,
      "id": "1556a0ef",
      "metadata": {
        "id": "1556a0ef"
      },
      "outputs": [],
      "source": [
        ""
      ]
    },
    {
      "cell_type": "code",
      "execution_count": null,
      "id": "8cb5d66f",
      "metadata": {
        "id": "8cb5d66f"
      },
      "outputs": [],
      "source": [
        ""
      ]
    },
    {
      "cell_type": "markdown",
      "id": "6cc9d123",
      "metadata": {
        "id": "6cc9d123"
      },
      "source": [
        "### Date & Time\n",
        "\n",
        "The `.dt` property of a Pandas consists of utlity methods for working with dates."
      ]
    },
    {
      "cell_type": "code",
      "execution_count": null,
      "id": "fadede12",
      "metadata": {
        "id": "fadede12"
      },
      "outputs": [],
      "source": [
        "start_time = accidents_sample_df.Start_Time"
      ]
    },
    {
      "cell_type": "code",
      "execution_count": null,
      "id": "80b450e6",
      "metadata": {
        "id": "80b450e6",
        "outputId": "3a488f57-5d76-4f72-e842-08f215a2686e"
      },
      "outputs": [
        {
          "data": {
            "text/plain": [
              "0     2019-05-21 08:29:55\n",
              "1     2019-10-07 17:43:09\n",
              "2     2020-12-13 21:53:00\n",
              "3     2018-04-17 16:51:23\n",
              "4     2016-08-31 17:40:49\n",
              "              ...        \n",
              "995   2018-01-15 08:15:01\n",
              "996   2018-12-15 20:23:10\n",
              "997   2017-01-13 20:42:28\n",
              "998   2020-09-22 12:46:00\n",
              "999   2020-09-11 02:00:41\n",
              "Name: Start_Time, Length: 1000, dtype: datetime64[ns]"
            ]
          },
          "execution_count": 118,
          "metadata": {},
          "output_type": "execute_result"
        }
      ],
      "source": [
        "start_time"
      ]
    },
    {
      "cell_type": "markdown",
      "id": "4f383c3d",
      "metadata": {
        "id": "4f383c3d"
      },
      "source": [
        "Let's extract different parts of the data."
      ]
    },
    {
      "cell_type": "code",
      "execution_count": null,
      "id": "741a0f06",
      "metadata": {
        "id": "741a0f06",
        "outputId": "aac23426-eeaf-493d-d41e-ce0e8895ed9a"
      },
      "outputs": [
        {
          "data": {
            "text/plain": [
              "0      2019\n",
              "1      2019\n",
              "2      2020\n",
              "3      2018\n",
              "4      2016\n",
              "       ... \n",
              "995    2018\n",
              "996    2018\n",
              "997    2017\n",
              "998    2020\n",
              "999    2020\n",
              "Name: Start_Time, Length: 1000, dtype: int64"
            ]
          },
          "execution_count": 120,
          "metadata": {},
          "output_type": "execute_result"
        }
      ],
      "source": [
        "# Year\n",
        "start_time.dt.year"
      ]
    },
    {
      "cell_type": "code",
      "execution_count": null,
      "id": "6b3b0986",
      "metadata": {
        "id": "6b3b0986",
        "outputId": "f0579025-d504-4d47-d817-50b1433f18f3"
      },
      "outputs": [
        {
          "data": {
            "text/plain": [
              "0       5\n",
              "1      10\n",
              "2      12\n",
              "3       4\n",
              "4       8\n",
              "       ..\n",
              "995     1\n",
              "996    12\n",
              "997     1\n",
              "998     9\n",
              "999     9\n",
              "Name: Start_Time, Length: 1000, dtype: int64"
            ]
          },
          "execution_count": 121,
          "metadata": {},
          "output_type": "execute_result"
        }
      ],
      "source": [
        "# Month\n",
        "start_time.dt.month"
      ]
    },
    {
      "cell_type": "code",
      "execution_count": null,
      "id": "bcd31aca",
      "metadata": {
        "id": "bcd31aca",
        "outputId": "401f9d35-9a8f-4f73-b444-ce83debdf385"
      },
      "outputs": [
        {
          "data": {
            "text/plain": [
              "0      21\n",
              "1       7\n",
              "2      13\n",
              "3      17\n",
              "4      31\n",
              "       ..\n",
              "995    15\n",
              "996    15\n",
              "997    13\n",
              "998    22\n",
              "999    11\n",
              "Name: Start_Time, Length: 1000, dtype: int64"
            ]
          },
          "execution_count": 122,
          "metadata": {},
          "output_type": "execute_result"
        }
      ],
      "source": [
        "# Day\n",
        "start_time.dt.day"
      ]
    },
    {
      "cell_type": "code",
      "execution_count": null,
      "id": "c10c05ca",
      "metadata": {
        "id": "c10c05ca",
        "outputId": "c445f31f-325c-48a1-9e1c-aa5165d7bf5b"
      },
      "outputs": [
        {
          "data": {
            "text/plain": [
              "0      2019-05-21\n",
              "1      2019-10-07\n",
              "2      2020-12-13\n",
              "3      2018-04-17\n",
              "4      2016-08-31\n",
              "          ...    \n",
              "995    2018-01-15\n",
              "996    2018-12-15\n",
              "997    2017-01-13\n",
              "998    2020-09-22\n",
              "999    2020-09-11\n",
              "Name: Start_Time, Length: 1000, dtype: object"
            ]
          },
          "execution_count": 126,
          "metadata": {},
          "output_type": "execute_result"
        }
      ],
      "source": [
        "# Convert to date string\n",
        "start_time.dt.strftime('%Y-%m-%d')"
      ]
    },
    {
      "cell_type": "code",
      "execution_count": null,
      "id": "b91a7094",
      "metadata": {
        "id": "b91a7094"
      },
      "outputs": [],
      "source": [
        ""
      ]
    },
    {
      "cell_type": "markdown",
      "id": "193549ec",
      "metadata": {
        "id": "193549ec"
      },
      "source": [
        "> **EXERCISE**: Explore other date methods supported by Pandas series: https://pandas.pydata.org/pandas-docs/stable/user_guide/basics.html#basics-dt-accessors . Demonstrate their usage with examples."
      ]
    },
    {
      "cell_type": "code",
      "execution_count": null,
      "id": "979e94c6",
      "metadata": {
        "id": "979e94c6"
      },
      "outputs": [],
      "source": [
        ""
      ]
    },
    {
      "cell_type": "markdown",
      "id": "dcd5d188",
      "metadata": {
        "id": "dcd5d188"
      },
      "source": [
        "### `map` and `apply`\n",
        "\n",
        "The `map` method of a column/series can be used to apply a custom function to each element of a series. Let's use it to convert the distance from miles to kilometres."
      ]
    },
    {
      "cell_type": "code",
      "execution_count": null,
      "id": "f1645d5a",
      "metadata": {
        "id": "f1645d5a"
      },
      "outputs": [],
      "source": [
        "def convert_to_km(dist_miles):\n",
        "    return dist_miles * 1.6"
      ]
    },
    {
      "cell_type": "code",
      "execution_count": null,
      "id": "71e969ca",
      "metadata": {
        "id": "71e969ca",
        "outputId": "c924104d-09db-4bf0-bdcc-10039d7d75fb"
      },
      "outputs": [
        {
          "data": {
            "text/plain": [
              "0      0.0000\n",
              "1      0.0000\n",
              "2      2.2400\n",
              "3      0.0000\n",
              "4      0.0000\n",
              "        ...  \n",
              "995    0.0000\n",
              "996    0.0000\n",
              "997    0.0160\n",
              "998    0.1232\n",
              "999    0.5168\n",
              "Name: Distance(km), Length: 1000, dtype: float64"
            ]
          },
          "execution_count": 132,
          "metadata": {},
          "output_type": "execute_result"
        }
      ],
      "source": [
        "distance_km = distance.map(convert_to_km)\n",
        "distance_km.name = 'Distance(km)'\n",
        "distance_km"
      ]
    },
    {
      "cell_type": "markdown",
      "id": "b4129e3e",
      "metadata": {
        "id": "b4129e3e"
      },
      "source": [
        "The `apply` method  can be used to apply a custom function to each column/row of a dataframe. Let's use it to compute the duration of each event."
      ]
    },
    {
      "cell_type": "code",
      "execution_count": null,
      "id": "9357def7",
      "metadata": {
        "id": "9357def7",
        "outputId": "5cd089ba-2446-44b3-af24-467760731c58"
      },
      "outputs": [
        {
          "data": {
            "text/html": [
              "<div>\n",
              "<style scoped>\n",
              "    .dataframe tbody tr th:only-of-type {\n",
              "        vertical-align: middle;\n",
              "    }\n",
              "\n",
              "    .dataframe tbody tr th {\n",
              "        vertical-align: top;\n",
              "    }\n",
              "\n",
              "    .dataframe thead th {\n",
              "        text-align: right;\n",
              "    }\n",
              "</style>\n",
              "<table border=\"1\" class=\"dataframe\">\n",
              "  <thead>\n",
              "    <tr style=\"text-align: right;\">\n",
              "      <th></th>\n",
              "      <th>Severity</th>\n",
              "      <th>Start_Time</th>\n",
              "      <th>End_Time</th>\n",
              "      <th>Start_Lat</th>\n",
              "      <th>Start_Lng</th>\n",
              "      <th>End_Lat</th>\n",
              "      <th>End_Lng</th>\n",
              "      <th>Distance(mi)</th>\n",
              "      <th>Description</th>\n",
              "      <th>City</th>\n",
              "      <th>State</th>\n",
              "      <th>Timezone</th>\n",
              "      <th>Weather_Condition</th>\n",
              "    </tr>\n",
              "  </thead>\n",
              "  <tbody>\n",
              "    <tr>\n",
              "      <th>0</th>\n",
              "      <td>2</td>\n",
              "      <td>2019-05-21 08:29:55</td>\n",
              "      <td>2019-05-21 09:29:40</td>\n",
              "      <td>34.808868</td>\n",
              "      <td>-82.269157</td>\n",
              "      <td>34.808868</td>\n",
              "      <td>-82.269157</td>\n",
              "      <td>0.0</td>\n",
              "      <td>Accident on Tanner Rd at Pennbrooke Ln.</td>\n",
              "      <td>Greenville</td>\n",
              "      <td>SC</td>\n",
              "      <td>US/Eastern</td>\n",
              "      <td>Fair</td>\n",
              "    </tr>\n",
              "    <tr>\n",
              "      <th>1</th>\n",
              "      <td>2</td>\n",
              "      <td>2019-10-07 17:43:09</td>\n",
              "      <td>2019-10-07 19:42:50</td>\n",
              "      <td>35.090080</td>\n",
              "      <td>-80.745560</td>\n",
              "      <td>35.090080</td>\n",
              "      <td>-80.745560</td>\n",
              "      <td>0.0</td>\n",
              "      <td>Accident on Houston Branch Rd at Providence Br...</td>\n",
              "      <td>Charlotte</td>\n",
              "      <td>NC</td>\n",
              "      <td>US/Eastern</td>\n",
              "      <td>Cloudy</td>\n",
              "    </tr>\n",
              "    <tr>\n",
              "      <th>2</th>\n",
              "      <td>2</td>\n",
              "      <td>2020-12-13 21:53:00</td>\n",
              "      <td>2020-12-13 22:44:00</td>\n",
              "      <td>37.145729</td>\n",
              "      <td>-121.985054</td>\n",
              "      <td>37.165852</td>\n",
              "      <td>-121.988060</td>\n",
              "      <td>1.4</td>\n",
              "      <td>Stationary traffic on CA-17 from Summit Rd (CA...</td>\n",
              "      <td>Los Gatos</td>\n",
              "      <td>CA</td>\n",
              "      <td>US/Pacific</td>\n",
              "      <td>Fair</td>\n",
              "    </tr>\n",
              "  </tbody>\n",
              "</table>\n",
              "</div>"
            ],
            "text/plain": [
              "  Severity          Start_Time            End_Time  Start_Lat   Start_Lng  \\\n",
              "0        2 2019-05-21 08:29:55 2019-05-21 09:29:40  34.808868  -82.269157   \n",
              "1        2 2019-10-07 17:43:09 2019-10-07 19:42:50  35.090080  -80.745560   \n",
              "2        2 2020-12-13 21:53:00 2020-12-13 22:44:00  37.145729 -121.985054   \n",
              "\n",
              "     End_Lat     End_Lng  Distance(mi)  \\\n",
              "0  34.808868  -82.269157           0.0   \n",
              "1  35.090080  -80.745560           0.0   \n",
              "2  37.165852 -121.988060           1.4   \n",
              "\n",
              "                                         Description        City State  \\\n",
              "0            Accident on Tanner Rd at Pennbrooke Ln.  Greenville    SC   \n",
              "1  Accident on Houston Branch Rd at Providence Br...   Charlotte    NC   \n",
              "2  Stationary traffic on CA-17 from Summit Rd (CA...   Los Gatos    CA   \n",
              "\n",
              "     Timezone Weather_Condition  \n",
              "0  US/Eastern              Fair  \n",
              "1  US/Eastern            Cloudy  \n",
              "2  US/Pacific              Fair  "
            ]
          },
          "execution_count": 135,
          "metadata": {},
          "output_type": "execute_result"
        }
      ],
      "source": [
        "accidents_sample_df.head(3)"
      ]
    },
    {
      "cell_type": "code",
      "execution_count": null,
      "id": "d848f5c5",
      "metadata": {
        "id": "d848f5c5"
      },
      "outputs": [],
      "source": [
        "def compute_duration(row):\n",
        "    return (row.End_Time - row.Start_Time).total_seconds()"
      ]
    },
    {
      "cell_type": "code",
      "execution_count": null,
      "id": "f7063590",
      "metadata": {
        "id": "f7063590"
      },
      "outputs": [],
      "source": [
        "accidents_sample_df['Duration'] = accidents_sample_df.apply(compute_duration, axis=1)"
      ]
    },
    {
      "cell_type": "code",
      "execution_count": null,
      "id": "a2cb4f19",
      "metadata": {
        "id": "a2cb4f19",
        "outputId": "96c13fa9-e537-4df1-a116-6f2c13b9cc32"
      },
      "outputs": [
        {
          "data": {
            "text/html": [
              "<div>\n",
              "<style scoped>\n",
              "    .dataframe tbody tr th:only-of-type {\n",
              "        vertical-align: middle;\n",
              "    }\n",
              "\n",
              "    .dataframe tbody tr th {\n",
              "        vertical-align: top;\n",
              "    }\n",
              "\n",
              "    .dataframe thead th {\n",
              "        text-align: right;\n",
              "    }\n",
              "</style>\n",
              "<table border=\"1\" class=\"dataframe\">\n",
              "  <thead>\n",
              "    <tr style=\"text-align: right;\">\n",
              "      <th></th>\n",
              "      <th>Severity</th>\n",
              "      <th>Start_Time</th>\n",
              "      <th>End_Time</th>\n",
              "      <th>Start_Lat</th>\n",
              "      <th>Start_Lng</th>\n",
              "      <th>End_Lat</th>\n",
              "      <th>End_Lng</th>\n",
              "      <th>Distance(mi)</th>\n",
              "      <th>Description</th>\n",
              "      <th>City</th>\n",
              "      <th>State</th>\n",
              "      <th>Timezone</th>\n",
              "      <th>Weather_Condition</th>\n",
              "      <th>Duration</th>\n",
              "    </tr>\n",
              "  </thead>\n",
              "  <tbody>\n",
              "    <tr>\n",
              "      <th>0</th>\n",
              "      <td>2</td>\n",
              "      <td>2019-05-21 08:29:55</td>\n",
              "      <td>2019-05-21 09:29:40</td>\n",
              "      <td>34.808868</td>\n",
              "      <td>-82.269157</td>\n",
              "      <td>34.808868</td>\n",
              "      <td>-82.269157</td>\n",
              "      <td>0.0</td>\n",
              "      <td>Accident on Tanner Rd at Pennbrooke Ln.</td>\n",
              "      <td>Greenville</td>\n",
              "      <td>SC</td>\n",
              "      <td>US/Eastern</td>\n",
              "      <td>Fair</td>\n",
              "      <td>3585.0</td>\n",
              "    </tr>\n",
              "    <tr>\n",
              "      <th>1</th>\n",
              "      <td>2</td>\n",
              "      <td>2019-10-07 17:43:09</td>\n",
              "      <td>2019-10-07 19:42:50</td>\n",
              "      <td>35.090080</td>\n",
              "      <td>-80.745560</td>\n",
              "      <td>35.090080</td>\n",
              "      <td>-80.745560</td>\n",
              "      <td>0.0</td>\n",
              "      <td>Accident on Houston Branch Rd at Providence Br...</td>\n",
              "      <td>Charlotte</td>\n",
              "      <td>NC</td>\n",
              "      <td>US/Eastern</td>\n",
              "      <td>Cloudy</td>\n",
              "      <td>7181.0</td>\n",
              "    </tr>\n",
              "    <tr>\n",
              "      <th>2</th>\n",
              "      <td>2</td>\n",
              "      <td>2020-12-13 21:53:00</td>\n",
              "      <td>2020-12-13 22:44:00</td>\n",
              "      <td>37.145729</td>\n",
              "      <td>-121.985054</td>\n",
              "      <td>37.165852</td>\n",
              "      <td>-121.988060</td>\n",
              "      <td>1.4</td>\n",
              "      <td>Stationary traffic on CA-17 from Summit Rd (CA...</td>\n",
              "      <td>Los Gatos</td>\n",
              "      <td>CA</td>\n",
              "      <td>US/Pacific</td>\n",
              "      <td>Fair</td>\n",
              "      <td>3060.0</td>\n",
              "    </tr>\n",
              "  </tbody>\n",
              "</table>\n",
              "</div>"
            ],
            "text/plain": [
              "  Severity          Start_Time            End_Time  Start_Lat   Start_Lng  \\\n",
              "0        2 2019-05-21 08:29:55 2019-05-21 09:29:40  34.808868  -82.269157   \n",
              "1        2 2019-10-07 17:43:09 2019-10-07 19:42:50  35.090080  -80.745560   \n",
              "2        2 2020-12-13 21:53:00 2020-12-13 22:44:00  37.145729 -121.985054   \n",
              "\n",
              "     End_Lat     End_Lng  Distance(mi)  \\\n",
              "0  34.808868  -82.269157           0.0   \n",
              "1  35.090080  -80.745560           0.0   \n",
              "2  37.165852 -121.988060           1.4   \n",
              "\n",
              "                                         Description        City State  \\\n",
              "0            Accident on Tanner Rd at Pennbrooke Ln.  Greenville    SC   \n",
              "1  Accident on Houston Branch Rd at Providence Br...   Charlotte    NC   \n",
              "2  Stationary traffic on CA-17 from Summit Rd (CA...   Los Gatos    CA   \n",
              "\n",
              "     Timezone Weather_Condition  Duration  \n",
              "0  US/Eastern              Fair    3585.0  \n",
              "1  US/Eastern            Cloudy    7181.0  \n",
              "2  US/Pacific              Fair    3060.0  "
            ]
          },
          "execution_count": 146,
          "metadata": {},
          "output_type": "execute_result"
        }
      ],
      "source": [
        "accidents_sample_df.head(3)"
      ]
    },
    {
      "cell_type": "markdown",
      "id": "73c86a58",
      "metadata": {
        "id": "73c86a58"
      },
      "source": [
        "> **EXERCISE**: Look up the documentation for the `applymap` method of a data frame. How is it different from `apply` and `map` methods? Demonstrate with examples."
      ]
    },
    {
      "cell_type": "code",
      "execution_count": null,
      "id": "a84f264a",
      "metadata": {
        "id": "a84f264a"
      },
      "outputs": [],
      "source": [
        ""
      ]
    },
    {
      "cell_type": "code",
      "execution_count": null,
      "id": "16cf7db6",
      "metadata": {
        "id": "16cf7db6"
      },
      "outputs": [],
      "source": [
        ""
      ]
    },
    {
      "cell_type": "code",
      "execution_count": null,
      "id": "5a9c8caf",
      "metadata": {
        "id": "5a9c8caf"
      },
      "outputs": [],
      "source": [
        ""
      ]
    },
    {
      "cell_type": "markdown",
      "id": "3cf706bf",
      "metadata": {
        "id": "3cf706bf"
      },
      "source": [
        "> **EXERCISE**: Repeat the operations performed in this section (type-specific functions) with `accidents_df` and `accidents_dask_df`. Measure and compare the time taken for each operation."
      ]
    },
    {
      "cell_type": "code",
      "execution_count": null,
      "id": "419057ea",
      "metadata": {
        "id": "419057ea"
      },
      "outputs": [],
      "source": [
        ""
      ]
    },
    {
      "cell_type": "code",
      "execution_count": null,
      "id": "5b29a5fc",
      "metadata": {
        "id": "5b29a5fc"
      },
      "outputs": [],
      "source": [
        ""
      ]
    },
    {
      "cell_type": "code",
      "execution_count": null,
      "id": "0e04dc14",
      "metadata": {
        "id": "0e04dc14"
      },
      "outputs": [],
      "source": [
        ""
      ]
    },
    {
      "cell_type": "code",
      "execution_count": null,
      "id": "ed2da653",
      "metadata": {
        "id": "ed2da653"
      },
      "outputs": [],
      "source": [
        ""
      ]
    },
    {
      "cell_type": "markdown",
      "id": "b61f1481",
      "metadata": {
        "id": "b61f1481"
      },
      "source": [
        "Learn more about `map` and `apply` here: https://towardsdatascience.com/introduction-to-pandas-apply-applymap-and-map-5d3e044e93ff"
      ]
    },
    {
      "cell_type": "code",
      "execution_count": null,
      "id": "9d78e23e",
      "metadata": {
        "id": "9d78e23e"
      },
      "outputs": [],
      "source": [
        "jovian.commit()"
      ]
    },
    {
      "cell_type": "markdown",
      "id": "46ca60ad",
      "metadata": {
        "id": "46ca60ad"
      },
      "source": [
        "## Data frame concatenation and merging\n",
        "\n",
        "Pandas provides various utilities for combining multiple data frames. We'll look at two examples in this section: concatenation and merging."
      ]
    },
    {
      "cell_type": "markdown",
      "id": "0a67e2c2",
      "metadata": {
        "id": "0a67e2c2"
      },
      "source": [
        "### Concatenation\n",
        "\n",
        "Concatenation is the process of stacking two more dataframes vertically or horizontally. When concatenating vertically, columns are lined up together. Here's what vertical concatenation looks like:\n",
        "\n",
        "![](https://i.imgur.com/ti195t3.png)"
      ]
    },
    {
      "cell_type": "code",
      "execution_count": null,
      "id": "f3f956fa",
      "metadata": {
        "id": "f3f956fa"
      },
      "outputs": [],
      "source": [
        "df1 = pd.DataFrame(\n",
        "    {\n",
        "         \"A\": [\"A0\", \"A1\", \"A2\", \"A3\"],\n",
        "         \"B\": [\"B0\", \"B1\", \"B2\", \"B3\"],\n",
        "         \"C\": [\"C0\", \"C1\", \"C2\", \"C3\"],\n",
        "         \"D\": [\"D0\", \"D1\", \"D2\", \"D3\"],\n",
        "    }, index=[0, 1, 2, 3])\n",
        " \n",
        "\n",
        "df2 = pd.DataFrame(\n",
        "    {\n",
        "         \"A\": [\"A4\", \"A5\", \"A6\", \"A7\"],\n",
        "         \"B\": [\"B4\", \"B5\", \"B6\", \"B7\"],\n",
        "         \"C\": [\"C4\", \"C5\", \"C6\", \"C7\"],\n",
        "         \"D\": [\"D4\", \"D5\", \"D6\", \"D7\"],\n",
        "    }, index=[4, 5, 6, 7])\n",
        " \n",
        "\n",
        "df3 = pd.DataFrame(\n",
        "    {\n",
        "        \"A\": [\"A8\", \"A9\", \"A10\", \"A11\"],\n",
        "        \"B\": [\"B8\", \"B9\", \"B10\", \"B11\"],\n",
        "        \"C\": [\"C8\", \"C9\", \"C10\", \"C11\"],\n",
        "        \"D\": [\"D8\", \"D9\", \"D10\", \"D11\"],\n",
        "    }, index=[8, 9, 10, 11])\n",
        " "
      ]
    },
    {
      "cell_type": "markdown",
      "id": "f721c9c0",
      "metadata": {
        "id": "f721c9c0"
      },
      "source": [
        "We can now concatenate these along axis 0 i.e. vertically using `pd.concat`"
      ]
    },
    {
      "cell_type": "code",
      "execution_count": null,
      "id": "c9c63aba",
      "metadata": {
        "id": "c9c63aba",
        "outputId": "fd677a50-0e30-49b5-cb77-79700893c17e"
      },
      "outputs": [
        {
          "data": {
            "text/html": [
              "<div>\n",
              "<style scoped>\n",
              "    .dataframe tbody tr th:only-of-type {\n",
              "        vertical-align: middle;\n",
              "    }\n",
              "\n",
              "    .dataframe tbody tr th {\n",
              "        vertical-align: top;\n",
              "    }\n",
              "\n",
              "    .dataframe thead th {\n",
              "        text-align: right;\n",
              "    }\n",
              "</style>\n",
              "<table border=\"1\" class=\"dataframe\">\n",
              "  <thead>\n",
              "    <tr style=\"text-align: right;\">\n",
              "      <th></th>\n",
              "      <th>A</th>\n",
              "      <th>B</th>\n",
              "      <th>C</th>\n",
              "      <th>D</th>\n",
              "    </tr>\n",
              "  </thead>\n",
              "  <tbody>\n",
              "    <tr>\n",
              "      <th>0</th>\n",
              "      <td>A0</td>\n",
              "      <td>B0</td>\n",
              "      <td>C0</td>\n",
              "      <td>D0</td>\n",
              "    </tr>\n",
              "    <tr>\n",
              "      <th>1</th>\n",
              "      <td>A1</td>\n",
              "      <td>B1</td>\n",
              "      <td>C1</td>\n",
              "      <td>D1</td>\n",
              "    </tr>\n",
              "    <tr>\n",
              "      <th>2</th>\n",
              "      <td>A2</td>\n",
              "      <td>B2</td>\n",
              "      <td>C2</td>\n",
              "      <td>D2</td>\n",
              "    </tr>\n",
              "    <tr>\n",
              "      <th>3</th>\n",
              "      <td>A3</td>\n",
              "      <td>B3</td>\n",
              "      <td>C3</td>\n",
              "      <td>D3</td>\n",
              "    </tr>\n",
              "    <tr>\n",
              "      <th>8</th>\n",
              "      <td>A8</td>\n",
              "      <td>B8</td>\n",
              "      <td>C8</td>\n",
              "      <td>D8</td>\n",
              "    </tr>\n",
              "    <tr>\n",
              "      <th>9</th>\n",
              "      <td>A9</td>\n",
              "      <td>B9</td>\n",
              "      <td>C9</td>\n",
              "      <td>D9</td>\n",
              "    </tr>\n",
              "    <tr>\n",
              "      <th>10</th>\n",
              "      <td>A10</td>\n",
              "      <td>B10</td>\n",
              "      <td>C10</td>\n",
              "      <td>D10</td>\n",
              "    </tr>\n",
              "    <tr>\n",
              "      <th>11</th>\n",
              "      <td>A11</td>\n",
              "      <td>B11</td>\n",
              "      <td>C11</td>\n",
              "      <td>D11</td>\n",
              "    </tr>\n",
              "    <tr>\n",
              "      <th>8</th>\n",
              "      <td>A8</td>\n",
              "      <td>B8</td>\n",
              "      <td>C8</td>\n",
              "      <td>D8</td>\n",
              "    </tr>\n",
              "    <tr>\n",
              "      <th>9</th>\n",
              "      <td>A9</td>\n",
              "      <td>B9</td>\n",
              "      <td>C9</td>\n",
              "      <td>D9</td>\n",
              "    </tr>\n",
              "    <tr>\n",
              "      <th>10</th>\n",
              "      <td>A10</td>\n",
              "      <td>B10</td>\n",
              "      <td>C10</td>\n",
              "      <td>D10</td>\n",
              "    </tr>\n",
              "    <tr>\n",
              "      <th>11</th>\n",
              "      <td>A11</td>\n",
              "      <td>B11</td>\n",
              "      <td>C11</td>\n",
              "      <td>D11</td>\n",
              "    </tr>\n",
              "  </tbody>\n",
              "</table>\n",
              "</div>"
            ],
            "text/plain": [
              "      A    B    C    D\n",
              "0    A0   B0   C0   D0\n",
              "1    A1   B1   C1   D1\n",
              "2    A2   B2   C2   D2\n",
              "3    A3   B3   C3   D3\n",
              "8    A8   B8   C8   D8\n",
              "9    A9   B9   C9   D9\n",
              "10  A10  B10  C10  D10\n",
              "11  A11  B11  C11  D11\n",
              "8    A8   B8   C8   D8\n",
              "9    A9   B9   C9   D9\n",
              "10  A10  B10  C10  D10\n",
              "11  A11  B11  C11  D11"
            ]
          },
          "execution_count": 148,
          "metadata": {},
          "output_type": "execute_result"
        }
      ],
      "source": [
        "pd.concat([df1, df3, df3], axis=0)"
      ]
    },
    {
      "cell_type": "markdown",
      "id": "eefa08b2",
      "metadata": {
        "id": "eefa08b2"
      },
      "source": [
        "This operation can also be performed using the `.append` method of a dataframe."
      ]
    },
    {
      "cell_type": "code",
      "execution_count": null,
      "id": "2e4866ce",
      "metadata": {
        "id": "2e4866ce",
        "outputId": "62249390-288a-41c6-e803-fb05544a8890"
      },
      "outputs": [
        {
          "data": {
            "text/html": [
              "<div>\n",
              "<style scoped>\n",
              "    .dataframe tbody tr th:only-of-type {\n",
              "        vertical-align: middle;\n",
              "    }\n",
              "\n",
              "    .dataframe tbody tr th {\n",
              "        vertical-align: top;\n",
              "    }\n",
              "\n",
              "    .dataframe thead th {\n",
              "        text-align: right;\n",
              "    }\n",
              "</style>\n",
              "<table border=\"1\" class=\"dataframe\">\n",
              "  <thead>\n",
              "    <tr style=\"text-align: right;\">\n",
              "      <th></th>\n",
              "      <th>A</th>\n",
              "      <th>B</th>\n",
              "      <th>C</th>\n",
              "      <th>D</th>\n",
              "    </tr>\n",
              "  </thead>\n",
              "  <tbody>\n",
              "    <tr>\n",
              "      <th>0</th>\n",
              "      <td>A0</td>\n",
              "      <td>B0</td>\n",
              "      <td>C0</td>\n",
              "      <td>D0</td>\n",
              "    </tr>\n",
              "    <tr>\n",
              "      <th>1</th>\n",
              "      <td>A1</td>\n",
              "      <td>B1</td>\n",
              "      <td>C1</td>\n",
              "      <td>D1</td>\n",
              "    </tr>\n",
              "    <tr>\n",
              "      <th>2</th>\n",
              "      <td>A2</td>\n",
              "      <td>B2</td>\n",
              "      <td>C2</td>\n",
              "      <td>D2</td>\n",
              "    </tr>\n",
              "    <tr>\n",
              "      <th>3</th>\n",
              "      <td>A3</td>\n",
              "      <td>B3</td>\n",
              "      <td>C3</td>\n",
              "      <td>D3</td>\n",
              "    </tr>\n",
              "    <tr>\n",
              "      <th>4</th>\n",
              "      <td>A4</td>\n",
              "      <td>B4</td>\n",
              "      <td>C4</td>\n",
              "      <td>D4</td>\n",
              "    </tr>\n",
              "    <tr>\n",
              "      <th>5</th>\n",
              "      <td>A5</td>\n",
              "      <td>B5</td>\n",
              "      <td>C5</td>\n",
              "      <td>D5</td>\n",
              "    </tr>\n",
              "    <tr>\n",
              "      <th>6</th>\n",
              "      <td>A6</td>\n",
              "      <td>B6</td>\n",
              "      <td>C6</td>\n",
              "      <td>D6</td>\n",
              "    </tr>\n",
              "    <tr>\n",
              "      <th>7</th>\n",
              "      <td>A7</td>\n",
              "      <td>B7</td>\n",
              "      <td>C7</td>\n",
              "      <td>D7</td>\n",
              "    </tr>\n",
              "    <tr>\n",
              "      <th>8</th>\n",
              "      <td>A8</td>\n",
              "      <td>B8</td>\n",
              "      <td>C8</td>\n",
              "      <td>D8</td>\n",
              "    </tr>\n",
              "    <tr>\n",
              "      <th>9</th>\n",
              "      <td>A9</td>\n",
              "      <td>B9</td>\n",
              "      <td>C9</td>\n",
              "      <td>D9</td>\n",
              "    </tr>\n",
              "    <tr>\n",
              "      <th>10</th>\n",
              "      <td>A10</td>\n",
              "      <td>B10</td>\n",
              "      <td>C10</td>\n",
              "      <td>D10</td>\n",
              "    </tr>\n",
              "    <tr>\n",
              "      <th>11</th>\n",
              "      <td>A11</td>\n",
              "      <td>B11</td>\n",
              "      <td>C11</td>\n",
              "      <td>D11</td>\n",
              "    </tr>\n",
              "  </tbody>\n",
              "</table>\n",
              "</div>"
            ],
            "text/plain": [
              "      A    B    C    D\n",
              "0    A0   B0   C0   D0\n",
              "1    A1   B1   C1   D1\n",
              "2    A2   B2   C2   D2\n",
              "3    A3   B3   C3   D3\n",
              "4    A4   B4   C4   D4\n",
              "5    A5   B5   C5   D5\n",
              "6    A6   B6   C6   D6\n",
              "7    A7   B7   C7   D7\n",
              "8    A8   B8   C8   D8\n",
              "9    A9   B9   C9   D9\n",
              "10  A10  B10  C10  D10\n",
              "11  A11  B11  C11  D11"
            ]
          },
          "execution_count": 149,
          "metadata": {},
          "output_type": "execute_result"
        }
      ],
      "source": [
        "df1.append([df2, df3])"
      ]
    },
    {
      "cell_type": "markdown",
      "id": "4b31240b",
      "metadata": {
        "id": "4b31240b"
      },
      "source": [
        "> **EXERCISE**: Remove the column `D` from `df3`. How does it affect the result of vertical concatenation? Try passing the argument `join=\"inner\"` to `pd.concat`. Do you observe any change?"
      ]
    },
    {
      "cell_type": "code",
      "execution_count": null,
      "id": "b08c568a",
      "metadata": {
        "id": "b08c568a"
      },
      "outputs": [],
      "source": [
        ""
      ]
    },
    {
      "cell_type": "code",
      "execution_count": null,
      "id": "618575b3",
      "metadata": {
        "id": "618575b3"
      },
      "outputs": [],
      "source": [
        ""
      ]
    },
    {
      "cell_type": "code",
      "execution_count": null,
      "id": "83ddd8d3",
      "metadata": {
        "id": "83ddd8d3"
      },
      "outputs": [],
      "source": [
        ""
      ]
    },
    {
      "cell_type": "markdown",
      "id": "e8e9ad52",
      "metadata": {
        "id": "e8e9ad52"
      },
      "source": [
        "> **EXERCISE**: Create two dataframes that don't have any common columns and concatenate them vertically. What do you observe? Try providing the arguments `join=\"outer\"` and `join=\"inner\"`. How do they affect the results?"
      ]
    },
    {
      "cell_type": "code",
      "execution_count": null,
      "id": "0fca9c31",
      "metadata": {
        "id": "0fca9c31"
      },
      "outputs": [],
      "source": [
        ""
      ]
    },
    {
      "cell_type": "code",
      "execution_count": null,
      "id": "e6aec8c7",
      "metadata": {
        "id": "e6aec8c7"
      },
      "outputs": [],
      "source": [
        ""
      ]
    },
    {
      "cell_type": "markdown",
      "id": "94a58ede",
      "metadata": {
        "id": "94a58ede"
      },
      "source": [
        "> **EXERCISE**: Explore the arguments supported by `pd.concat` and come up with some examples to demonstrate the purpose of each argument."
      ]
    },
    {
      "cell_type": "code",
      "execution_count": null,
      "id": "9b1609dc",
      "metadata": {
        "id": "9b1609dc"
      },
      "outputs": [],
      "source": [
        ""
      ]
    },
    {
      "cell_type": "code",
      "execution_count": null,
      "id": "f008510d",
      "metadata": {
        "id": "f008510d"
      },
      "outputs": [],
      "source": [
        ""
      ]
    },
    {
      "cell_type": "code",
      "execution_count": null,
      "id": "61e9dfc2",
      "metadata": {
        "id": "61e9dfc2"
      },
      "outputs": [],
      "source": [
        ""
      ]
    },
    {
      "cell_type": "markdown",
      "id": "de4d73f7",
      "metadata": {
        "id": "de4d73f7"
      },
      "source": [
        "Concatenation can also be performed horizontally by providing the argument `axis=1` to `pd.concat`. Rows are lined up together using the index.\n",
        "\n"
      ]
    },
    {
      "cell_type": "code",
      "execution_count": null,
      "id": "3622e2c2",
      "metadata": {
        "id": "3622e2c2",
        "outputId": "a532de02-2b9d-4320-8b5a-494199335fa8"
      },
      "outputs": [
        {
          "data": {
            "text/html": [
              "<div>\n",
              "<style scoped>\n",
              "    .dataframe tbody tr th:only-of-type {\n",
              "        vertical-align: middle;\n",
              "    }\n",
              "\n",
              "    .dataframe tbody tr th {\n",
              "        vertical-align: top;\n",
              "    }\n",
              "\n",
              "    .dataframe thead th {\n",
              "        text-align: right;\n",
              "    }\n",
              "</style>\n",
              "<table border=\"1\" class=\"dataframe\">\n",
              "  <thead>\n",
              "    <tr style=\"text-align: right;\">\n",
              "      <th></th>\n",
              "      <th>A</th>\n",
              "      <th>B</th>\n",
              "      <th>C</th>\n",
              "      <th>D</th>\n",
              "    </tr>\n",
              "  </thead>\n",
              "  <tbody>\n",
              "    <tr>\n",
              "      <th>0</th>\n",
              "      <td>A0</td>\n",
              "      <td>B0</td>\n",
              "      <td>C0</td>\n",
              "      <td>D0</td>\n",
              "    </tr>\n",
              "    <tr>\n",
              "      <th>1</th>\n",
              "      <td>A1</td>\n",
              "      <td>B1</td>\n",
              "      <td>C1</td>\n",
              "      <td>D1</td>\n",
              "    </tr>\n",
              "    <tr>\n",
              "      <th>2</th>\n",
              "      <td>A2</td>\n",
              "      <td>B2</td>\n",
              "      <td>C2</td>\n",
              "      <td>D2</td>\n",
              "    </tr>\n",
              "    <tr>\n",
              "      <th>3</th>\n",
              "      <td>A3</td>\n",
              "      <td>B3</td>\n",
              "      <td>C3</td>\n",
              "      <td>D3</td>\n",
              "    </tr>\n",
              "  </tbody>\n",
              "</table>\n",
              "</div>"
            ],
            "text/plain": [
              "    A   B   C   D\n",
              "0  A0  B0  C0  D0\n",
              "1  A1  B1  C1  D1\n",
              "2  A2  B2  C2  D2\n",
              "3  A3  B3  C3  D3"
            ]
          },
          "execution_count": 150,
          "metadata": {},
          "output_type": "execute_result"
        }
      ],
      "source": [
        "df1 = pd.DataFrame(\n",
        "    {\n",
        "         \"A\": [\"A0\", \"A1\", \"A2\", \"A3\"],\n",
        "         \"B\": [\"B0\", \"B1\", \"B2\", \"B3\"],\n",
        "         \"C\": [\"C0\", \"C1\", \"C2\", \"C3\"],\n",
        "         \"D\": [\"D0\", \"D1\", \"D2\", \"D3\"],\n",
        "    }, index=[0, 1, 2, 3])\n",
        "\n",
        "df1"
      ]
    },
    {
      "cell_type": "code",
      "execution_count": null,
      "id": "0bba8024",
      "metadata": {
        "id": "0bba8024",
        "outputId": "af297d63-15ab-4232-b599-e355f0ddac88"
      },
      "outputs": [
        {
          "data": {
            "text/html": [
              "<div>\n",
              "<style scoped>\n",
              "    .dataframe tbody tr th:only-of-type {\n",
              "        vertical-align: middle;\n",
              "    }\n",
              "\n",
              "    .dataframe tbody tr th {\n",
              "        vertical-align: top;\n",
              "    }\n",
              "\n",
              "    .dataframe thead th {\n",
              "        text-align: right;\n",
              "    }\n",
              "</style>\n",
              "<table border=\"1\" class=\"dataframe\">\n",
              "  <thead>\n",
              "    <tr style=\"text-align: right;\">\n",
              "      <th></th>\n",
              "      <th>B</th>\n",
              "      <th>D</th>\n",
              "      <th>F</th>\n",
              "    </tr>\n",
              "  </thead>\n",
              "  <tbody>\n",
              "    <tr>\n",
              "      <th>2</th>\n",
              "      <td>B2</td>\n",
              "      <td>D2</td>\n",
              "      <td>F2</td>\n",
              "    </tr>\n",
              "    <tr>\n",
              "      <th>3</th>\n",
              "      <td>B3</td>\n",
              "      <td>D3</td>\n",
              "      <td>F3</td>\n",
              "    </tr>\n",
              "    <tr>\n",
              "      <th>6</th>\n",
              "      <td>B6</td>\n",
              "      <td>D6</td>\n",
              "      <td>F6</td>\n",
              "    </tr>\n",
              "    <tr>\n",
              "      <th>7</th>\n",
              "      <td>B7</td>\n",
              "      <td>D7</td>\n",
              "      <td>F7</td>\n",
              "    </tr>\n",
              "  </tbody>\n",
              "</table>\n",
              "</div>"
            ],
            "text/plain": [
              "    B   D   F\n",
              "2  B2  D2  F2\n",
              "3  B3  D3  F3\n",
              "6  B6  D6  F6\n",
              "7  B7  D7  F7"
            ]
          },
          "execution_count": 151,
          "metadata": {},
          "output_type": "execute_result"
        }
      ],
      "source": [
        "df4 = pd.DataFrame(\n",
        "    {\n",
        "        \"B\": [\"B2\", \"B3\", \"B6\", \"B7\"],\n",
        "        \"D\": [\"D2\", \"D3\", \"D6\", \"D7\"],\n",
        "        \"F\": [\"F2\", \"F3\", \"F6\", \"F7\"],\n",
        "    }, index=[2, 3, 6, 7])\n",
        "\n",
        "df4"
      ]
    },
    {
      "cell_type": "code",
      "execution_count": null,
      "id": "81084408",
      "metadata": {
        "id": "81084408",
        "outputId": "ffc5ca95-bef3-4662-964d-c0f6603ab286"
      },
      "outputs": [
        {
          "data": {
            "text/html": [
              "<div>\n",
              "<style scoped>\n",
              "    .dataframe tbody tr th:only-of-type {\n",
              "        vertical-align: middle;\n",
              "    }\n",
              "\n",
              "    .dataframe tbody tr th {\n",
              "        vertical-align: top;\n",
              "    }\n",
              "\n",
              "    .dataframe thead th {\n",
              "        text-align: right;\n",
              "    }\n",
              "</style>\n",
              "<table border=\"1\" class=\"dataframe\">\n",
              "  <thead>\n",
              "    <tr style=\"text-align: right;\">\n",
              "      <th></th>\n",
              "      <th>A</th>\n",
              "      <th>B</th>\n",
              "      <th>C</th>\n",
              "      <th>D</th>\n",
              "      <th>B</th>\n",
              "      <th>D</th>\n",
              "      <th>F</th>\n",
              "    </tr>\n",
              "  </thead>\n",
              "  <tbody>\n",
              "    <tr>\n",
              "      <th>0</th>\n",
              "      <td>A0</td>\n",
              "      <td>B0</td>\n",
              "      <td>C0</td>\n",
              "      <td>D0</td>\n",
              "      <td>NaN</td>\n",
              "      <td>NaN</td>\n",
              "      <td>NaN</td>\n",
              "    </tr>\n",
              "    <tr>\n",
              "      <th>1</th>\n",
              "      <td>A1</td>\n",
              "      <td>B1</td>\n",
              "      <td>C1</td>\n",
              "      <td>D1</td>\n",
              "      <td>NaN</td>\n",
              "      <td>NaN</td>\n",
              "      <td>NaN</td>\n",
              "    </tr>\n",
              "    <tr>\n",
              "      <th>2</th>\n",
              "      <td>A2</td>\n",
              "      <td>B2</td>\n",
              "      <td>C2</td>\n",
              "      <td>D2</td>\n",
              "      <td>B2</td>\n",
              "      <td>D2</td>\n",
              "      <td>F2</td>\n",
              "    </tr>\n",
              "    <tr>\n",
              "      <th>3</th>\n",
              "      <td>A3</td>\n",
              "      <td>B3</td>\n",
              "      <td>C3</td>\n",
              "      <td>D3</td>\n",
              "      <td>B3</td>\n",
              "      <td>D3</td>\n",
              "      <td>F3</td>\n",
              "    </tr>\n",
              "    <tr>\n",
              "      <th>6</th>\n",
              "      <td>NaN</td>\n",
              "      <td>NaN</td>\n",
              "      <td>NaN</td>\n",
              "      <td>NaN</td>\n",
              "      <td>B6</td>\n",
              "      <td>D6</td>\n",
              "      <td>F6</td>\n",
              "    </tr>\n",
              "    <tr>\n",
              "      <th>7</th>\n",
              "      <td>NaN</td>\n",
              "      <td>NaN</td>\n",
              "      <td>NaN</td>\n",
              "      <td>NaN</td>\n",
              "      <td>B7</td>\n",
              "      <td>D7</td>\n",
              "      <td>F7</td>\n",
              "    </tr>\n",
              "  </tbody>\n",
              "</table>\n",
              "</div>"
            ],
            "text/plain": [
              "     A    B    C    D    B    D    F\n",
              "0   A0   B0   C0   D0  NaN  NaN  NaN\n",
              "1   A1   B1   C1   D1  NaN  NaN  NaN\n",
              "2   A2   B2   C2   D2   B2   D2   F2\n",
              "3   A3   B3   C3   D3   B3   D3   F3\n",
              "6  NaN  NaN  NaN  NaN   B6   D6   F6\n",
              "7  NaN  NaN  NaN  NaN   B7   D7   F7"
            ]
          },
          "execution_count": 152,
          "metadata": {},
          "output_type": "execute_result"
        }
      ],
      "source": [
        "pd.concat([df1, df4], axis=1)"
      ]
    },
    {
      "cell_type": "markdown",
      "id": "9dab6d5f",
      "metadata": {
        "id": "9dab6d5f"
      },
      "source": [
        "`pd.concat` performs an \"outer\" join by default, which retains all the indexes from both data frames. An \"inner\" join only retains the common indices."
      ]
    },
    {
      "cell_type": "code",
      "execution_count": null,
      "id": "e13d7097",
      "metadata": {
        "id": "e13d7097",
        "outputId": "9b58c530-c068-4614-ae18-5ce2187a7b17"
      },
      "outputs": [
        {
          "data": {
            "text/html": [
              "<div>\n",
              "<style scoped>\n",
              "    .dataframe tbody tr th:only-of-type {\n",
              "        vertical-align: middle;\n",
              "    }\n",
              "\n",
              "    .dataframe tbody tr th {\n",
              "        vertical-align: top;\n",
              "    }\n",
              "\n",
              "    .dataframe thead th {\n",
              "        text-align: right;\n",
              "    }\n",
              "</style>\n",
              "<table border=\"1\" class=\"dataframe\">\n",
              "  <thead>\n",
              "    <tr style=\"text-align: right;\">\n",
              "      <th></th>\n",
              "      <th>A</th>\n",
              "      <th>B</th>\n",
              "      <th>C</th>\n",
              "      <th>D</th>\n",
              "      <th>B</th>\n",
              "      <th>D</th>\n",
              "      <th>F</th>\n",
              "    </tr>\n",
              "  </thead>\n",
              "  <tbody>\n",
              "    <tr>\n",
              "      <th>2</th>\n",
              "      <td>A2</td>\n",
              "      <td>B2</td>\n",
              "      <td>C2</td>\n",
              "      <td>D2</td>\n",
              "      <td>B2</td>\n",
              "      <td>D2</td>\n",
              "      <td>F2</td>\n",
              "    </tr>\n",
              "    <tr>\n",
              "      <th>3</th>\n",
              "      <td>A3</td>\n",
              "      <td>B3</td>\n",
              "      <td>C3</td>\n",
              "      <td>D3</td>\n",
              "      <td>B3</td>\n",
              "      <td>D3</td>\n",
              "      <td>F3</td>\n",
              "    </tr>\n",
              "  </tbody>\n",
              "</table>\n",
              "</div>"
            ],
            "text/plain": [
              "    A   B   C   D   B   D   F\n",
              "2  A2  B2  C2  D2  B2  D2  F2\n",
              "3  A3  B3  C3  D3  B3  D3  F3"
            ]
          },
          "execution_count": 153,
          "metadata": {},
          "output_type": "execute_result"
        }
      ],
      "source": [
        "pd.concat([df1, df4], axis=1, join=\"inner\")"
      ]
    },
    {
      "cell_type": "markdown",
      "id": "5ebb4d79",
      "metadata": {
        "id": "5ebb4d79"
      },
      "source": [
        "Learn more about dataframe concatenation here: https://pandas.pydata.org/pandas-docs/stable/user_guide/merging.html#concatenating-objects"
      ]
    },
    {
      "cell_type": "code",
      "execution_count": null,
      "id": "58516bdc",
      "metadata": {
        "id": "58516bdc",
        "outputId": "2344c9e9-b18f-409b-85a4-c50fcae11584"
      },
      "outputs": [
        {
          "data": {
            "application/javascript": [
              "window.require && require([\"base/js/namespace\"],function(Jupyter){Jupyter.notebook.save_checkpoint()})"
            ],
            "text/plain": [
              "<IPython.core.display.Javascript object>"
            ]
          },
          "metadata": {},
          "output_type": "display_data"
        },
        {
          "name": "stdout",
          "output_type": "stream",
          "text": [
            "[jovian] Attempting to save notebook..\u001b[0m\n",
            "[jovian] Updating notebook \"aakashns/advanced-data-analysis-pandas\" on https://jovian.ai/\u001b[0m\n",
            "[jovian] Uploading notebook..\u001b[0m\n",
            "[jovian] Capturing environment..\u001b[0m\n",
            "[jovian] Committed successfully! https://jovian.ai/aakashns/advanced-data-analysis-pandas\u001b[0m\n"
          ]
        },
        {
          "data": {
            "text/plain": [
              "'https://jovian.ai/aakashns/advanced-data-analysis-pandas'"
            ]
          },
          "execution_count": 154,
          "metadata": {},
          "output_type": "execute_result"
        }
      ],
      "source": [
        "jovian.commit()"
      ]
    },
    {
      "cell_type": "markdown",
      "id": "2241b4cd",
      "metadata": {
        "id": "2241b4cd"
      },
      "source": [
        "### Merging\n",
        "\n",
        "Two Pandas dataframes can be merged together row-wise using one more columns using the `.merge` method of a dataframe. A merge can be peformed in several ways:\n",
        "\n",
        "![](https://i.imgur.com/p2fXTFs.png)"
      ]
    },
    {
      "cell_type": "markdown",
      "id": "8ead2639",
      "metadata": {
        "id": "8ead2639"
      },
      "source": [
        "> **EXERCISE**: Demonstrate the four types of join listed above using the following dataframes. Use the `key` column for merging"
      ]
    },
    {
      "cell_type": "code",
      "execution_count": null,
      "id": "cb00e7a8",
      "metadata": {
        "id": "cb00e7a8"
      },
      "outputs": [],
      "source": [
        "left = pd.DataFrame(\n",
        "    {\n",
        "        \"key\": [\"K0\", \"K1\", \"K2\", \"K3\"],\n",
        "        \"A\": [\"A0\", \"A1\", \"A2\", \"A3\"],\n",
        "        \"B\": [\"B0\", \"B1\", \"B2\", \"B3\"],\n",
        "    })\n",
        "\n",
        "right = pd.DataFrame(\n",
        "    {\n",
        "        \"key\": [\"K0\", \"K1\", \"K4\", \"K5\"],\n",
        "        \"C\": [\"C0\", \"C1\", \"C2\", \"C3\"],\n",
        "        \"D\": [\"D0\", \"D1\", \"D2\", \"D3\"],\n",
        "    })"
      ]
    },
    {
      "cell_type": "code",
      "execution_count": null,
      "id": "06b434f3",
      "metadata": {
        "id": "06b434f3",
        "outputId": "c2d1092a-d7d7-4939-ab63-804362a9814f"
      },
      "outputs": [
        {
          "data": {
            "text/html": [
              "<div>\n",
              "<style scoped>\n",
              "    .dataframe tbody tr th:only-of-type {\n",
              "        vertical-align: middle;\n",
              "    }\n",
              "\n",
              "    .dataframe tbody tr th {\n",
              "        vertical-align: top;\n",
              "    }\n",
              "\n",
              "    .dataframe thead th {\n",
              "        text-align: right;\n",
              "    }\n",
              "</style>\n",
              "<table border=\"1\" class=\"dataframe\">\n",
              "  <thead>\n",
              "    <tr style=\"text-align: right;\">\n",
              "      <th></th>\n",
              "      <th>key</th>\n",
              "      <th>A</th>\n",
              "      <th>B</th>\n",
              "    </tr>\n",
              "  </thead>\n",
              "  <tbody>\n",
              "    <tr>\n",
              "      <th>0</th>\n",
              "      <td>K0</td>\n",
              "      <td>A0</td>\n",
              "      <td>B0</td>\n",
              "    </tr>\n",
              "    <tr>\n",
              "      <th>1</th>\n",
              "      <td>K1</td>\n",
              "      <td>A1</td>\n",
              "      <td>B1</td>\n",
              "    </tr>\n",
              "    <tr>\n",
              "      <th>2</th>\n",
              "      <td>K2</td>\n",
              "      <td>A2</td>\n",
              "      <td>B2</td>\n",
              "    </tr>\n",
              "    <tr>\n",
              "      <th>3</th>\n",
              "      <td>K3</td>\n",
              "      <td>A3</td>\n",
              "      <td>B3</td>\n",
              "    </tr>\n",
              "  </tbody>\n",
              "</table>\n",
              "</div>"
            ],
            "text/plain": [
              "  key   A   B\n",
              "0  K0  A0  B0\n",
              "1  K1  A1  B1\n",
              "2  K2  A2  B2\n",
              "3  K3  A3  B3"
            ]
          },
          "execution_count": 156,
          "metadata": {},
          "output_type": "execute_result"
        }
      ],
      "source": [
        "left"
      ]
    },
    {
      "cell_type": "code",
      "execution_count": null,
      "id": "6753f3a8",
      "metadata": {
        "id": "6753f3a8",
        "outputId": "34145862-fd8f-48eb-98bd-9d832459fcbe"
      },
      "outputs": [
        {
          "data": {
            "text/html": [
              "<div>\n",
              "<style scoped>\n",
              "    .dataframe tbody tr th:only-of-type {\n",
              "        vertical-align: middle;\n",
              "    }\n",
              "\n",
              "    .dataframe tbody tr th {\n",
              "        vertical-align: top;\n",
              "    }\n",
              "\n",
              "    .dataframe thead th {\n",
              "        text-align: right;\n",
              "    }\n",
              "</style>\n",
              "<table border=\"1\" class=\"dataframe\">\n",
              "  <thead>\n",
              "    <tr style=\"text-align: right;\">\n",
              "      <th></th>\n",
              "      <th>key</th>\n",
              "      <th>C</th>\n",
              "      <th>D</th>\n",
              "    </tr>\n",
              "  </thead>\n",
              "  <tbody>\n",
              "    <tr>\n",
              "      <th>0</th>\n",
              "      <td>K0</td>\n",
              "      <td>C0</td>\n",
              "      <td>D0</td>\n",
              "    </tr>\n",
              "    <tr>\n",
              "      <th>1</th>\n",
              "      <td>K1</td>\n",
              "      <td>C1</td>\n",
              "      <td>D1</td>\n",
              "    </tr>\n",
              "    <tr>\n",
              "      <th>2</th>\n",
              "      <td>K4</td>\n",
              "      <td>C2</td>\n",
              "      <td>D2</td>\n",
              "    </tr>\n",
              "    <tr>\n",
              "      <th>3</th>\n",
              "      <td>K5</td>\n",
              "      <td>C3</td>\n",
              "      <td>D3</td>\n",
              "    </tr>\n",
              "  </tbody>\n",
              "</table>\n",
              "</div>"
            ],
            "text/plain": [
              "  key   C   D\n",
              "0  K0  C0  D0\n",
              "1  K1  C1  D1\n",
              "2  K4  C2  D2\n",
              "3  K5  C3  D3"
            ]
          },
          "execution_count": 157,
          "metadata": {},
          "output_type": "execute_result"
        }
      ],
      "source": [
        "right"
      ]
    },
    {
      "cell_type": "code",
      "execution_count": null,
      "id": "fea8691f",
      "metadata": {
        "id": "fea8691f",
        "outputId": "3243cc3a-154b-40ca-f2f3-d0760c6678bf"
      },
      "outputs": [
        {
          "data": {
            "text/html": [
              "<div>\n",
              "<style scoped>\n",
              "    .dataframe tbody tr th:only-of-type {\n",
              "        vertical-align: middle;\n",
              "    }\n",
              "\n",
              "    .dataframe tbody tr th {\n",
              "        vertical-align: top;\n",
              "    }\n",
              "\n",
              "    .dataframe thead th {\n",
              "        text-align: right;\n",
              "    }\n",
              "</style>\n",
              "<table border=\"1\" class=\"dataframe\">\n",
              "  <thead>\n",
              "    <tr style=\"text-align: right;\">\n",
              "      <th></th>\n",
              "      <th>key</th>\n",
              "      <th>A</th>\n",
              "      <th>B</th>\n",
              "      <th>C</th>\n",
              "      <th>D</th>\n",
              "    </tr>\n",
              "  </thead>\n",
              "  <tbody>\n",
              "    <tr>\n",
              "      <th>0</th>\n",
              "      <td>K0</td>\n",
              "      <td>A0</td>\n",
              "      <td>B0</td>\n",
              "      <td>C0</td>\n",
              "      <td>D0</td>\n",
              "    </tr>\n",
              "    <tr>\n",
              "      <th>1</th>\n",
              "      <td>K1</td>\n",
              "      <td>A1</td>\n",
              "      <td>B1</td>\n",
              "      <td>C1</td>\n",
              "      <td>D1</td>\n",
              "    </tr>\n",
              "  </tbody>\n",
              "</table>\n",
              "</div>"
            ],
            "text/plain": [
              "  key   A   B   C   D\n",
              "0  K0  A0  B0  C0  D0\n",
              "1  K1  A1  B1  C1  D1"
            ]
          },
          "execution_count": 158,
          "metadata": {},
          "output_type": "execute_result"
        }
      ],
      "source": [
        "# Inner join\n",
        "pd.merge(left, right, how=\"inner\", on=\"key\")"
      ]
    },
    {
      "cell_type": "code",
      "execution_count": null,
      "id": "3678b72d",
      "metadata": {
        "id": "3678b72d"
      },
      "outputs": [],
      "source": [
        "# Left join\n"
      ]
    },
    {
      "cell_type": "code",
      "execution_count": null,
      "id": "3d1023d7",
      "metadata": {
        "id": "3d1023d7"
      },
      "outputs": [],
      "source": [
        "# Right join\n"
      ]
    },
    {
      "cell_type": "code",
      "execution_count": null,
      "id": "6e6c722f",
      "metadata": {
        "id": "6e6c722f"
      },
      "outputs": [],
      "source": [
        "# Outer join\n"
      ]
    },
    {
      "cell_type": "markdown",
      "id": "e6c082f5",
      "metadata": {
        "id": "e6c082f5"
      },
      "source": [
        "> **EXERCISE**: Show an example of merging two dataframes on two columns.\n",
        "> \n",
        "> *Hint*: Read the docs: https://pandas.pydata.org/pandas-docs/stable/user_guide/merging.html#database-style-dataframe-or-named-series-joining-merging"
      ]
    },
    {
      "cell_type": "code",
      "execution_count": null,
      "id": "948d093d",
      "metadata": {
        "id": "948d093d"
      },
      "outputs": [],
      "source": [
        ""
      ]
    },
    {
      "cell_type": "code",
      "execution_count": null,
      "id": "d9398442",
      "metadata": {
        "id": "d9398442"
      },
      "outputs": [],
      "source": [
        ""
      ]
    },
    {
      "cell_type": "markdown",
      "id": "9dfa6fd9",
      "metadata": {
        "id": "9dfa6fd9"
      },
      "source": [
        "> **EXERCISE**: Look up the documentation for the `pd.join` function. How is it different from `pd.merge`? Demonstrate with examples. Hint: A join is always performed on the index."
      ]
    },
    {
      "cell_type": "code",
      "execution_count": null,
      "id": "9ab8cbad",
      "metadata": {
        "id": "9ab8cbad"
      },
      "outputs": [],
      "source": [
        ""
      ]
    },
    {
      "cell_type": "code",
      "execution_count": null,
      "id": "b2abc58c",
      "metadata": {
        "id": "b2abc58c"
      },
      "outputs": [],
      "source": [
        ""
      ]
    },
    {
      "cell_type": "code",
      "execution_count": null,
      "id": "a7b4bda2",
      "metadata": {
        "id": "a7b4bda2",
        "outputId": "126a0dbd-cdf3-4d8f-d9f1-d95ca7e01298"
      },
      "outputs": [
        {
          "data": {
            "application/javascript": [
              "window.require && require([\"base/js/namespace\"],function(Jupyter){Jupyter.notebook.save_checkpoint()})"
            ],
            "text/plain": [
              "<IPython.core.display.Javascript object>"
            ]
          },
          "metadata": {},
          "output_type": "display_data"
        },
        {
          "name": "stdout",
          "output_type": "stream",
          "text": [
            "[jovian] Attempting to save notebook..\u001b[0m\n",
            "[jovian] Updating notebook \"aakashns/advanced-data-analysis-pandas\" on https://jovian.ai/\u001b[0m\n",
            "[jovian] Uploading notebook..\u001b[0m\n",
            "[jovian] Capturing environment..\u001b[0m\n",
            "[jovian] Committed successfully! https://jovian.ai/aakashns/advanced-data-analysis-pandas\u001b[0m\n"
          ]
        },
        {
          "data": {
            "text/plain": [
              "'https://jovian.ai/aakashns/advanced-data-analysis-pandas'"
            ]
          },
          "execution_count": 164,
          "metadata": {},
          "output_type": "execute_result"
        }
      ],
      "source": [
        "jovian.commit()"
      ]
    },
    {
      "cell_type": "markdown",
      "id": "5f2b7f2a",
      "metadata": {
        "id": "5f2b7f2a"
      },
      "source": [
        "## Summary and Further Reading\n",
        "\n",
        "We've covered the following topics in this tutorial:\n",
        "\n",
        "- Downloading datasets from online sources\n",
        "- Processing massive datasets using Pandas\n",
        "- Handling missing, incorrect & duplicate data\n",
        "- Transforming data with type-specific functions\n",
        "- Techniques for encoding categorical data\n",
        "- Concatenation, merging and comparison\n",
        "\n",
        "As an exercise, you can apply the above to other datasets, from the following sources:\n",
        "\n",
        "- [Kaggle datasets](http://kaggle.com/datasets)\n",
        "- [World Bank Open Data](https://data.worldbank.org)\n",
        "- [Yahoo Finance](https://finance.yahoo.com)\n",
        "- [Google Dataset Search](https://datasetsearch.research.google.com)\n",
        "- [UCI Machine Learning Repository](https://archive.ics.uci.edu/ml/datasets.php)\n",
        "- [FastAI datasets](https://course.fast.ai/datasets)\n",
        "\n",
        "\n",
        "Check out the following resources to learn more:\n",
        "\n",
        "- Working with categorical data in Pandas: https://jovian.ai/himani007/categorical-data-with-pandas\n",
        "- Working with large datasets in Pandas: https://jovian.ai/himani007/pandas1-large-datasets\n",
        "- Python for Data Analysis: https://www.amazon.com/Python-Data-Analysis-Wrangling-IPython-ebook/dp/B075X4LT6K\n",
        "- Pandas API reference: https://pandas.pydata.org/pandas-docs/stable/reference/index.html\n",
        "- Merging Pandas dataframes: https://pandas.pydata.org/pandas-docs/stable/user_guide/merging.html\n",
        "- Advanced Pandas tutorial notebooks: https://www.kaggle.com/residentmario/welcome-to-advanced-pandas\n",
        "- Dask dataframes documentation: https://docs.dask.org/en/latest/dataframe.html\n",
        "- [How to load CSV files 10x faster and use 10x less memory](https://towardsdatascience.com/%EF%B8%8F-load-the-same-csv-file-10x-times-faster-and-with-10x-less-memory-%EF%B8%8F-e93b485086c7)\n"
      ]
    },
    {
      "cell_type": "markdown",
      "id": "1eaca09c",
      "metadata": {
        "id": "1eaca09c"
      },
      "source": [
        "## Questions for Revision\n",
        "\n",
        "1.\tHow do you download a dataset from Kaggle?\n",
        "2.\tHow do you check length of the file on Windows?\n",
        "3.\tWhat is the purpose of `%%time`?\n",
        "4.\tWhat are the different methods and functions you can use to get information about the data in dataframe?\n",
        "5.\tHow to load only the required columns from a large dataset?\n",
        "6.\tWhat is the purpose of using smaller datatype?\n",
        "7.\tHow is `parse_dates` different from `pd.to_datetime`?\n",
        "8.\tWhat are the different formats one can use when loading CSV files for better memory efficiency and faster processing?\n",
        "9.\tHow does working with a sample of your data first help with analysis?\n",
        "10.\tWhat is dask?\n",
        "11.\tWhat is categorical data? How to deal with them during analysis?\n",
        "12.\tWhat is One Hot Encoding?\n",
        "13.\tWhat are the different techniques to handle missing values?\n",
        "14.\tWhy should one be careful when removing duplicates from the data?\n",
        "15.\tWhat are the different methods you can use on numeric, string, and date type data?\n",
        "16.\tHow is `map()` different from `apply()`? \n",
        "17.\tWhat is `applymap()`?\n",
        "18.\tWhat is axis parameter in Pandas?\n",
        "19.\tHow do `join='inner'` and `join='outer'` work?\n",
        "20.\tWhat are the several ways to perform `merge()`?\n",
        "21.\tWhat is `on` parameter in `merge()`?\n",
        "22.\tHow is `concate()` different from `merge()`?"
      ]
    }
  ],
  "metadata": {
    "kernelspec": {
      "display_name": "Python 3",
      "language": "python",
      "name": "python3"
    },
    "language_info": {
      "codemirror_mode": {
        "name": "ipython",
        "version": 3
      },
      "file_extension": ".py",
      "mimetype": "text/x-python",
      "name": "python",
      "nbconvert_exporter": "python",
      "pygments_lexer": "ipython3",
      "version": "3.8.8"
    },
    "colab": {
      "name": "advanced-data-analysis-pandas.ipynb",
      "provenance": [],
      "include_colab_link": true
    }
  },
  "nbformat": 4,
  "nbformat_minor": 5
}